{
 "cells": [
  {
   "cell_type": "markdown",
   "id": "80a355da",
   "metadata": {},
   "source": [
    "# EDA (Exploratory Data Analysis)\n",
    "\n",
    "<p>\n",
    "    <span style=\"font-family:Candara\">\n",
    "        Investigating the dataset visually and statistically to understand its main characteristics. EDA involves creating visualizations, calculating summary statistics, and exploring relationships between variables.\n",
    "    </span>\n",
    "</p>"
   ]
  },
  {
   "cell_type": "markdown",
   "id": "9e8eaeea",
   "metadata": {},
   "source": [
    "<strong>Data Manipulation</strong> and <strong>Data Analysis</strong> is a fundamental skill in data science.\n",
    "\n",
    "- <strong>Data Manipulation</strong> allows analysts and data scientists to work with raw data and prepare it for exploration, analysis, and modeling. <br>It is the process of transforming, cleaning, and organizing raw data into a more meaningful and structured format for analysis. \n",
    "<br>  \n",
    "\n",
    "- <strong>Data Analysis</strong> involves a variety of techniques and methods to uncover patterns, relationships, and trends within datasets. <br>It is the process of inspecting data to discover useful information, and draw conclusions. The ultimate goal of data analysis is to extract meaningful insights to identify trends and patterns and  correlations, and to measure performance, understand customer behavior, and allocate resources effectively. It is a crucial component of various fields, including business, finance, healthcare, social sciences, and more\n",
    "\n",
    "\n",
    "<br>\n",
    "\n",
    "<span style=\"font-family:Candara\"> \n",
    "    <p>Before any in-depth analysis, there are steps that are need to be done after the initial data collection. And one of them is <b>Data Cleaning and Preprocessing.</b>  <br>In this step, we make sure data accuracy and reliability.\n",
    "</span>\n",
    "\n"
   ]
  },
  {
   "cell_type": "markdown",
   "id": "148562b0",
   "metadata": {},
   "source": [
    "<span style=\"font-family:Candara\">\n",
    "    <b>DATA MANIPULATION INVOLVES VARIOUS OPERATIONS, INCLUDING:</b>\n",
    "\n",
    "* <b>Cleaning Data</b>: Identifying and handling errors, missing values, and inconsistencies in the dataset. This may involve filling in missing values, removing duplicates, or correcting errors. \n",
    "<br>\n",
    "\n",
    "* <b>Transforming Data</b>: Changing the format or structure of the data to make it more suitable for analysis. This can include converting data types, scaling values, or creating new variables based on existing ones.\n",
    "<br>\n",
    "    \n",
    "* <b>Aggregating Data</b>: Combining and summarizing data to create a more concise and informative representation. Aggregation may involve calculating sums, averages, counts, or other statistical measures.\n",
    "<br>\n",
    "    \n",
    "* <b>Filtering Data</b>: Selecting a subset of the data based on specific criteria. Filtering is often used to focus on relevant observations or time periods.\n",
    "<br>\n",
    "    \n",
    "* <b>Merging and Joining Data</b>: Combining data from multiple sources to create a unified dataset. This is particularly important when dealing with relational databases or disparate datasets.\n",
    "<br>\n",
    "    \n",
    "* <b>Reshaping Data:</b> Restructuring data from a wide to a long format or vice versa. This can make the data more suitable for certain types of analysis or visualization.\n",
    "<br>\n",
    "\n",
    "* <b>Extracting Information:</b> Retrieving specific pieces of information from the dataset. This can involve extracting text patterns, dates, or other relevant details.\n",
    "<br>\n",
    "    \n",
    "* <b>Handling Dates and Times:</b> Manipulating date and time variables to facilitate temporal analysis. This includes formatting, parsing, and calculating time differences.\n",
    "</span>"
   ]
  },
  {
   "cell_type": "markdown",
   "id": "62e32980",
   "metadata": {},
   "source": [
    "<span style=\"font-family:Candara\">\n",
    "    <b>Here are some key aspects of Preprocessing Data:</b>\n",
    "    \n",
    "* <b>Data Quality Assessment:</b> Assess the overall quality of the dataset by checking for completeness, consistency, accuracy, and timeliness. Identify and handle missing values, outliers, and errors that could affect the reliability of the analysis.\n",
    "    \n",
    "* <b>Addressing Outliers:</b> Identify and evaluate outliers, which are extreme values that may skew the analysis. Decide whether to remove outliers, transform the data, or keep them based on the context of the analysis.\n",
    "    \n",
    "* <b>Data Validation:</b> Check for errors or inconsistencies in the dataset. This involves verifying that data values fall within expected ranges, conform to predefined formats, and adhere to business rules.\n",
    "    \n",
    "* <b>Duplicate Removal:</b> Identify and remove any duplicate records to ensure that each observation in the dataset is unique. Duplicate entries can distort analysis results and lead to inaccurate conclusions.\n",
    "    \n",
    "* <b>Cross-Verification:</b> Cross-verify data with other reliable sources or external datasets to ensure consistency and accuracy. This is especially important when integrating data from multiple sources.\n",
    "    \n",
    "* <b>Data Transformation:</b> Transform variables as needed to improve data accuracy and reliability. This may involve converting data types, standardizing units of measurement, or normalizing values.\n",
    "    \n",
    "</span>"
   ]
  },
  {
   "cell_type": "markdown",
   "id": "a654b108",
   "metadata": {},
   "source": [
    "<span style=\"font-family:Candara\">\n",
    "<b>Key steps in the data analysis process include:</b>\n",
    "\n",
    "* <b>Defining the Problem:</b> Clearly understanding the purpose of the analysis and the questions you want to answer. This involves defining objectives, hypotheses, or key performance indicators.\n",
    "<br>\n",
    "\n",
    "* <b>Data Collection:</b> Gathering relevant data from various sources. This can include structured data from databases, spreadsheets, or APIs, as well as unstructured data from sources like text documents or images.\n",
    "<br>\n",
    "\n",
    "\n",
    "* <b>Data Cleaning and Preprocessing:</b> Addressing issues such as missing values, outliers, and errors in the dataset. This step ensures that the data is accurate, consistent, and suitable for analysis.\n",
    "<br>\n",
    "\n",
    "* <b>Exploratory Data Analysis (EDA):</b> Investigating the dataset visually and statistically to understand its main characteristics. EDA involves creating visualizations, calculating summary statistics, and exploring relationships between variables.\n",
    "<br>\n",
    "\n",
    "* <b>Data Modeling:</b> Applying statistical or machine learning models to the data to identify patterns, make predictions, or gain deeper insights. This step can involve regression analysis, clustering, classification, or other modeling techniques.\n",
    "<br>\n",
    "\n",
    "* <b>Interpretation of Results:</b> Analyzing the outputs of the models and interpreting the findings in the context of the original problem. This step often involves making recommendations or drawing conclusions based on the analysis.\n",
    "<br>\n",
    "\n",
    "* <b>Visualization and Communication:</b> Presenting the results of the analysis in a clear and understandable manner. This may include creating charts, graphs, or reports that effectively communicate the insights to stakeholders.\n",
    "<br>\n",
    "\n",
    "* <b>Iterative Process:</b> Data analysis is often an iterative process. As new information is obtained or the problem is better understood, the analysis may need to be refined or expanded.\n",
    "    \n",
    "</span>"
   ]
  },
  {
   "cell_type": "code",
   "execution_count": 1,
   "id": "b2f0baed",
   "metadata": {},
   "outputs": [],
   "source": [
    "import pandas as pd # importing pandas library for data analysis and data manipulation."
   ]
  },
  {
   "cell_type": "code",
   "execution_count": 2,
   "id": "debabeb8",
   "metadata": {},
   "outputs": [],
   "source": [
    "cricket_rankings = {\n",
    "    'Team' :['Pakistan', 'Australia', 'Pakistan', 'Afghanistan', 'England', 'England','Australia', 'Australia', 'England'],\n",
    "    'Year' :[2010,2008,2022,2022,2022,2010,2022,2010,2008],\n",
    "    'Rank' :[2,1,3,4,2,3,1,1,2]\n",
    "}\n",
    "\n",
    "# Using Dictionary, we created a dataset related to Cricket Sports\n",
    "# The Columns in our dictionary are: Team, Year and Rank\n",
    "\n",
    "# SYNTAX:\n",
    "# dict_name = {\n",
    "#    key: Value,\n",
    "#    key: Value,\n",
    "#        .\n",
    "#        .\n",
    "#    key: Value\n",
    "#}"
   ]
  },
  {
   "cell_type": "code",
   "execution_count": 3,
   "id": "25e8615b",
   "metadata": {},
   "outputs": [
    {
     "data": {
      "text/plain": [
       "{'Team': ['Pakistan',\n",
       "  'Australia',\n",
       "  'Pakistan',\n",
       "  'Afghanistan',\n",
       "  'England',\n",
       "  'England',\n",
       "  'Australia',\n",
       "  'Australia',\n",
       "  'England'],\n",
       " 'Year': [2010, 2008, 2022, 2022, 2022, 2010, 2022, 2010, 2008],\n",
       " 'Rank': [2, 1, 3, 4, 2, 3, 1, 1, 2]}"
      ]
     },
     "execution_count": 3,
     "metadata": {},
     "output_type": "execute_result"
    }
   ],
   "source": [
    "cricket_rankings"
   ]
  },
  {
   "attachments": {
    "image.png": {
     "image/png": "[encoded data removed]"
    }
   },
   "cell_type": "markdown",
   "id": "7a3af064",
   "metadata": {},
   "source": [
    "\n",
    "![image.png](attachment:image.png)\n",
    "\n",
    "We cannot access data in Dictionaries just like we access in Lists or Tuples.\n"
   ]
  },
  {
   "cell_type": "code",
   "execution_count": 4,
   "id": "4e60cc3f",
   "metadata": {},
   "outputs": [
    {
     "data": {
      "text/plain": [
       "['Pakistan',\n",
       " 'Australia',\n",
       " 'Pakistan',\n",
       " 'Afghanistan',\n",
       " 'England',\n",
       " 'England',\n",
       " 'Australia',\n",
       " 'Australia',\n",
       " 'England']"
      ]
     },
     "execution_count": 4,
     "metadata": {},
     "output_type": "execute_result"
    }
   ],
   "source": [
    "cricket_rankings['Team'] # You can write any three of these keys ['Team', 'Year', 'Rank'] to get values."
   ]
  },
  {
   "cell_type": "code",
   "execution_count": 4,
   "id": "8caf1e06",
   "metadata": {},
   "outputs": [
    {
     "data": {
      "text/plain": [
       "'England'"
      ]
     },
     "execution_count": 4,
     "metadata": {},
     "output_type": "execute_result"
    }
   ],
   "source": [
    "cricket_rankings['Team'][5]"
   ]
  },
  {
   "cell_type": "code",
   "execution_count": 6,
   "id": "7cd7e0c3",
   "metadata": {},
   "outputs": [
    {
     "name": "stdout",
     "output_type": "stream",
     "text": [
      "Index\t Team\t Year Rank\n",
      "5\t England 2022 2\n"
     ]
    }
   ],
   "source": [
    "# Print Row 5 Data\n",
    "print('Index\\t Team\\t Year Rank')\n",
    "print('5\\t',cricket_rankings['Team'][4], cricket_rankings['Year'][4],cricket_rankings['Rank'][4])"
   ]
  },
  {
   "cell_type": "code",
   "execution_count": 7,
   "id": "fc410513",
   "metadata": {},
   "outputs": [
    {
     "data": {
      "text/plain": [
       "dict_keys(['Team', 'Year', 'Rank'])"
      ]
     },
     "execution_count": 7,
     "metadata": {},
     "output_type": "execute_result"
    }
   ],
   "source": [
    "cricket_rankings.keys()"
   ]
  },
  {
   "cell_type": "code",
   "execution_count": 8,
   "id": "02e02f32",
   "metadata": {},
   "outputs": [
    {
     "data": {
      "text/plain": [
       "dict_values([['Pakistan', 'Australia', 'Pakistan', 'Afghanistan', 'England', 'England', 'Australia', 'Australia', 'England'], [2010, 2008, 2022, 2022, 2022, 2010, 2022, 2010, 2008], [2, 1, 3, 4, 2, 3, 1, 1, 2]])"
      ]
     },
     "execution_count": 8,
     "metadata": {},
     "output_type": "execute_result"
    }
   ],
   "source": [
    "cricket_rankings.values()"
   ]
  },
  {
   "cell_type": "code",
   "execution_count": 9,
   "id": "479251f9",
   "metadata": {},
   "outputs": [
    {
     "name": "stdout",
     "output_type": "stream",
     "text": [
      "Team -> ['Pakistan', 'Australia', 'Pakistan', 'Afghanistan', 'England', 'England', 'Australia', 'Australia', 'England']\n",
      "Year -> [2010, 2008, 2022, 2022, 2022, 2010, 2022, 2010, 2008]\n",
      "Rank -> [2, 1, 3, 4, 2, 3, 1, 1, 2]\n"
     ]
    }
   ],
   "source": [
    "for key in cricket_rankings:\n",
    "    print(key, \"->\", cricket_rankings[key])"
   ]
  },
  {
   "cell_type": "code",
   "execution_count": 10,
   "id": "c12687fb",
   "metadata": {},
   "outputs": [
    {
     "name": "stdout",
     "output_type": "stream",
     "text": [
      "Team -> ['Pakistan', 'Australia', 'Pakistan', 'Afghanistan', 'England', 'England', 'Australia', 'Australia', 'England']\n",
      "Year -> [2010, 2008, 2022, 2022, 2022, 2010, 2022, 2010, 2008]\n",
      "Rank -> [2, 1, 3, 4, 2, 3, 1, 1, 2]\n"
     ]
    }
   ],
   "source": [
    "for key, value in cricket_rankings.items():\n",
    "    print(key, \"->\", value)"
   ]
  },
  {
   "cell_type": "code",
   "execution_count": 11,
   "id": "ae64226d",
   "metadata": {},
   "outputs": [
    {
     "name": "stdout",
     "output_type": "stream",
     "text": [
      "('Team', ['Pakistan', 'Australia', 'Pakistan', 'Afghanistan', 'England', 'England', 'Australia', 'Australia', 'England'])\n",
      "('Year', [2010, 2008, 2022, 2022, 2022, 2010, 2022, 2010, 2008])\n",
      "('Rank', [2, 1, 3, 4, 2, 3, 1, 1, 2])\n"
     ]
    }
   ],
   "source": [
    "for item in cricket_rankings.items():\n",
    "    print(item)"
   ]
  },
  {
   "cell_type": "code",
   "execution_count": 12,
   "id": "1f48c622",
   "metadata": {},
   "outputs": [
    {
     "data": {
      "text/html": [
       "<div>\n",
       "<style scoped>\n",
       "    .dataframe tbody tr th:only-of-type {\n",
       "        vertical-align: middle;\n",
       "    }\n",
       "\n",
       "    .dataframe tbody tr th {\n",
       "        vertical-align: top;\n",
       "    }\n",
       "\n",
       "    .dataframe thead th {\n",
       "        text-align: right;\n",
       "    }\n",
       "</style>\n",
       "<table border=\"1\" class=\"dataframe\">\n",
       "  <thead>\n",
       "    <tr style=\"text-align: right;\">\n",
       "      <th></th>\n",
       "      <th>Team</th>\n",
       "      <th>Year</th>\n",
       "      <th>Rank</th>\n",
       "    </tr>\n",
       "  </thead>\n",
       "  <tbody>\n",
       "    <tr>\n",
       "      <th>0</th>\n",
       "      <td>Pakistan</td>\n",
       "      <td>2010</td>\n",
       "      <td>2</td>\n",
       "    </tr>\n",
       "    <tr>\n",
       "      <th>1</th>\n",
       "      <td>Australia</td>\n",
       "      <td>2008</td>\n",
       "      <td>1</td>\n",
       "    </tr>\n",
       "    <tr>\n",
       "      <th>2</th>\n",
       "      <td>Pakistan</td>\n",
       "      <td>2022</td>\n",
       "      <td>3</td>\n",
       "    </tr>\n",
       "    <tr>\n",
       "      <th>3</th>\n",
       "      <td>Afghanistan</td>\n",
       "      <td>2022</td>\n",
       "      <td>4</td>\n",
       "    </tr>\n",
       "    <tr>\n",
       "      <th>4</th>\n",
       "      <td>England</td>\n",
       "      <td>2022</td>\n",
       "      <td>2</td>\n",
       "    </tr>\n",
       "    <tr>\n",
       "      <th>5</th>\n",
       "      <td>England</td>\n",
       "      <td>2010</td>\n",
       "      <td>3</td>\n",
       "    </tr>\n",
       "    <tr>\n",
       "      <th>6</th>\n",
       "      <td>Australia</td>\n",
       "      <td>2022</td>\n",
       "      <td>1</td>\n",
       "    </tr>\n",
       "    <tr>\n",
       "      <th>7</th>\n",
       "      <td>Australia</td>\n",
       "      <td>2010</td>\n",
       "      <td>1</td>\n",
       "    </tr>\n",
       "    <tr>\n",
       "      <th>8</th>\n",
       "      <td>England</td>\n",
       "      <td>2008</td>\n",
       "      <td>2</td>\n",
       "    </tr>\n",
       "  </tbody>\n",
       "</table>\n",
       "</div>"
      ],
      "text/plain": [
       "          Team  Year  Rank\n",
       "0     Pakistan  2010     2\n",
       "1    Australia  2008     1\n",
       "2     Pakistan  2022     3\n",
       "3  Afghanistan  2022     4\n",
       "4      England  2022     2\n",
       "5      England  2010     3\n",
       "6    Australia  2022     1\n",
       "7    Australia  2010     1\n",
       "8      England  2008     2"
      ]
     },
     "execution_count": 12,
     "metadata": {},
     "output_type": "execute_result"
    }
   ],
   "source": [
    "# Converting Dictionary into Dataframe using pandas Library\n",
    "cricket_rankings_df = pd.DataFrame(cricket_rankings)\n",
    "\n",
    "\n",
    "cricket_rankings_df\n",
    "# There are 9 Rows/Records/Samples in this dataframe"
   ]
  },
  {
   "attachments": {
    "image-3.png": {
     "image/png": "[encoded data removed]"
    }
   },
   "cell_type": "markdown",
   "id": "8dc5b61e",
   "metadata": {},
   "source": [
    "If you compare both dataframes, which is more simpler to undersatnd If I ask you to tell, How many teams played each year?\n",
    "![image-3.png](attachment:image-3.png)"
   ]
  },
  {
   "cell_type": "code",
   "execution_count": 13,
   "id": "c14d6585",
   "metadata": {},
   "outputs": [
    {
     "data": {
      "text/html": [
       "<div>\n",
       "<style scoped>\n",
       "    .dataframe tbody tr th:only-of-type {\n",
       "        vertical-align: middle;\n",
       "    }\n",
       "\n",
       "    .dataframe tbody tr th {\n",
       "        vertical-align: top;\n",
       "    }\n",
       "\n",
       "    .dataframe thead th {\n",
       "        text-align: right;\n",
       "    }\n",
       "</style>\n",
       "<table border=\"1\" class=\"dataframe\">\n",
       "  <thead>\n",
       "    <tr style=\"text-align: right;\">\n",
       "      <th></th>\n",
       "      <th>Team</th>\n",
       "      <th>Year</th>\n",
       "      <th>Rank</th>\n",
       "    </tr>\n",
       "  </thead>\n",
       "  <tbody>\n",
       "    <tr>\n",
       "      <th>1</th>\n",
       "      <td>Australia</td>\n",
       "      <td>2008</td>\n",
       "      <td>1</td>\n",
       "    </tr>\n",
       "    <tr>\n",
       "      <th>8</th>\n",
       "      <td>England</td>\n",
       "      <td>2008</td>\n",
       "      <td>2</td>\n",
       "    </tr>\n",
       "    <tr>\n",
       "      <th>0</th>\n",
       "      <td>Pakistan</td>\n",
       "      <td>2010</td>\n",
       "      <td>2</td>\n",
       "    </tr>\n",
       "    <tr>\n",
       "      <th>5</th>\n",
       "      <td>England</td>\n",
       "      <td>2010</td>\n",
       "      <td>3</td>\n",
       "    </tr>\n",
       "    <tr>\n",
       "      <th>7</th>\n",
       "      <td>Australia</td>\n",
       "      <td>2010</td>\n",
       "      <td>1</td>\n",
       "    </tr>\n",
       "    <tr>\n",
       "      <th>2</th>\n",
       "      <td>Pakistan</td>\n",
       "      <td>2022</td>\n",
       "      <td>3</td>\n",
       "    </tr>\n",
       "    <tr>\n",
       "      <th>3</th>\n",
       "      <td>Afghanistan</td>\n",
       "      <td>2022</td>\n",
       "      <td>4</td>\n",
       "    </tr>\n",
       "    <tr>\n",
       "      <th>4</th>\n",
       "      <td>England</td>\n",
       "      <td>2022</td>\n",
       "      <td>2</td>\n",
       "    </tr>\n",
       "    <tr>\n",
       "      <th>6</th>\n",
       "      <td>Australia</td>\n",
       "      <td>2022</td>\n",
       "      <td>1</td>\n",
       "    </tr>\n",
       "  </tbody>\n",
       "</table>\n",
       "</div>"
      ],
      "text/plain": [
       "          Team  Year  Rank\n",
       "1    Australia  2008     1\n",
       "8      England  2008     2\n",
       "0     Pakistan  2010     2\n",
       "5      England  2010     3\n",
       "7    Australia  2010     1\n",
       "2     Pakistan  2022     3\n",
       "3  Afghanistan  2022     4\n",
       "4      England  2022     2\n",
       "6    Australia  2022     1"
      ]
     },
     "execution_count": 13,
     "metadata": {},
     "output_type": "execute_result"
    }
   ],
   "source": [
    "# Above data is unsorted. So Lets sort it to make it more simple\n",
    "\n",
    "sorted_cricket_rankings_df = cricket_rankings_df.sort_values(by=['Year'], ascending=True) # If ascending is equal to Fasle it will sort in descending order.\n",
    "sorted_cricket_rankings_df"
   ]
  },
  {
   "cell_type": "code",
   "execution_count": null,
   "id": "abdee431",
   "metadata": {},
   "outputs": [],
   "source": [
    "# Now its Easily Understandable\n",
    "# Let's reset the index and solve the problem of finding number of teams played each year.\n",
    "sorted_cricket_rankings_df.reset_index()"
   ]
  },
  {
   "cell_type": "code",
   "execution_count": null,
   "id": "2228505e",
   "metadata": {
    "scrolled": true
   },
   "outputs": [],
   "source": [
    "# OOPS!! There's a problem. It added an additional Coloumn so let's solve this.\n",
    "sorted_cricket_rankings_df.reset_index(drop=True)"
   ]
  },
  {
   "cell_type": "code",
   "execution_count": null,
   "id": "dfc598ee",
   "metadata": {},
   "outputs": [],
   "source": [
    "# Find Number of Teams Played Each Year (using value_counts)\n",
    "cricket_rankings_count_by_year = sorted_cricket_rankings_df['Year'].value_counts().reset_index()  # value_counts(): it counts the occurrences of unique values in a column and returns a Series with the counts, indexed by the unique values. It is commonly used to explore the distribution of values within a categorical column.\n",
    "cricket_rankings_count_by_year.columns = ['Year', 'TeamCount'] # It is used to rename column names\n",
    "cricket_rankings_count_by_year"
   ]
  },
  {
   "cell_type": "code",
   "execution_count": null,
   "id": "2d13e52e",
   "metadata": {},
   "outputs": [],
   "source": [
    "# Find Number of Teams Played Each Year (using groupby)\n",
    "cricket_rankings_count_by_year = sorted_cricket_rankings_df.groupby('Year')['Team'].nunique().reset_index() # reset_index() function is used to convert the result back to a DataFrame.\n",
    "cricket_rankings_count_by_year"
   ]
  },
  {
   "cell_type": "code",
   "execution_count": null,
   "id": "fdd1cf28",
   "metadata": {},
   "outputs": [],
   "source": [
    "# Another Way to count number of teams Participated each Year\n",
    "\n",
    "cricket_rankings_count_by_year = sorted_cricket_rankings_df.groupby('Year')['Team'].value_counts().reset_index(name = 'TeamCount') # This returns Count of Each team participated in Particular year\n",
    "\n",
    "total_cricket_rankings_count_by_year = cricket_rankings_count_by_year.groupby('Year')['TeamCount'].count().reset_index(name='TotalTeamCount')\n",
    "total_cricket_rankings_count_by_year"
   ]
  },
  {
   "cell_type": "code",
   "execution_count": null,
   "id": "8c6d1a04",
   "metadata": {},
   "outputs": [],
   "source": [
    "# Lets find out how groupby works\n",
    "grouped = sorted_cricket_rankings_df.groupby('Year')\n",
    "\n",
    "groups = grouped.groups # To get the groups\n",
    "groups # Return a Dictionary"
   ]
  },
  {
   "cell_type": "code",
   "execution_count": null,
   "id": "b6c03b4e",
   "metadata": {},
   "outputs": [],
   "source": [
    "for year, indices in groups.items():\n",
    "    print(f\"Year {year}:\\n{sorted_cricket_rankings_df.loc[indices]}\\n\")"
   ]
  },
  {
   "cell_type": "code",
   "execution_count": null,
   "id": "a6b25ba0",
   "metadata": {},
   "outputs": [],
   "source": [
    "# Alternatively, you can use the get_group method to retrieve a specific group. This will directly print the DataFrame corresponding to the specified group.\n",
    "group_2010 = grouped.get_group(2010)\n",
    "print(group_2010)"
   ]
  },
  {
   "cell_type": "code",
   "execution_count": null,
   "id": "bf4cde62",
   "metadata": {},
   "outputs": [],
   "source": [
    "team_participation_by_year = sorted_cricket_rankings_df.groupby('Team')['Year'].unique().reset_index(name='ParticipationYears')\n",
    "team_participation_by_year"
   ]
  },
  {
   "cell_type": "code",
   "execution_count": null,
   "id": "089d4c5b",
   "metadata": {},
   "outputs": [],
   "source": [
    "team_participation_by_year = sorted_cricket_rankings_df.groupby('Team')['Year'].agg(list).reset_index(name='ParticipationYears') # This aggregates the values in the 'Year' column into a list for each group.\n",
    "\n",
    "team_participation_by_year"
   ]
  },
  {
   "cell_type": "markdown",
   "id": "b1ba6877",
   "metadata": {},
   "source": [
    "### Find answer to the same questions on Updated Dataset "
   ]
  },
  {
   "cell_type": "code",
   "execution_count": 2,
   "id": "cf691895",
   "metadata": {},
   "outputs": [],
   "source": [
    "updated_cricket_rankings = {\n",
    "    'Team' :['Pakistan','England','Netherland','Australia', 'Australia', 'Bangladesh','Pakistan','Pakistan', 'Afghanistan','South Africa','Pakistan', 'England', 'England','Australia', 'Australia', 'England','England','Australia'],\n",
    "    'Year' :[2010,2023,2023,2005,2008,2023,2022,2005,2022,2005,2023,2022,2010,2022,2010,2008,2005,2023],\n",
    "    'Rank' :[2,2,4,4,1,5,3,1,4,3,1,2,3,1,1,2,2,3],\n",
    "    'Points':[26,31,9,15,70,8,23,35,10,16,32,33, 17,34,57,30,34,20]\n",
    "}"
   ]
  },
  {
   "cell_type": "code",
   "execution_count": 3,
   "id": "a2935fb8",
   "metadata": {},
   "outputs": [
    {
     "data": {
      "text/html": [
       "<div>\n",
       "<style scoped>\n",
       "    .dataframe tbody tr th:only-of-type {\n",
       "        vertical-align: middle;\n",
       "    }\n",
       "\n",
       "    .dataframe tbody tr th {\n",
       "        vertical-align: top;\n",
       "    }\n",
       "\n",
       "    .dataframe thead th {\n",
       "        text-align: right;\n",
       "    }\n",
       "</style>\n",
       "<table border=\"1\" class=\"dataframe\">\n",
       "  <thead>\n",
       "    <tr style=\"text-align: right;\">\n",
       "      <th></th>\n",
       "      <th>Team</th>\n",
       "      <th>Year</th>\n",
       "      <th>Rank</th>\n",
       "      <th>Points</th>\n",
       "    </tr>\n",
       "  </thead>\n",
       "  <tbody>\n",
       "    <tr>\n",
       "      <th>0</th>\n",
       "      <td>Pakistan</td>\n",
       "      <td>2010</td>\n",
       "      <td>2</td>\n",
       "      <td>26</td>\n",
       "    </tr>\n",
       "    <tr>\n",
       "      <th>1</th>\n",
       "      <td>England</td>\n",
       "      <td>2023</td>\n",
       "      <td>2</td>\n",
       "      <td>31</td>\n",
       "    </tr>\n",
       "    <tr>\n",
       "      <th>2</th>\n",
       "      <td>Netherland</td>\n",
       "      <td>2023</td>\n",
       "      <td>4</td>\n",
       "      <td>9</td>\n",
       "    </tr>\n",
       "    <tr>\n",
       "      <th>3</th>\n",
       "      <td>Australia</td>\n",
       "      <td>2005</td>\n",
       "      <td>4</td>\n",
       "      <td>15</td>\n",
       "    </tr>\n",
       "    <tr>\n",
       "      <th>4</th>\n",
       "      <td>Australia</td>\n",
       "      <td>2008</td>\n",
       "      <td>1</td>\n",
       "      <td>70</td>\n",
       "    </tr>\n",
       "    <tr>\n",
       "      <th>5</th>\n",
       "      <td>Bangladesh</td>\n",
       "      <td>2023</td>\n",
       "      <td>5</td>\n",
       "      <td>8</td>\n",
       "    </tr>\n",
       "    <tr>\n",
       "      <th>6</th>\n",
       "      <td>Pakistan</td>\n",
       "      <td>2022</td>\n",
       "      <td>3</td>\n",
       "      <td>23</td>\n",
       "    </tr>\n",
       "    <tr>\n",
       "      <th>7</th>\n",
       "      <td>Pakistan</td>\n",
       "      <td>2005</td>\n",
       "      <td>1</td>\n",
       "      <td>35</td>\n",
       "    </tr>\n",
       "    <tr>\n",
       "      <th>8</th>\n",
       "      <td>Afghanistan</td>\n",
       "      <td>2022</td>\n",
       "      <td>4</td>\n",
       "      <td>10</td>\n",
       "    </tr>\n",
       "    <tr>\n",
       "      <th>9</th>\n",
       "      <td>South Africa</td>\n",
       "      <td>2005</td>\n",
       "      <td>3</td>\n",
       "      <td>16</td>\n",
       "    </tr>\n",
       "    <tr>\n",
       "      <th>10</th>\n",
       "      <td>Pakistan</td>\n",
       "      <td>2023</td>\n",
       "      <td>1</td>\n",
       "      <td>32</td>\n",
       "    </tr>\n",
       "    <tr>\n",
       "      <th>11</th>\n",
       "      <td>England</td>\n",
       "      <td>2022</td>\n",
       "      <td>2</td>\n",
       "      <td>33</td>\n",
       "    </tr>\n",
       "    <tr>\n",
       "      <th>12</th>\n",
       "      <td>England</td>\n",
       "      <td>2010</td>\n",
       "      <td>3</td>\n",
       "      <td>17</td>\n",
       "    </tr>\n",
       "    <tr>\n",
       "      <th>13</th>\n",
       "      <td>Australia</td>\n",
       "      <td>2022</td>\n",
       "      <td>1</td>\n",
       "      <td>34</td>\n",
       "    </tr>\n",
       "    <tr>\n",
       "      <th>14</th>\n",
       "      <td>Australia</td>\n",
       "      <td>2010</td>\n",
       "      <td>1</td>\n",
       "      <td>57</td>\n",
       "    </tr>\n",
       "    <tr>\n",
       "      <th>15</th>\n",
       "      <td>England</td>\n",
       "      <td>2008</td>\n",
       "      <td>2</td>\n",
       "      <td>30</td>\n",
       "    </tr>\n",
       "    <tr>\n",
       "      <th>16</th>\n",
       "      <td>England</td>\n",
       "      <td>2005</td>\n",
       "      <td>2</td>\n",
       "      <td>34</td>\n",
       "    </tr>\n",
       "    <tr>\n",
       "      <th>17</th>\n",
       "      <td>Australia</td>\n",
       "      <td>2023</td>\n",
       "      <td>3</td>\n",
       "      <td>20</td>\n",
       "    </tr>\n",
       "  </tbody>\n",
       "</table>\n",
       "</div>"
      ],
      "text/plain": [
       "            Team  Year  Rank  Points\n",
       "0       Pakistan  2010     2      26\n",
       "1        England  2023     2      31\n",
       "2     Netherland  2023     4       9\n",
       "3      Australia  2005     4      15\n",
       "4      Australia  2008     1      70\n",
       "5     Bangladesh  2023     5       8\n",
       "6       Pakistan  2022     3      23\n",
       "7       Pakistan  2005     1      35\n",
       "8    Afghanistan  2022     4      10\n",
       "9   South Africa  2005     3      16\n",
       "10      Pakistan  2023     1      32\n",
       "11       England  2022     2      33\n",
       "12       England  2010     3      17\n",
       "13     Australia  2022     1      34\n",
       "14     Australia  2010     1      57\n",
       "15       England  2008     2      30\n",
       "16       England  2005     2      34\n",
       "17     Australia  2023     3      20"
      ]
     },
     "execution_count": 3,
     "metadata": {},
     "output_type": "execute_result"
    }
   ],
   "source": [
    "updated_cricket_rankings_df = pd.DataFrame(updated_cricket_rankings)\n",
    "\n",
    "updated_cricket_rankings_df\n",
    "# There are 18 Rows/Records/Samples in this dataframe"
   ]
  },
  {
   "cell_type": "markdown",
   "id": "ffeb1cf1",
   "metadata": {},
   "source": [
    "Question:\n",
    "\n",
    "According to the data, how old our data is?\n",
    "\n",
    "Find who was in rank 2 each year\n",
    "Find rank of pakistan each year\n",
    "find the years Australia was rank 1\n",
    "\n",
    "1. Name all the teams that data contains.\n",
    "2. Count total number of unique teams\n",
    "3. Find in what years Australia participated and show its all data.\n",
    "4. Display the name(s) of the country who rank first in the dataset.\n",
    "5. Display the name(s) of the country who rank first in the dataset with just years\n",
    "6. Display the name(s) of the country who once rank first in the dataset.\n",
    "7. Find particpation of teams in year 2010\n",
    "8. What was the Rank of England in 2022\n",
    "9. Which team was rank 1 in 2023?\n",
    "10. Find whether Pakistan played in 2008 or not. If yes then what was its rank?\n",
    "11. Which team got most of the time rank 1\n",
    "12. Find the total number of participations for each team across all years\n",
    "13. What are the highest points ever?\n",
    "14. What are the highest points ever? (Without using max function)\n",
    "15. What are the lowest points ever?\n",
    "16. which team got the highest points ever?\n",
    "17. which team got the lowest points ever?\n",
    "\n",
    "\n",
    "1. How many years each team played and in what years they played?\n",
    "2. How many teams each year participated?\n",
    "3. Which are the teams that did not participated in 2008?\n",
    "4. "
   ]
  },
  {
   "cell_type": "code",
   "execution_count": 4,
   "id": "e543e279",
   "metadata": {},
   "outputs": [
    {
     "name": "stdout",
     "output_type": "stream",
     "text": [
      "Pakistan\n",
      "England\n",
      "Netherland\n",
      "Australia\n",
      "Bangladesh\n",
      "Afghanistan\n",
      "South Africa\n"
     ]
    }
   ],
   "source": [
    "# Name all the teams that data contains.\n",
    "teams = updated_cricket_rankings_df['Team'].unique() # It returns data a numpy array. So we can use for loop to print our data.\n",
    "for team in teams:\n",
    "    print(team)"
   ]
  },
  {
   "cell_type": "code",
   "execution_count": 5,
   "id": "2bd062a8",
   "metadata": {},
   "outputs": [
    {
     "name": "stdout",
     "output_type": "stream",
     "text": [
      "Total unique teams in the dataset: 7\n"
     ]
    }
   ],
   "source": [
    "# Count total number of unique teams\n",
    "total_unique_teams = updated_cricket_rankings_df['Team'].nunique() # nunique returns the number of distinct elements \n",
    "print(f\"Total unique teams in the dataset: {total_unique_teams}\")"
   ]
  },
  {
   "cell_type": "code",
   "execution_count": 6,
   "id": "5e856af3",
   "metadata": {},
   "outputs": [
    {
     "name": "stdout",
     "output_type": "stream",
     "text": [
      "Total unique years in the dataset: 5\n"
     ]
    }
   ],
   "source": [
    "# Count total number of unique years\n",
    "total_unique_years = updated_cricket_rankings_df['Year'].nunique()\n",
    "print(f\"Total unique years in the dataset: {total_unique_years}\")"
   ]
  },
  {
   "cell_type": "code",
   "execution_count": 7,
   "id": "7bd2315c",
   "metadata": {},
   "outputs": [
    {
     "name": "stdout",
     "output_type": "stream",
     "text": [
      "2010\n",
      "2023\n",
      "2005\n",
      "2008\n",
      "2022\n"
     ]
    }
   ],
   "source": [
    "# Mention the years dataset contains\n",
    "all_years = updated_cricket_rankings_df['Year'].unique() # It returns data a numpy array. So we can use for loop to print our data.\n",
    "for year in all_years:\n",
    "    print(year)"
   ]
  },
  {
   "cell_type": "code",
   "execution_count": 12,
   "id": "8e60338e",
   "metadata": {},
   "outputs": [
    {
     "data": {
      "text/html": [
       "<div>\n",
       "<style scoped>\n",
       "    .dataframe tbody tr th:only-of-type {\n",
       "        vertical-align: middle;\n",
       "    }\n",
       "\n",
       "    .dataframe tbody tr th {\n",
       "        vertical-align: top;\n",
       "    }\n",
       "\n",
       "    .dataframe thead th {\n",
       "        text-align: right;\n",
       "    }\n",
       "</style>\n",
       "<table border=\"1\" class=\"dataframe\">\n",
       "  <thead>\n",
       "    <tr style=\"text-align: right;\">\n",
       "      <th></th>\n",
       "      <th>Team</th>\n",
       "      <th>Year</th>\n",
       "      <th>Rank</th>\n",
       "      <th>Points</th>\n",
       "    </tr>\n",
       "  </thead>\n",
       "  <tbody>\n",
       "    <tr>\n",
       "      <th>3</th>\n",
       "      <td>Australia</td>\n",
       "      <td>2005</td>\n",
       "      <td>4</td>\n",
       "      <td>15</td>\n",
       "    </tr>\n",
       "    <tr>\n",
       "      <th>4</th>\n",
       "      <td>Australia</td>\n",
       "      <td>2008</td>\n",
       "      <td>1</td>\n",
       "      <td>70</td>\n",
       "    </tr>\n",
       "    <tr>\n",
       "      <th>13</th>\n",
       "      <td>Australia</td>\n",
       "      <td>2022</td>\n",
       "      <td>1</td>\n",
       "      <td>34</td>\n",
       "    </tr>\n",
       "    <tr>\n",
       "      <th>14</th>\n",
       "      <td>Australia</td>\n",
       "      <td>2010</td>\n",
       "      <td>1</td>\n",
       "      <td>57</td>\n",
       "    </tr>\n",
       "    <tr>\n",
       "      <th>17</th>\n",
       "      <td>Australia</td>\n",
       "      <td>2023</td>\n",
       "      <td>3</td>\n",
       "      <td>20</td>\n",
       "    </tr>\n",
       "  </tbody>\n",
       "</table>\n",
       "</div>"
      ],
      "text/plain": [
       "         Team  Year  Rank  Points\n",
       "3   Australia  2005     4      15\n",
       "4   Australia  2008     1      70\n",
       "13  Australia  2022     1      34\n",
       "14  Australia  2010     1      57\n",
       "17  Australia  2023     3      20"
      ]
     },
     "execution_count": 12,
     "metadata": {},
     "output_type": "execute_result"
    }
   ],
   "source": [
    "# Find in what years Australia participated and show its all data. \n",
    "filtered_df = updated_cricket_rankings_df[(updated_cricket_rankings_df['Team'] == 'Australia')]\n",
    "filtered_df"
   ]
  },
  {
   "cell_type": "code",
   "execution_count": 14,
   "id": "e14140b6",
   "metadata": {},
   "outputs": [],
   "source": [
    "# Just changing the name of the dataframe\n",
    "new_df = updated_cricket_rankings_df"
   ]
  },
  {
   "cell_type": "code",
   "execution_count": 15,
   "id": "95cbce79",
   "metadata": {},
   "outputs": [
    {
     "data": {
      "text/html": [
       "<div>\n",
       "<style scoped>\n",
       "    .dataframe tbody tr th:only-of-type {\n",
       "        vertical-align: middle;\n",
       "    }\n",
       "\n",
       "    .dataframe tbody tr th {\n",
       "        vertical-align: top;\n",
       "    }\n",
       "\n",
       "    .dataframe thead th {\n",
       "        text-align: right;\n",
       "    }\n",
       "</style>\n",
       "<table border=\"1\" class=\"dataframe\">\n",
       "  <thead>\n",
       "    <tr style=\"text-align: right;\">\n",
       "      <th></th>\n",
       "      <th>Team</th>\n",
       "      <th>Year</th>\n",
       "      <th>Rank</th>\n",
       "      <th>Points</th>\n",
       "    </tr>\n",
       "  </thead>\n",
       "  <tbody>\n",
       "    <tr>\n",
       "      <th>4</th>\n",
       "      <td>Australia</td>\n",
       "      <td>2008</td>\n",
       "      <td>1</td>\n",
       "      <td>70</td>\n",
       "    </tr>\n",
       "    <tr>\n",
       "      <th>7</th>\n",
       "      <td>Pakistan</td>\n",
       "      <td>2005</td>\n",
       "      <td>1</td>\n",
       "      <td>35</td>\n",
       "    </tr>\n",
       "    <tr>\n",
       "      <th>10</th>\n",
       "      <td>Pakistan</td>\n",
       "      <td>2023</td>\n",
       "      <td>1</td>\n",
       "      <td>32</td>\n",
       "    </tr>\n",
       "    <tr>\n",
       "      <th>13</th>\n",
       "      <td>Australia</td>\n",
       "      <td>2022</td>\n",
       "      <td>1</td>\n",
       "      <td>34</td>\n",
       "    </tr>\n",
       "    <tr>\n",
       "      <th>14</th>\n",
       "      <td>Australia</td>\n",
       "      <td>2010</td>\n",
       "      <td>1</td>\n",
       "      <td>57</td>\n",
       "    </tr>\n",
       "  </tbody>\n",
       "</table>\n",
       "</div>"
      ],
      "text/plain": [
       "         Team  Year  Rank  Points\n",
       "4   Australia  2008     1      70\n",
       "7    Pakistan  2005     1      35\n",
       "10   Pakistan  2023     1      32\n",
       "13  Australia  2022     1      34\n",
       "14  Australia  2010     1      57"
      ]
     },
     "execution_count": 15,
     "metadata": {},
     "output_type": "execute_result"
    }
   ],
   "source": [
    "# Display the name(s) of the country who rank first in the dataset.\n",
    "filtered_df = new_df[new_df['Rank'] == 1]\n",
    "filtered_df"
   ]
  },
  {
   "cell_type": "code",
   "execution_count": 16,
   "id": "2abe0bdf",
   "metadata": {},
   "outputs": [
    {
     "data": {
      "text/html": [
       "<div>\n",
       "<style scoped>\n",
       "    .dataframe tbody tr th:only-of-type {\n",
       "        vertical-align: middle;\n",
       "    }\n",
       "\n",
       "    .dataframe tbody tr th {\n",
       "        vertical-align: top;\n",
       "    }\n",
       "\n",
       "    .dataframe thead th {\n",
       "        text-align: right;\n",
       "    }\n",
       "</style>\n",
       "<table border=\"1\" class=\"dataframe\">\n",
       "  <thead>\n",
       "    <tr style=\"text-align: right;\">\n",
       "      <th></th>\n",
       "      <th>Team</th>\n",
       "      <th>Year</th>\n",
       "    </tr>\n",
       "  </thead>\n",
       "  <tbody>\n",
       "    <tr>\n",
       "      <th>4</th>\n",
       "      <td>Australia</td>\n",
       "      <td>2008</td>\n",
       "    </tr>\n",
       "    <tr>\n",
       "      <th>7</th>\n",
       "      <td>Pakistan</td>\n",
       "      <td>2005</td>\n",
       "    </tr>\n",
       "    <tr>\n",
       "      <th>10</th>\n",
       "      <td>Pakistan</td>\n",
       "      <td>2023</td>\n",
       "    </tr>\n",
       "    <tr>\n",
       "      <th>13</th>\n",
       "      <td>Australia</td>\n",
       "      <td>2022</td>\n",
       "    </tr>\n",
       "    <tr>\n",
       "      <th>14</th>\n",
       "      <td>Australia</td>\n",
       "      <td>2010</td>\n",
       "    </tr>\n",
       "  </tbody>\n",
       "</table>\n",
       "</div>"
      ],
      "text/plain": [
       "         Team  Year\n",
       "4   Australia  2008\n",
       "7    Pakistan  2005\n",
       "10   Pakistan  2023\n",
       "13  Australia  2022\n",
       "14  Australia  2010"
      ]
     },
     "execution_count": 16,
     "metadata": {},
     "output_type": "execute_result"
    }
   ],
   "source": [
    "# Display the name(s) of the country who rank first in the dataset with just years\n",
    "filtered_df = new_df[new_df['Rank'] == 1]\n",
    "result = filtered_df.loc[:, ['Team', 'Year']]\n",
    "result\n",
    "\n",
    "# If you want to include all columns except a few, you can drop the unwanted columns:\n",
    "# result = filtered_df.drop(columns=['Rank', 'Points'])"
   ]
  },
  {
   "cell_type": "code",
   "execution_count": 17,
   "id": "c5bf5104",
   "metadata": {},
   "outputs": [
    {
     "name": "stdout",
     "output_type": "stream",
     "text": [
      "Teams that atleast rank 1st: \n",
      "Australia\n",
      "Pakistan\n"
     ]
    }
   ],
   "source": [
    "# Display the name(s) of the country who once rank first in the dataset.\n",
    "filtered_df = new_df[new_df['Rank'] == 1]\n",
    "rank_1_teams = filtered_df['Team'].unique()\n",
    "\n",
    "\n",
    "print('Teams that atleast rank 1st: ')\n",
    "for team in rank_1_teams:\n",
    "    print(team)"
   ]
  },
  {
   "cell_type": "code",
   "execution_count": 18,
   "id": "f9271456",
   "metadata": {},
   "outputs": [
    {
     "name": "stdout",
     "output_type": "stream",
     "text": [
      "Teams in 2010:\n",
      "Pakistan\n",
      "England\n",
      "Australia\n"
     ]
    }
   ],
   "source": [
    "# Find particpation of teams in year 2010\n",
    "\n",
    "target_year = 2010\n",
    "\n",
    "\n",
    "filtered_df = new_df[new_df['Year'] == target_year]\n",
    "\n",
    "# Find unique teams in the specified year\n",
    "teams_in_year = filtered_df['Team'].unique()\n",
    "\n",
    "# Print the unique teams in the specified year\n",
    "print(f\"Teams in {target_year}:\")\n",
    "for team in teams_in_year:\n",
    "    print(team)"
   ]
  },
  {
   "cell_type": "code",
   "execution_count": 19,
   "id": "a00a2794",
   "metadata": {},
   "outputs": [
    {
     "name": "stdout",
     "output_type": "stream",
     "text": [
      "The rank of England in 2022 was: 2\n"
     ]
    }
   ],
   "source": [
    "# What was the Rank of England in 2022\n",
    "team = 'England'\n",
    "year = 2022\n",
    "\n",
    "filtered_df = new_df[(new_df['Team'] == team) & (new_df['Year'] == year)]\n",
    "rank = filtered_df['Rank'].values[0]\n",
    "\n",
    "print(f\"The rank of {team} in {year} was: {rank}\")"
   ]
  },
  {
   "cell_type": "code",
   "execution_count": 20,
   "id": "0f3429c7",
   "metadata": {},
   "outputs": [
    {
     "name": "stdout",
     "output_type": "stream",
     "text": [
      "Pakistan was rank 1 in 2023\n"
     ]
    }
   ],
   "source": [
    "# Which team was rank 1 in 2023?\n",
    "\n",
    "year = 2023\n",
    "rank = 1\n",
    "\n",
    "filtered_df = new_df[(new_df['Rank'] == rank) & (new_df['Year'] == year)]\n",
    "team = filtered_df['Team'].values[0]\n",
    "\n",
    "print(f\"{team} was rank {rank} in {year}\")\n"
   ]
  },
  {
   "cell_type": "code",
   "execution_count": 21,
   "id": "0d88ed97",
   "metadata": {},
   "outputs": [
    {
     "name": "stdout",
     "output_type": "stream",
     "text": [
      "Pakistan did not participated in 2008\n"
     ]
    }
   ],
   "source": [
    "# Find whether Pakistan played in 2008 or not. If yes then what was its rank?\n",
    "\n",
    "team = 'Pakistan'\n",
    "year = 2008\n",
    "\n",
    "filtered_df = new_df[(new_df['Team'] == team) & (new_df['Year'] == year)] # This returns us 1 row -> 15  England  2008     2      30\n",
    "\n",
    "# Check if the team exists in the specified year\n",
    "if not filtered_df.empty:\n",
    "    team_rank = filtered_df['Rank'].values[0]  # This returns 2 as we just have 1 row in filtered_df\n",
    "    print(f\"The rank of {team} in {year} is: {team_rank}\")\n",
    "else:\n",
    "    print(f\"{team} did not participated in {year}\")"
   ]
  },
  {
   "cell_type": "code",
   "execution_count": 42,
   "id": "c5736d9d",
   "metadata": {},
   "outputs": [
    {
     "name": "stdout",
     "output_type": "stream",
     "text": [
      "The team that got 1 most of the time is: Australia\n"
     ]
    }
   ],
   "source": [
    "# Which team got most of the time rank 1\n",
    "rank = 1\n",
    "filtered_df = new_df[new_df['Rank'] == rank]\n",
    "team_rank_counts = filtered_df['Team'].value_counts()\n",
    "sorted_teams = team_rank_counts.sort_values(ascending=False)\n",
    "team_with_most_1st_rank = sorted_teams.index[0]\n",
    "print(f\"The team that got {rank} most of the time is: {team_with_most_1st_rank}\")"
   ]
  },
  {
   "cell_type": "code",
   "execution_count": 36,
   "id": "bb204173",
   "metadata": {},
   "outputs": [
    {
     "data": {
      "text/plain": [
       "'Australia'"
      ]
     },
     "execution_count": 36,
     "metadata": {},
     "output_type": "execute_result"
    }
   ],
   "source": [
    "# Otherway of solving above question\n",
    "team_rank_counts = new_df[new_df['Rank'] == 1]['Team'].value_counts()\n",
    "team_rank_counts.idxmax()"
   ]
  },
  {
   "cell_type": "code",
   "execution_count": 70,
   "id": "f21e314d",
   "metadata": {},
   "outputs": [
    {
     "name": "stdout",
     "output_type": "stream",
     "text": [
      "Total number of participations by each team:\n",
      "           Team  TotalParticipationCount\n",
      "0   Afghanistan                        1\n",
      "1     Australia                        5\n",
      "2    Bangladesh                        1\n",
      "3       England                        5\n",
      "4    Netherland                        1\n",
      "5      Pakistan                        4\n",
      "6  South Africa                        1\n"
     ]
    }
   ],
   "source": [
    "# find the total number of participations for each team across all years\n",
    "team_total_participation = new_df.groupby('Team').size().reset_index(name='TotalParticipationCount')\n",
    "\n",
    "# Print the result\n",
    "print(\"Total number of participations by each team:\")\n",
    "print(team_total_participation)"
   ]
  },
  {
   "cell_type": "code",
   "execution_count": 39,
   "id": "51546449",
   "metadata": {},
   "outputs": [
    {
     "data": {
      "text/plain": [
       "70"
      ]
     },
     "execution_count": 39,
     "metadata": {},
     "output_type": "execute_result"
    }
   ],
   "source": [
    "# What are the highest points ever?\n",
    "max_points = new_df['Points'].max()\n",
    "max_points\n"
   ]
  },
  {
   "cell_type": "code",
   "execution_count": 68,
   "id": "ed6d72d2",
   "metadata": {},
   "outputs": [
    {
     "data": {
      "text/plain": [
       "70"
      ]
     },
     "execution_count": 68,
     "metadata": {},
     "output_type": "execute_result"
    }
   ],
   "source": [
    "# What are the highest points ever? (Without using max function)\n",
    "sorted_df = new_df['Points'].sort_values(ascending=False)\n",
    "index = sorted_df.index[0]\n",
    "sorted_df[index]"
   ]
  },
  {
   "cell_type": "code",
   "execution_count": 40,
   "id": "41c5c1a6",
   "metadata": {},
   "outputs": [
    {
     "data": {
      "text/plain": [
       "8"
      ]
     },
     "execution_count": 40,
     "metadata": {},
     "output_type": "execute_result"
    }
   ],
   "source": [
    "# What are the lowest points ever?\n",
    "\n",
    "min_points = new_df['Points'].min()\n",
    "min_points\n"
   ]
  },
  {
   "cell_type": "code",
   "execution_count": 30,
   "id": "9ddfd33e",
   "metadata": {},
   "outputs": [
    {
     "data": {
      "text/plain": [
       "4    Australia\n",
       "Name: Team, dtype: object"
      ]
     },
     "execution_count": 30,
     "metadata": {},
     "output_type": "execute_result"
    }
   ],
   "source": [
    "# which team got the highest points ever?\n",
    "max_points = new_df['Points'].max()\n",
    "filtered_df = new_df[(new_df['Points']) == max_points]\n",
    "filtered_df['Team']"
   ]
  },
  {
   "cell_type": "code",
   "execution_count": 31,
   "id": "2581f13c",
   "metadata": {},
   "outputs": [
    {
     "data": {
      "text/plain": [
       "5    Bangladesh\n",
       "Name: Team, dtype: object"
      ]
     },
     "execution_count": 31,
     "metadata": {},
     "output_type": "execute_result"
    }
   ],
   "source": [
    "# which team got the lowest points ever?\n",
    "min_points = new_df['Points'].min()\n",
    "filtered_df = new_df[(new_df['Points']) == min_points]\n",
    "filtered_df['Team']"
   ]
  },
  {
   "cell_type": "code",
   "execution_count": 35,
   "id": "626f925f",
   "metadata": {},
   "outputs": [
    {
     "name": "stdout",
     "output_type": "stream",
     "text": [
      "Pakistan got higest points (32) in 2023\n"
     ]
    }
   ],
   "source": [
    "# which team got the highest points in 2023?\n",
    "\n",
    "year = 2023\n",
    "\n",
    "filtered_df = new_df[(new_df['Year'] == year)]\n",
    "\n",
    "max_points = filtered_df['Points'].max()\n",
    "filtered_df = new_df[(new_df['Points']) == max_points]\n",
    "\n",
    "team = filtered_df['Team'].values[0]\n",
    "\n",
    "print(f\"{team} got higest points ({max_points}) in {year}\")\n"
   ]
  },
  {
   "cell_type": "code",
   "execution_count": 38,
   "id": "a2963c3b",
   "metadata": {},
   "outputs": [
    {
     "name": "stdout",
     "output_type": "stream",
     "text": [
      "Bangladesh got lowest points (8) in 2023\n"
     ]
    }
   ],
   "source": [
    "# which team got the lowest points in 2023?\n",
    "\n",
    "year = 2023\n",
    "\n",
    "filtered_df = new_df[(new_df['Year'] == year)]\n",
    "\n",
    "min_points = filtered_df['Points'].min()\n",
    "filtered_df = new_df[(new_df['Points']) == min_points]\n",
    "\n",
    "team = filtered_df['Team'].values[0]\n",
    "\n",
    "print(f\"{team} got lowest points ({min_points}) in {year}\")\n"
   ]
  },
  {
   "cell_type": "code",
   "execution_count": 63,
   "id": "731e5f0d",
   "metadata": {},
   "outputs": [
    {
     "name": "stdout",
     "output_type": "stream",
     "text": [
      "The team with the maximum total points is: Australia with 196 points\n"
     ]
    }
   ],
   "source": [
    "team_points = new_df.groupby('Team')['Points'].sum()\n",
    "\n",
    "# Sort the teams based on total points in descending order\n",
    "sorted_teams = team_points.sort_values(ascending=False)\n",
    "\n",
    "# Get the team with the maximum total points\n",
    "team_with_max_points = sorted_teams.index[0]\n",
    "\n",
    "# Print the result\n",
    "print(f\"The team with the maximum total points is: {team_with_max_points} with {team_points[team_with_max_points]} points\")"
   ]
  },
  {
   "cell_type": "code",
   "execution_count": 64,
   "id": "ab3a268d",
   "metadata": {},
   "outputs": [
    {
     "data": {
      "text/plain": [
       "Team\n",
       "Afghanistan      10\n",
       "Australia       196\n",
       "Bangladesh        8\n",
       "England         145\n",
       "Netherland        9\n",
       "Pakistan        116\n",
       "South Africa     16\n",
       "Name: Points, dtype: int64"
      ]
     },
     "execution_count": 64,
     "metadata": {},
     "output_type": "execute_result"
    }
   ],
   "source": [
    "team_points"
   ]
  },
  {
   "cell_type": "code",
   "execution_count": null,
   "id": "05e0cef2",
   "metadata": {},
   "outputs": [],
   "source": [
    "# Above data is unsorted. So Lets sort it to make it more simple\n",
    "\n",
    "sorted_cricket_rankings_df = updated_cricket_rankings_df.sort_values(by=['Year'], ascending=False).reset_index(drop = True) # If ascending is equal to Fasle it will sort in descending order.\n",
    "sorted_cricket_rankings_df"
   ]
  },
  {
   "cell_type": "code",
   "execution_count": null,
   "id": "56e36e20",
   "metadata": {},
   "outputs": [],
   "source": [
    "updated_cricket_rankings_df.iloc[4:8,-1] # Access the First Row"
   ]
  },
  {
   "cell_type": "code",
   "execution_count": null,
   "id": "705ee81c",
   "metadata": {},
   "outputs": [],
   "source": [
    "last_row = updated_cricket_rankings_df.iloc[-1]\n",
    "last_row[1] -"
   ]
  },
  {
   "cell_type": "code",
   "execution_count": null,
   "id": "a746adba",
   "metadata": {},
   "outputs": [],
   "source": [
    "# Sum points in each group\n",
    "sum_points_by_group = updated_cricket_rankings_df.groupby('Year')['Points'].sum().reset_index()\n",
    "\n",
    "print(sum_points_by_group)"
   ]
  },
  {
   "cell_type": "code",
   "execution_count": null,
   "id": "c23e18f5",
   "metadata": {},
   "outputs": [],
   "source": [
    "grouped = updated_cricket_rankings_df.groupby('Year')\n",
    "\n",
    "groups = grouped.groups # To get the groups\n",
    "groups # Return a Dictionary"
   ]
  },
  {
   "cell_type": "code",
   "execution_count": null,
   "id": "c00dc87e",
   "metadata": {},
   "outputs": [],
   "source": []
  },
  {
   "cell_type": "code",
   "execution_count": null,
   "id": "0de127b8",
   "metadata": {
    "scrolled": true
   },
   "outputs": [],
   "source": [
    "for year, indices in groups.items():\n",
    "    print(f\"Year {year}:\\n{updated_cricket_rankings_df.loc[indices]}\\n\")"
   ]
  },
  {
   "cell_type": "code",
   "execution_count": null,
   "id": "d5904c0a",
   "metadata": {},
   "outputs": [],
   "source": [
    "grouped = sorted_cricket_rankings_df.groupby('Year')\n",
    "\n",
    "groups = grouped.groups # To get the groups\n",
    "groups # Return a Dictionary"
   ]
  },
  {
   "cell_type": "code",
   "execution_count": null,
   "id": "cb3c3560",
   "metadata": {},
   "outputs": [],
   "source": [
    "for year, indices in groups.items():\n",
    "    print(f\"Year {year}:\\n{sorted_cricket_rankings_df.loc[indices]}\\n\")"
   ]
  },
  {
   "cell_type": "markdown",
   "id": "5b6a9788",
   "metadata": {},
   "source": [
    "# Visualization"
   ]
  },
  {
   "cell_type": "code",
   "execution_count": 77,
   "id": "07f7bb42",
   "metadata": {},
   "outputs": [],
   "source": [
    "import matplotlib.pyplot as plt\n",
    "import seaborn as sns"
   ]
  },
  {
   "cell_type": "code",
   "execution_count": 84,
   "id": "a457b2ab",
   "metadata": {},
   "outputs": [
    {
     "data": {
      "image/png": "[encoded data removed]",
      "text/plain": [
       "<Figure size 800x500 with 1 Axes>"
      ]
     },
     "metadata": {},
     "output_type": "display_data"
    }
   ],
   "source": [
    "plt.figure(figsize=(8, 5))\n",
    "plt.bar(new_df['Team'], new_df['Points'], color='skyblue')\n",
    "plt.title('Team Points')\n",
    "plt.xlabel('Team')\n",
    "plt.ylabel('Points')\n",
    "plt.show()"
   ]
  },
  {
   "cell_type": "code",
   "execution_count": 101,
   "id": "fac3c7fb",
   "metadata": {},
   "outputs": [
    {
     "data": {
      "image/png": "[encoded data removed]",
      "text/plain": [
       "<Figure size 1000x600 with 1 Axes>"
      ]
     },
     "metadata": {},
     "output_type": "display_data"
    }
   ],
   "source": [
    "team = 'Australia'\n",
    "filtered_team = new_df[new_df['Team'] == team]\n",
    "\n",
    "# Visualization using Seaborn - Line plot\n",
    "plt.figure(figsize=(10, 6))\n",
    "sns.lineplot(x='Year', y='Points', data=filtered_team, marker='o', color='blue')\n",
    "plt.xticks(new_df['Year'].unique())\n",
    "plt.title(f'{team} Points Over Years')\n",
    "plt.xlabel('Year')\n",
    "plt.ylabel('Points')\n",
    "plt.show()"
   ]
  },
  {
   "cell_type": "code",
   "execution_count": 118,
   "id": "f8b099ff",
   "metadata": {},
   "outputs": [
    {
     "data": {
      "image/png": "[encoded data removed]",
      "text/plain": [
       "<Figure size 1000x600 with 1 Axes>"
      ]
     },
     "metadata": {},
     "output_type": "display_data"
    }
   ],
   "source": [
    "team = 'Australia'\n",
    "filtered_team = new_df[new_df['Team'] == team]\n",
    "\n",
    "# Visualization using Seaborn - Bar plot\n",
    "plt.figure(figsize=(10, 6))\n",
    "sns.barplot(x='Year', y='Rank', hue='Team', data=filtered_team, palette='Set3')\n",
    "plt.title(f'{team} Rank Over Years')\n",
    "plt.xlabel('Year')\n",
    "plt.ylabel('Rank')\n",
    "plt.legend(title='Team')\n",
    "\n",
    "\n",
    "plt.show()"
   ]
  },
  {
   "cell_type": "code",
   "execution_count": 117,
   "id": "e7ef01f9",
   "metadata": {},
   "outputs": [
    {
     "data": {
      "image/png": "[encoded data removed]",
      "text/plain": [
       "<Figure size 640x480 with 1 Axes>"
      ]
     },
     "metadata": {},
     "output_type": "display_data"
    }
   ],
   "source": [
    "team = 'Australia'\n",
    "filtered_team = new_df[new_df['Team'] == team]\n",
    "\n",
    "\n",
    "filtered_team.plot(kind='bar', x='Year', y='Rank')\n",
    "\n",
    "# Customize the y-axis ticks to display integer values\n",
    "plt.yticks([1, 2, 3, 4, 5])  # Add the specific integer values you want to display\n",
    "\n",
    "# Show the plot\n",
    "plt.show()"
   ]
  },
  {
   "cell_type": "code",
   "execution_count": 83,
   "id": "7d30db81",
   "metadata": {},
   "outputs": [
    {
     "data": {
      "image/png": "[encoded data removed]",
      "text/plain": [
       "<Figure size 1000x600 with 1 Axes>"
      ]
     },
     "metadata": {},
     "output_type": "display_data"
    },
    {
     "name": "stderr",
     "output_type": "stream",
     "text": [
      "C:\\Users\\Annas Rahil\\Anaconda\\Lib\\site-packages\\seaborn\\axisgrid.py:1609: UserWarning: \n",
      "The markers list has fewer values (5) than needed (7) and will cycle, which may produce an uninterpretable plot.\n",
      "  func(x=x, y=y, **kwargs)\n",
      "C:\\Users\\Annas Rahil\\Anaconda\\Lib\\site-packages\\seaborn\\axisgrid.py:1609: UserWarning: \n",
      "The markers list has fewer values (5) than needed (7) and will cycle, which may produce an uninterpretable plot.\n",
      "  func(x=x, y=y, **kwargs)\n",
      "C:\\Users\\Annas Rahil\\Anaconda\\Lib\\site-packages\\seaborn\\axisgrid.py:1609: UserWarning: \n",
      "The markers list has fewer values (5) than needed (7) and will cycle, which may produce an uninterpretable plot.\n",
      "  func(x=x, y=y, **kwargs)\n",
      "C:\\Users\\Annas Rahil\\Anaconda\\Lib\\site-packages\\seaborn\\axisgrid.py:1609: UserWarning: \n",
      "The markers list has fewer values (5) than needed (7) and will cycle, which may produce an uninterpretable plot.\n",
      "  func(x=x, y=y, **kwargs)\n",
      "C:\\Users\\Annas Rahil\\Anaconda\\Lib\\site-packages\\seaborn\\axisgrid.py:1609: UserWarning: \n",
      "The markers list has fewer values (5) than needed (7) and will cycle, which may produce an uninterpretable plot.\n",
      "  func(x=x, y=y, **kwargs)\n",
      "C:\\Users\\Annas Rahil\\Anaconda\\Lib\\site-packages\\seaborn\\axisgrid.py:1609: UserWarning: \n",
      "The markers list has fewer values (5) than needed (7) and will cycle, which may produce an uninterpretable plot.\n",
      "  func(x=x, y=y, **kwargs)\n"
     ]
    },
    {
     "data": {
      "image/png": "[encoded data removed]",
      "text/plain": [
       "<Figure size 887.5x750 with 12 Axes>"
      ]
     },
     "metadata": {},
     "output_type": "display_data"
    }
   ],
   "source": [
    "# Visualization using Seaborn - Bar plot for performance\n",
    "plt.figure(figsize=(10, 6))\n",
    "sns.barplot(x='Team', y='Points', data=new_df, palette='viridis')\n",
    "plt.title('Team Points')\n",
    "plt.xlabel('Team')\n",
    "plt.ylabel('Points')\n",
    "plt.show()\n",
    "\n",
    "# Visualization using Seaborn - Pair plot for multiple variables\n",
    "sns.set(style=\"ticks\")\n",
    "sns.pairplot(new_df, hue='Team', markers=[\"o\", \"s\", \"D\", \"X\", \"P\"])\n",
    "plt.suptitle('Pair Plot of Team Data', y=1.02)\n",
    "plt.show()"
   ]
  },
  {
   "cell_type": "markdown",
   "id": "4774ffae",
   "metadata": {},
   "source": [
    "<div class=\"alert alert-block alert-info\">\n",
    "<b>Tip:</b> Use blue boxes (alert-info) for tips and notes.</div>\n",
    "\n",
    "\n",
    "\n",
    "<div class=\"alert alert-block alert-warning\">\n",
    "<b>Example:</b> Use yellow boxes for examples that are not inside code cells, or use for mathematical formulas if needed. Typically also used to display warning messages.\n",
    "</div>\n",
    "\n",
    "\n",
    "\n",
    "<div class=\"alert alert-block alert-success\">\n",
    "<b>Success:</b> This alert box indicates a successful or positive action.\n",
    "</div>\n",
    "\n",
    "\n",
    "\n",
    "<div class=\"alert alert-block alert-danger\">\n",
    "<b>Danger:</b> This alert box indicates a dangerous or potentially negative action.\n",
    "</div>"
   ]
  }
 ],
 "metadata": {
  "kernelspec": {
   "display_name": "Python 3 (ipykernel)",
   "language": "python",
   "name": "python3"
  },
  "language_info": {
   "codemirror_mode": {
    "name": "ipython",
    "version": 3
   },
   "file_extension": ".py",
   "mimetype": "text/x-python",
   "name": "python",
   "nbconvert_exporter": "python",
   "pygments_lexer": "ipython3",
   "version": "3.10.9"
  }
 },
 "nbformat": 4,
 "nbformat_minor": 5
}
