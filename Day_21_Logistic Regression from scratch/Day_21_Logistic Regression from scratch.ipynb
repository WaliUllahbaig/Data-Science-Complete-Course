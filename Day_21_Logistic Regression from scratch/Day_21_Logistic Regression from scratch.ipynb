{
 "cells": [
  {
   "cell_type": "code",
   "execution_count": 1,
   "id": "4132cb26",
   "metadata": {},
   "outputs": [],
   "source": [
    "#Logistic Regression From Scratch\n",
    "\n",
    "import numpy as np\n",
    "\n",
    "def sigmoid(z):\n",
    "    return 1/(1 + np.exp(-z))\n",
    "\n",
    "class LogisticRegression:\n",
    "\n",
    "        def __init__(self, lr=0.001, n_iters=500):\n",
    "                self.lr = lr\n",
    "                self.n_iters = n_iters\n",
    "                self.weights = None\n",
    "                self.bias = None\n",
    "        def fit(self, X, y):\n",
    "                n_samples, n_features = X.shape\n",
    "                self.weights = np.zeros(n_features)\n",
    "                self.bias = 0\n",
    "\n",
    "                for _ in range(self.n_iters):\n",
    "                        # Prediction\n",
    "                        pred = self.bias + np.dot(X, self.weights)\n",
    "                        yhat = sigmoid(pred)\n",
    "                        \n",
    "                        # Derivatives\n",
    "                        dw = (1/n_samples) * np.dot(X.T, (yhat-y))\n",
    "                        db = (1/n_samples) * np.sum(yhat - y)\n",
    "                        # GD\n",
    "                        self.weights = self.weights - self.lr * dw\n",
    "                        self.bias = self.bias - self.lr * db\n",
    "        def predict(self, X):\n",
    "                pred = self.bias + np.dot(X, self.weights)\n",
    "                yhat = sigmoid(pred)\n",
    "                return [0 if y<=0.5 else 1 for y in yhat]"
   ]
  },
  {
   "cell_type": "code",
   "execution_count": 2,
   "id": "94662d20",
   "metadata": {},
   "outputs": [
    {
     "name": "stdout",
     "output_type": "stream",
     "text": [
      "[1, 1, 0, 1, 0, 1, 1, 1, 0, 1, 1, 0, 0, 1, 1, 1, 1, 1, 1, 1, 0, 0, 1, 1, 1, 0, 0, 1, 0, 1, 0, 1, 1, 1, 0, 1, 0, 1, 1, 0, 0, 1, 0, 0, 0, 1, 0, 0, 1, 0, 0, 0, 1, 1, 1, 1, 1, 0, 0, 1, 0, 1, 1, 1, 1, 0, 1, 1, 1, 1, 1, 1, 0, 1, 0, 1, 1, 0, 0, 0, 1, 0, 0, 1, 1, 1, 0, 1, 0, 1, 0, 1, 1, 0, 1, 1, 1, 1, 1, 1, 1, 1, 1, 1, 1, 1, 1, 1, 1, 1, 1, 1, 1, 0]\n",
      "\n",
      "Accuracy is: 92.98245614035088\n",
      "\n",
      "MSE: 0.07017543859649122\n"
     ]
    },
    {
     "name": "stderr",
     "output_type": "stream",
     "text": [
      "C:\\Users\\Shah Wali\\AppData\\Local\\Temp\\ipykernel_11348\\3908064064.py:4: RuntimeWarning: overflow encountered in exp\n",
      "  return 1/(1 + np.exp(-z))\n"
     ]
    }
   ],
   "source": [
    "# Implimentation to the the results\n",
    "\n",
    "from sklearn.model_selection import train_test_split\n",
    "from sklearn import datasets\n",
    "import matplotlib.pyplot as plt\n",
    "\n",
    "bc = datasets.load_breast_cancer()\n",
    "X, y= bc.data, bc.target\n",
    "X_train, X_test, y_train, y_test = train_test_split(X, y, test_size=0.20, random_state=123)\n",
    "\n",
    "reg = LogisticRegression(lr=0.01, n_iters=1000)\n",
    "reg.fit(X_train,y_train)\n",
    "predictions = reg.predict(X_test)\n",
    "print(predictions)\n",
    "\n",
    "# Calculate accuracy percentage between two lists\n",
    "def accuracy_metric(actual, predicted):\n",
    "    return np.sum(predictions == y_test)/len(y_test)*100\n",
    "\n",
    "def mse(y_test, predictions):\n",
    "    return np.mean((y_test-predictions)**2)\n",
    "\n",
    "mse = mse(y_test, predictions)\n",
    "\n",
    "print()\n",
    "print(f\"Accuracy is: {accuracy_metric(y_test,predictions)}\")\n",
    "print()\n",
    "print(f'MSE: {mse}')"
   ]
  },
  {
   "cell_type": "code",
   "execution_count": null,
   "id": "b41d2f1d",
   "metadata": {},
   "outputs": [],
   "source": []
  }
 ],
 "metadata": {
  "kernelspec": {
   "display_name": "Python 3 (ipykernel)",
   "language": "python",
   "name": "python3"
  },
  "language_info": {
   "codemirror_mode": {
    "name": "ipython",
    "version": 3
   },
   "file_extension": ".py",
   "mimetype": "text/x-python",
   "name": "python",
   "nbconvert_exporter": "python",
   "pygments_lexer": "ipython3",
   "version": "3.10.9"
  }
 },
 "nbformat": 4,
 "nbformat_minor": 5
}
