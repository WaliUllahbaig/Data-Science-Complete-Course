{
 "cells": [
  {
   "cell_type": "markdown",
   "metadata": {
    "id": "RL9M2cNgQ6_l"
   },
   "source": [
    "# **Shah Wali Ullah Baig**\n",
    "Lists"
   ]
  },
  {
   "cell_type": "code",
   "execution_count": 2,
   "metadata": {
    "id": "MrmN5U6gO2rf"
   },
   "outputs": [],
   "source": [
    "my_list = [10, 20, 30, 40, 50, 60, 70, 80, 90]"
   ]
  },
  {
   "cell_type": "code",
   "execution_count": 2,
   "metadata": {
    "colab": {
     "base_uri": "https://localhost:8080/"
    },
    "id": "d8KBdsnKO5dz",
    "outputId": "85272454-8373-449b-cc5b-72b15f04bfa6"
   },
   "outputs": [
    {
     "data": {
      "text/plain": [
       "70"
      ]
     },
     "execution_count": 2,
     "metadata": {},
     "output_type": "execute_result"
    }
   ],
   "source": [
    "#1. Find the third last element using negative indexing\n",
    "\n",
    "my_list[-3]"
   ]
  },
  {
   "cell_type": "code",
   "execution_count": 3,
   "metadata": {
    "colab": {
     "base_uri": "https://localhost:8080/"
    },
    "id": "KKqeACLVO-8q",
    "outputId": "d248b577-3fc3-46bd-ca57-025cc3430afe"
   },
   "outputs": [
    {
     "data": {
      "text/plain": [
       "20"
      ]
     },
     "execution_count": 3,
     "metadata": {},
     "output_type": "execute_result"
    }
   ],
   "source": [
    "#2. Find the 2nd element using negative indexing\n",
    "\n",
    "my_list[-8]"
   ]
  },
  {
   "cell_type": "code",
   "execution_count": 4,
   "metadata": {
    "colab": {
     "base_uri": "https://localhost:8080/"
    },
    "id": "I2HzK5CvPF15",
    "outputId": "7ada18c9-ef33-492c-b797-f58f15f498a4"
   },
   "outputs": [
    {
     "data": {
      "text/plain": [
       "[40, 50, 60, 70, 80, 90]"
      ]
     },
     "execution_count": 4,
     "metadata": {},
     "output_type": "execute_result"
    }
   ],
   "source": [
    "#3. Return all items after 3th index\n",
    "\n",
    "my_list[3:]"
   ]
  },
  {
   "cell_type": "code",
   "execution_count": 7,
   "metadata": {
    "colab": {
     "base_uri": "https://localhost:8080/"
    },
    "id": "HSvlREXlPOwI",
    "outputId": "f1809cab-acbf-4be2-a42e-1927feb1a230"
   },
   "outputs": [
    {
     "data": {
      "text/plain": [
       "[10, 20, 30, 40]"
      ]
     },
     "execution_count": 7,
     "metadata": {},
     "output_type": "execute_result"
    }
   ],
   "source": [
    "#4. Return all items before 5th index\n",
    "\n",
    "my_list[:4]"
   ]
  },
  {
   "cell_type": "code",
   "execution_count": 17,
   "metadata": {
    "colab": {
     "base_uri": "https://localhost:8080/"
    },
    "id": "I950zFgqPVpP",
    "outputId": "557746e7-ea9f-4935-9daa-c9c51103d9f3"
   },
   "outputs": [
    {
     "data": {
      "text/plain": [
       "[10, 30, 50, 70, 90]"
      ]
     },
     "execution_count": 17,
     "metadata": {},
     "output_type": "execute_result"
    }
   ],
   "source": [
    "#5. Return every other item(alternate).\n",
    "\n",
    "my_list[::2]"
   ]
  },
  {
   "cell_type": "code",
   "execution_count": 16,
   "metadata": {
    "colab": {
     "base_uri": "https://localhost:8080/"
    },
    "id": "bX05ANLRPmA5",
    "outputId": "9343bec4-040b-4ed3-d229-821702ac96c2"
   },
   "outputs": [
    {
     "data": {
      "text/plain": [
       "[90, 80, 70, 60]"
      ]
     },
     "execution_count": 16,
     "metadata": {},
     "output_type": "execute_result"
    }
   ],
   "source": [
    "#6. Get last 5 items in reverse.\n",
    "\n",
    "my_list[-1:-5:-1]"
   ]
  },
  {
   "cell_type": "code",
   "execution_count": null,
   "metadata": {
    "id": "FgJoq7aXQAec"
   },
   "outputs": [],
   "source": []
  }
 ],
 "metadata": {
  "colab": {
   "provenance": []
  },
  "kernelspec": {
   "display_name": "Python 3 (ipykernel)",
   "language": "python",
   "name": "python3"
  },
  "language_info": {
   "codemirror_mode": {
    "name": "ipython",
    "version": 3
   },
   "file_extension": ".py",
   "mimetype": "text/x-python",
   "name": "python",
   "nbconvert_exporter": "python",
   "pygments_lexer": "ipython3",
   "version": "3.10.9"
  }
 },
 "nbformat": 4,
 "nbformat_minor": 1
}
