{
 "cells": [
  {
   "cell_type": "code",
   "execution_count": 1,
   "metadata": {
    "id": "VrGSrHf5qFzj"
   },
   "outputs": [],
   "source": [
    "# import libraries\n",
    "import pandas as pd\n",
    "import numpy as np\n",
    "import matplotlib.pyplot as plt\n",
    "import seaborn as sns\n",
    "%matplotlib inline"
   ]
  },
  {
   "cell_type": "code",
   "execution_count": 2,
   "metadata": {
    "id": "Jez88gjFqL0Y"
   },
   "outputs": [],
   "source": [
    "# read dataset\n",
    "data = pd.read_csv('notebook_18_pulsar_stars.csv')"
   ]
  },
  {
   "cell_type": "code",
   "execution_count": 3,
   "metadata": {
    "id": "SE6Nvs7XqVVG"
   },
   "outputs": [
    {
     "name": "stdout",
     "output_type": "stream",
     "text": [
      "Dimensions of Dataset: (17898, 9)\n",
      "Column Names: Index([' Mean of the integrated profile',\n",
      "       ' Standard deviation of the integrated profile',\n",
      "       ' Excess kurtosis of the integrated profile',\n",
      "       ' Skewness of the integrated profile', ' Mean of the DM-SNR curve',\n",
      "       ' Standard deviation of the DM-SNR curve',\n",
      "       ' Excess kurtosis of the DM-SNR curve', ' Skewness of the DM-SNR curve',\n",
      "       'target_class'],\n",
      "      dtype='object')\n"
     ]
    },
    {
     "data": {
      "text/html": [
       "<div>\n",
       "<style scoped>\n",
       "    .dataframe tbody tr th:only-of-type {\n",
       "        vertical-align: middle;\n",
       "    }\n",
       "\n",
       "    .dataframe tbody tr th {\n",
       "        vertical-align: top;\n",
       "    }\n",
       "\n",
       "    .dataframe thead th {\n",
       "        text-align: right;\n",
       "    }\n",
       "</style>\n",
       "<table border=\"1\" class=\"dataframe\">\n",
       "  <thead>\n",
       "    <tr style=\"text-align: right;\">\n",
       "      <th></th>\n",
       "      <th>Mean of the integrated profile</th>\n",
       "      <th>Standard deviation of the integrated profile</th>\n",
       "      <th>Excess kurtosis of the integrated profile</th>\n",
       "      <th>Skewness of the integrated profile</th>\n",
       "      <th>Mean of the DM-SNR curve</th>\n",
       "      <th>Standard deviation of the DM-SNR curve</th>\n",
       "      <th>Excess kurtosis of the DM-SNR curve</th>\n",
       "      <th>Skewness of the DM-SNR curve</th>\n",
       "      <th>target_class</th>\n",
       "    </tr>\n",
       "  </thead>\n",
       "  <tbody>\n",
       "    <tr>\n",
       "      <th>0</th>\n",
       "      <td>140.562500</td>\n",
       "      <td>55.683782</td>\n",
       "      <td>-0.234571</td>\n",
       "      <td>-0.699648</td>\n",
       "      <td>3.199833</td>\n",
       "      <td>19.110426</td>\n",
       "      <td>7.975532</td>\n",
       "      <td>74.242225</td>\n",
       "      <td>0</td>\n",
       "    </tr>\n",
       "    <tr>\n",
       "      <th>1</th>\n",
       "      <td>102.507812</td>\n",
       "      <td>58.882430</td>\n",
       "      <td>0.465318</td>\n",
       "      <td>-0.515088</td>\n",
       "      <td>1.677258</td>\n",
       "      <td>14.860146</td>\n",
       "      <td>10.576487</td>\n",
       "      <td>127.393580</td>\n",
       "      <td>0</td>\n",
       "    </tr>\n",
       "    <tr>\n",
       "      <th>2</th>\n",
       "      <td>103.015625</td>\n",
       "      <td>39.341649</td>\n",
       "      <td>0.323328</td>\n",
       "      <td>1.051164</td>\n",
       "      <td>3.121237</td>\n",
       "      <td>21.744669</td>\n",
       "      <td>7.735822</td>\n",
       "      <td>63.171909</td>\n",
       "      <td>0</td>\n",
       "    </tr>\n",
       "    <tr>\n",
       "      <th>3</th>\n",
       "      <td>136.750000</td>\n",
       "      <td>57.178449</td>\n",
       "      <td>-0.068415</td>\n",
       "      <td>-0.636238</td>\n",
       "      <td>3.642977</td>\n",
       "      <td>20.959280</td>\n",
       "      <td>6.896499</td>\n",
       "      <td>53.593661</td>\n",
       "      <td>0</td>\n",
       "    </tr>\n",
       "    <tr>\n",
       "      <th>4</th>\n",
       "      <td>88.726562</td>\n",
       "      <td>40.672225</td>\n",
       "      <td>0.600866</td>\n",
       "      <td>1.123492</td>\n",
       "      <td>1.178930</td>\n",
       "      <td>11.468720</td>\n",
       "      <td>14.269573</td>\n",
       "      <td>252.567306</td>\n",
       "      <td>0</td>\n",
       "    </tr>\n",
       "  </tbody>\n",
       "</table>\n",
       "</div>"
      ],
      "text/plain": [
       "    Mean of the integrated profile  \\\n",
       "0                       140.562500   \n",
       "1                       102.507812   \n",
       "2                       103.015625   \n",
       "3                       136.750000   \n",
       "4                        88.726562   \n",
       "\n",
       "    Standard deviation of the integrated profile  \\\n",
       "0                                      55.683782   \n",
       "1                                      58.882430   \n",
       "2                                      39.341649   \n",
       "3                                      57.178449   \n",
       "4                                      40.672225   \n",
       "\n",
       "    Excess kurtosis of the integrated profile  \\\n",
       "0                                   -0.234571   \n",
       "1                                    0.465318   \n",
       "2                                    0.323328   \n",
       "3                                   -0.068415   \n",
       "4                                    0.600866   \n",
       "\n",
       "    Skewness of the integrated profile   Mean of the DM-SNR curve  \\\n",
       "0                            -0.699648                   3.199833   \n",
       "1                            -0.515088                   1.677258   \n",
       "2                             1.051164                   3.121237   \n",
       "3                            -0.636238                   3.642977   \n",
       "4                             1.123492                   1.178930   \n",
       "\n",
       "    Standard deviation of the DM-SNR curve  \\\n",
       "0                                19.110426   \n",
       "1                                14.860146   \n",
       "2                                21.744669   \n",
       "3                                20.959280   \n",
       "4                                11.468720   \n",
       "\n",
       "    Excess kurtosis of the DM-SNR curve   Skewness of the DM-SNR curve  \\\n",
       "0                              7.975532                      74.242225   \n",
       "1                             10.576487                     127.393580   \n",
       "2                              7.735822                      63.171909   \n",
       "3                              6.896499                      53.593661   \n",
       "4                             14.269573                     252.567306   \n",
       "\n",
       "   target_class  \n",
       "0             0  \n",
       "1             0  \n",
       "2             0  \n",
       "3             0  \n",
       "4             0  "
      ]
     },
     "execution_count": 3,
     "metadata": {},
     "output_type": "execute_result"
    }
   ],
   "source": [
    "# view dimensions of dataset\n",
    "\n",
    "print(f\"Dimensions of Dataset: {data.shape}\")\n",
    "\n",
    "# view the column names of the dataframe\n",
    "\n",
    "print(f\"Column Names: {data.columns}\")\n",
    "\n",
    "# let's preview the dataset\n",
    "\n",
    "data.head()"
   ]
  },
  {
   "cell_type": "code",
   "execution_count": 4,
   "metadata": {
    "id": "7B-CaTBMqkTb"
   },
   "outputs": [],
   "source": [
    "# rename column names\n",
    "\n",
    "new_column_names = [\n",
    "    \"Mean_Integrated_Profile\",\n",
    "    \"Std_Dev_Integrated_Profile\",\n",
    "    \"Excess_Kurtosis_Integrated_Profile\",\n",
    "    \"Skewness_Integrated_Profile\",\n",
    "    \"Mean_DM-SNR_Curve\",\n",
    "    \"Std_Dev_DM-SNR_Curve\",\n",
    "    \"Excess_Kurtosis_DM-SNR_Curve\",\n",
    "    \"Skewness_DM-SNR_Curve\",\n",
    "    \"Target_Class\"\n",
    "]\n",
    "\n",
    "data.columns = new_column_names"
   ]
  },
  {
   "cell_type": "code",
   "execution_count": 5,
   "metadata": {
    "id": "o4R_G0Esq_ts"
   },
   "outputs": [
    {
     "name": "stdout",
     "output_type": "stream",
     "text": [
      "Renamed DataFrame columns:\n",
      "Index(['Mean_Integrated_Profile', 'Std_Dev_Integrated_Profile',\n",
      "       'Excess_Kurtosis_Integrated_Profile', 'Skewness_Integrated_Profile',\n",
      "       'Mean_DM-SNR_Curve', 'Std_Dev_DM-SNR_Curve',\n",
      "       'Excess_Kurtosis_DM-SNR_Curve', 'Skewness_DM-SNR_Curve',\n",
      "       'Target_Class'],\n",
      "      dtype='object')\n",
      "\n",
      "Distribution of target_class:\n",
      "0    16259\n",
      "1     1639\n",
      "Name: Target_Class, dtype: int64\n"
     ]
    }
   ],
   "source": [
    "# Check distribution of target_class column\n",
    "target_class_distribution = data[\"Target_Class\"].value_counts()\n",
    "\n",
    "# Display the renamed DataFrame and target_class distribution\n",
    "print(\"Renamed DataFrame columns:\")\n",
    "print(data.columns)\n",
    "\n",
    "print(\"\\nDistribution of target_class:\")\n",
    "print(target_class_distribution)"
   ]
  },
  {
   "cell_type": "code",
   "execution_count": 6,
   "metadata": {
    "id": "MUWrHtwKrMyk"
   },
   "outputs": [
    {
     "name": "stdout",
     "output_type": "stream",
     "text": [
      "Missing values in variables:\n",
      "Mean_Integrated_Profile               0\n",
      "Std_Dev_Integrated_Profile            0\n",
      "Excess_Kurtosis_Integrated_Profile    0\n",
      "Skewness_Integrated_Profile           0\n",
      "Mean_DM-SNR_Curve                     0\n",
      "Std_Dev_DM-SNR_Curve                  0\n",
      "Excess_Kurtosis_DM-SNR_Curve          0\n",
      "Skewness_DM-SNR_Curve                 0\n",
      "Target_Class                          0\n",
      "dtype: int64\n"
     ]
    }
   ],
   "source": [
    "# Check for missing values in variables\n",
    "missing_values = data.isnull().sum()\n",
    "\n",
    "# Display the count of missing values for each variable\n",
    "print(\"Missing values in variables:\")\n",
    "print(missing_values)"
   ]
  },
  {
   "cell_type": "code",
   "execution_count": 7,
   "metadata": {
    "id": "4UQvMijgrV2e"
   },
   "outputs": [
    {
     "data": {
      "text/html": [
       "<div>\n",
       "<style scoped>\n",
       "    .dataframe tbody tr th:only-of-type {\n",
       "        vertical-align: middle;\n",
       "    }\n",
       "\n",
       "    .dataframe tbody tr th {\n",
       "        vertical-align: top;\n",
       "    }\n",
       "\n",
       "    .dataframe thead th {\n",
       "        text-align: right;\n",
       "    }\n",
       "</style>\n",
       "<table border=\"1\" class=\"dataframe\">\n",
       "  <thead>\n",
       "    <tr style=\"text-align: right;\">\n",
       "      <th></th>\n",
       "      <th>Mean_Integrated_Profile</th>\n",
       "      <th>Std_Dev_Integrated_Profile</th>\n",
       "      <th>Excess_Kurtosis_Integrated_Profile</th>\n",
       "      <th>Skewness_Integrated_Profile</th>\n",
       "      <th>Mean_DM-SNR_Curve</th>\n",
       "      <th>Std_Dev_DM-SNR_Curve</th>\n",
       "      <th>Excess_Kurtosis_DM-SNR_Curve</th>\n",
       "      <th>Skewness_DM-SNR_Curve</th>\n",
       "      <th>Target_Class</th>\n",
       "    </tr>\n",
       "  </thead>\n",
       "  <tbody>\n",
       "    <tr>\n",
       "      <th>count</th>\n",
       "      <td>17898.000000</td>\n",
       "      <td>17898.000000</td>\n",
       "      <td>17898.000000</td>\n",
       "      <td>17898.000000</td>\n",
       "      <td>17898.000000</td>\n",
       "      <td>17898.000000</td>\n",
       "      <td>17898.000000</td>\n",
       "      <td>17898.000000</td>\n",
       "      <td>17898.000000</td>\n",
       "    </tr>\n",
       "    <tr>\n",
       "      <th>mean</th>\n",
       "      <td>111.079968</td>\n",
       "      <td>46.549532</td>\n",
       "      <td>0.477857</td>\n",
       "      <td>1.770279</td>\n",
       "      <td>12.614400</td>\n",
       "      <td>26.326515</td>\n",
       "      <td>8.303556</td>\n",
       "      <td>104.857709</td>\n",
       "      <td>0.091574</td>\n",
       "    </tr>\n",
       "    <tr>\n",
       "      <th>std</th>\n",
       "      <td>25.652935</td>\n",
       "      <td>6.843189</td>\n",
       "      <td>1.064040</td>\n",
       "      <td>6.167913</td>\n",
       "      <td>29.472897</td>\n",
       "      <td>19.470572</td>\n",
       "      <td>4.506092</td>\n",
       "      <td>106.514540</td>\n",
       "      <td>0.288432</td>\n",
       "    </tr>\n",
       "    <tr>\n",
       "      <th>min</th>\n",
       "      <td>5.812500</td>\n",
       "      <td>24.772042</td>\n",
       "      <td>-1.876011</td>\n",
       "      <td>-1.791886</td>\n",
       "      <td>0.213211</td>\n",
       "      <td>7.370432</td>\n",
       "      <td>-3.139270</td>\n",
       "      <td>-1.976976</td>\n",
       "      <td>0.000000</td>\n",
       "    </tr>\n",
       "    <tr>\n",
       "      <th>25%</th>\n",
       "      <td>100.929688</td>\n",
       "      <td>42.376018</td>\n",
       "      <td>0.027098</td>\n",
       "      <td>-0.188572</td>\n",
       "      <td>1.923077</td>\n",
       "      <td>14.437332</td>\n",
       "      <td>5.781506</td>\n",
       "      <td>34.960504</td>\n",
       "      <td>0.000000</td>\n",
       "    </tr>\n",
       "    <tr>\n",
       "      <th>50%</th>\n",
       "      <td>115.078125</td>\n",
       "      <td>46.947479</td>\n",
       "      <td>0.223240</td>\n",
       "      <td>0.198710</td>\n",
       "      <td>2.801839</td>\n",
       "      <td>18.461316</td>\n",
       "      <td>8.433515</td>\n",
       "      <td>83.064556</td>\n",
       "      <td>0.000000</td>\n",
       "    </tr>\n",
       "    <tr>\n",
       "      <th>75%</th>\n",
       "      <td>127.085938</td>\n",
       "      <td>51.023202</td>\n",
       "      <td>0.473325</td>\n",
       "      <td>0.927783</td>\n",
       "      <td>5.464256</td>\n",
       "      <td>28.428104</td>\n",
       "      <td>10.702959</td>\n",
       "      <td>139.309330</td>\n",
       "      <td>0.000000</td>\n",
       "    </tr>\n",
       "    <tr>\n",
       "      <th>max</th>\n",
       "      <td>192.617188</td>\n",
       "      <td>98.778911</td>\n",
       "      <td>8.069522</td>\n",
       "      <td>68.101622</td>\n",
       "      <td>223.392141</td>\n",
       "      <td>110.642211</td>\n",
       "      <td>34.539844</td>\n",
       "      <td>1191.000837</td>\n",
       "      <td>1.000000</td>\n",
       "    </tr>\n",
       "  </tbody>\n",
       "</table>\n",
       "</div>"
      ],
      "text/plain": [
       "       Mean_Integrated_Profile  Std_Dev_Integrated_Profile  \\\n",
       "count             17898.000000                17898.000000   \n",
       "mean                111.079968                   46.549532   \n",
       "std                  25.652935                    6.843189   \n",
       "min                   5.812500                   24.772042   \n",
       "25%                 100.929688                   42.376018   \n",
       "50%                 115.078125                   46.947479   \n",
       "75%                 127.085938                   51.023202   \n",
       "max                 192.617188                   98.778911   \n",
       "\n",
       "       Excess_Kurtosis_Integrated_Profile  Skewness_Integrated_Profile  \\\n",
       "count                        17898.000000                 17898.000000   \n",
       "mean                             0.477857                     1.770279   \n",
       "std                              1.064040                     6.167913   \n",
       "min                             -1.876011                    -1.791886   \n",
       "25%                              0.027098                    -0.188572   \n",
       "50%                              0.223240                     0.198710   \n",
       "75%                              0.473325                     0.927783   \n",
       "max                              8.069522                    68.101622   \n",
       "\n",
       "       Mean_DM-SNR_Curve  Std_Dev_DM-SNR_Curve  Excess_Kurtosis_DM-SNR_Curve  \\\n",
       "count       17898.000000          17898.000000                  17898.000000   \n",
       "mean           12.614400             26.326515                      8.303556   \n",
       "std            29.472897             19.470572                      4.506092   \n",
       "min             0.213211              7.370432                     -3.139270   \n",
       "25%             1.923077             14.437332                      5.781506   \n",
       "50%             2.801839             18.461316                      8.433515   \n",
       "75%             5.464256             28.428104                     10.702959   \n",
       "max           223.392141            110.642211                     34.539844   \n",
       "\n",
       "       Skewness_DM-SNR_Curve  Target_Class  \n",
       "count           17898.000000  17898.000000  \n",
       "mean              104.857709      0.091574  \n",
       "std               106.514540      0.288432  \n",
       "min                -1.976976      0.000000  \n",
       "25%                34.960504      0.000000  \n",
       "50%                83.064556      0.000000  \n",
       "75%               139.309330      0.000000  \n",
       "max              1191.000837      1.000000  "
      ]
     },
     "execution_count": 7,
     "metadata": {},
     "output_type": "execute_result"
    }
   ],
   "source": [
    "# View summary statistics for numerical variables\n",
    "\n",
    "data.describe()"
   ]
  },
  {
   "cell_type": "code",
   "execution_count": 8,
   "metadata": {
    "id": "lhQYvtLnr3i_"
   },
   "outputs": [
    {
     "data": {
      "text/plain": [
       "<Figure size 2400x2000 with 0 Axes>"
      ]
     },
     "metadata": {},
     "output_type": "display_data"
    },
    {
     "data": {
      "image/png": "[encoded data removed]",
      "text/plain": [
       "<Figure size 640x480 with 9 Axes>"
      ]
     },
     "metadata": {},
     "output_type": "display_data"
    }
   ],
   "source": [
    "# plot histogram to check distribution\n",
    "\n",
    "\n",
    "plt.figure(figsize=(24,20))\n",
    "data.hist(bins=20, color='blue', edgecolor='black', grid=False)\n",
    "\n",
    "# Adjust layout for better visibility\n",
    "plt.tight_layout()\n",
    "plt.show()"
   ]
  },
  {
   "cell_type": "code",
   "execution_count": 9,
   "metadata": {
    "id": "fbRvwMWar9Ra"
   },
   "outputs": [
    {
     "name": "stdout",
     "output_type": "stream",
     "text": [
      "Shape of data: (17898, 9)\n",
      "Shape of X: (17898, 8)\n",
      "Shape of y: (17898,)\n"
     ]
    }
   ],
   "source": [
    "#Seperate X input and y label\n",
    "\n",
    "X = data.drop(\"Target_Class\", axis=1)  # X input (all columns except 'Target_Class')\n",
    "y = data[\"Target_Class\"]\n",
    "\n",
    "print(f\"Shape of data: {data.shape}\")\n",
    "print(f\"Shape of X: {X.shape}\")\n",
    "print(f\"Shape of y: {y.shape}\")"
   ]
  },
  {
   "cell_type": "code",
   "execution_count": 10,
   "metadata": {
    "id": "pGtdrVposArJ"
   },
   "outputs": [
    {
     "name": "stdout",
     "output_type": "stream",
     "text": [
      "Shape of X_train: (14318, 8)\n",
      "Shape of X_test: (3580, 8)\n"
     ]
    }
   ],
   "source": [
    "from sklearn.model_selection import train_test_split\n",
    "\n",
    "# Split X and y into training and testing sets\n",
    "X_train, X_test, y_train, y_test = train_test_split(X, y, test_size=0.2, random_state=42)\n",
    "\n",
    "# Check the shape of X_train and X_test\n",
    "print(\"Shape of X_train:\", X_train.shape)\n",
    "print(\"Shape of X_test:\", X_test.shape)"
   ]
  },
  {
   "cell_type": "code",
   "execution_count": 11,
   "metadata": {
    "id": "6RtB2OFYsEaQ"
   },
   "outputs": [
    {
     "name": "stdout",
     "output_type": "stream",
     "text": [
      "Shape of X_train_scaled: (14318, 8)\n",
      "Shape of X_test_scaled: (3580, 8)\n"
     ]
    }
   ],
   "source": [
    "# StandardScaler conversion on train and test data\n",
    "\n",
    "from sklearn.preprocessing import StandardScaler\n",
    "scaler = StandardScaler()\n",
    "\n",
    "# Fit the scaler on the training data and transform both training and testing data\n",
    "X_train_scaled = scaler.fit_transform(X_train)\n",
    "X_test_scaled = scaler.transform(X_test)\n",
    "\n",
    "# Check the shape of the scaled sets\n",
    "print(\"Shape of X_train_scaled:\", X_train_scaled.shape)\n",
    "print(\"Shape of X_test_scaled:\", X_test_scaled.shape)"
   ]
  },
  {
   "cell_type": "code",
   "execution_count": 12,
   "metadata": {
    "id": "vU9TBxfmsJqz"
   },
   "outputs": [
    {
     "data": {
      "text/html": [
       "<div>\n",
       "<style scoped>\n",
       "    .dataframe tbody tr th:only-of-type {\n",
       "        vertical-align: middle;\n",
       "    }\n",
       "\n",
       "    .dataframe tbody tr th {\n",
       "        vertical-align: top;\n",
       "    }\n",
       "\n",
       "    .dataframe thead th {\n",
       "        text-align: right;\n",
       "    }\n",
       "</style>\n",
       "<table border=\"1\" class=\"dataframe\">\n",
       "  <thead>\n",
       "    <tr style=\"text-align: right;\">\n",
       "      <th></th>\n",
       "      <th>Mean_Integrated_Profile</th>\n",
       "      <th>Std_Dev_Integrated_Profile</th>\n",
       "      <th>Excess_Kurtosis_Integrated_Profile</th>\n",
       "      <th>Skewness_Integrated_Profile</th>\n",
       "      <th>Mean_DM-SNR_Curve</th>\n",
       "      <th>Std_Dev_DM-SNR_Curve</th>\n",
       "      <th>Excess_Kurtosis_DM-SNR_Curve</th>\n",
       "      <th>Skewness_DM-SNR_Curve</th>\n",
       "    </tr>\n",
       "  </thead>\n",
       "  <tbody>\n",
       "    <tr>\n",
       "      <th>0</th>\n",
       "      <td>-0.090333</td>\n",
       "      <td>0.143534</td>\n",
       "      <td>-0.269783</td>\n",
       "      <td>-0.285874</td>\n",
       "      <td>-0.328422</td>\n",
       "      <td>-0.423921</td>\n",
       "      <td>0.031083</td>\n",
       "      <td>-0.199055</td>\n",
       "    </tr>\n",
       "    <tr>\n",
       "      <th>1</th>\n",
       "      <td>0.408409</td>\n",
       "      <td>0.639519</td>\n",
       "      <td>-0.371694</td>\n",
       "      <td>-0.301350</td>\n",
       "      <td>-0.389996</td>\n",
       "      <td>-0.753078</td>\n",
       "      <td>1.291659</td>\n",
       "      <td>1.272579</td>\n",
       "    </tr>\n",
       "    <tr>\n",
       "      <th>2</th>\n",
       "      <td>-0.421811</td>\n",
       "      <td>-0.399666</td>\n",
       "      <td>-0.230405</td>\n",
       "      <td>-0.213725</td>\n",
       "      <td>-0.388499</td>\n",
       "      <td>-0.641073</td>\n",
       "      <td>1.284652</td>\n",
       "      <td>1.017964</td>\n",
       "    </tr>\n",
       "    <tr>\n",
       "      <th>3</th>\n",
       "      <td>0.287760</td>\n",
       "      <td>-0.784650</td>\n",
       "      <td>-0.296915</td>\n",
       "      <td>-0.116357</td>\n",
       "      <td>-0.387878</td>\n",
       "      <td>-0.662669</td>\n",
       "      <td>1.356077</td>\n",
       "      <td>1.189163</td>\n",
       "    </tr>\n",
       "    <tr>\n",
       "      <th>4</th>\n",
       "      <td>-0.544897</td>\n",
       "      <td>-1.554221</td>\n",
       "      <td>-0.106339</td>\n",
       "      <td>0.078831</td>\n",
       "      <td>-0.331614</td>\n",
       "      <td>-0.447013</td>\n",
       "      <td>0.089606</td>\n",
       "      <td>-0.141427</td>\n",
       "    </tr>\n",
       "  </tbody>\n",
       "</table>\n",
       "</div>"
      ],
      "text/plain": [
       "   Mean_Integrated_Profile  Std_Dev_Integrated_Profile  \\\n",
       "0                -0.090333                    0.143534   \n",
       "1                 0.408409                    0.639519   \n",
       "2                -0.421811                   -0.399666   \n",
       "3                 0.287760                   -0.784650   \n",
       "4                -0.544897                   -1.554221   \n",
       "\n",
       "   Excess_Kurtosis_Integrated_Profile  Skewness_Integrated_Profile  \\\n",
       "0                           -0.269783                    -0.285874   \n",
       "1                           -0.371694                    -0.301350   \n",
       "2                           -0.230405                    -0.213725   \n",
       "3                           -0.296915                    -0.116357   \n",
       "4                           -0.106339                     0.078831   \n",
       "\n",
       "   Mean_DM-SNR_Curve  Std_Dev_DM-SNR_Curve  Excess_Kurtosis_DM-SNR_Curve  \\\n",
       "0          -0.328422             -0.423921                      0.031083   \n",
       "1          -0.389996             -0.753078                      1.291659   \n",
       "2          -0.388499             -0.641073                      1.284652   \n",
       "3          -0.387878             -0.662669                      1.356077   \n",
       "4          -0.331614             -0.447013                      0.089606   \n",
       "\n",
       "   Skewness_DM-SNR_Curve  \n",
       "0              -0.199055  \n",
       "1               1.272579  \n",
       "2               1.017964  \n",
       "3               1.189163  \n",
       "4              -0.141427  "
      ]
     },
     "execution_count": 12,
     "metadata": {},
     "output_type": "execute_result"
    }
   ],
   "source": [
    "# convert into dataframe both train and test data\n",
    "\n",
    "import pandas as pd\n",
    "\n",
    "# Convert scaled arrays to DataFrames\n",
    "X_train_scaled_df = pd.DataFrame(X_train_scaled, columns=X_train.columns)\n",
    "X_test_scaled_df = pd.DataFrame(X_test_scaled, columns=X_test.columns)\n",
    "\n",
    "X_train_scaled_df.head()"
   ]
  },
  {
   "cell_type": "code",
   "execution_count": 13,
   "metadata": {
    "id": "m-FXSsgCsRrD"
   },
   "outputs": [
    {
     "name": "stdout",
     "output_type": "stream",
     "text": [
      "Model accuracy score with default hyperparameters: 0.9796\n"
     ]
    }
   ],
   "source": [
    "# import SVC classifier\n",
    "\n",
    "from sklearn.svm import SVC\n",
    "\n",
    "# import metrics to compute accuracy\n",
    "\n",
    "from sklearn.metrics import accuracy_score\n",
    "\n",
    "# instantiate classifier with default hyperparameters\n",
    "\n",
    "classifier = SVC()\n",
    "\n",
    "# fit classifier to training set\n",
    "\n",
    "classifier.fit(X_train_scaled_df, y_train)\n",
    "\n",
    "# make predictions on test set\n",
    "\n",
    "y_pred = classifier.predict(X_test_scaled_df)\n",
    "\n",
    "# compute and print accuracy score\n",
    "print('Model accuracy score with default hyperparameters: {0:0.4f}'. format(accuracy_score(y_test, y_pred)))"
   ]
  },
  {
   "cell_type": "code",
   "execution_count": 23,
   "metadata": {
    "id": "lql9-Q0bsxNk"
   },
   "outputs": [
    {
     "name": "stdout",
     "output_type": "stream",
     "text": [
      "SVM with RBF kernel accuracy: 0.9821\n",
      "SVM with Linear kernel accuracy: 0.9791\n"
     ]
    }
   ],
   "source": [
    "# SVM with rbf and linear kernel with C=100.0\n",
    "\n",
    "# SVM with RBF kernel\n",
    "svm_rbf = SVC(kernel='rbf', C=100.0)\n",
    "svm_rbf.fit(X_train_scaled_df, y_train)\n",
    "y_pred_rbf = svm_rbf.predict(X_test_scaled_df)\n",
    "accuracy_rbf = accuracy_score(y_test, y_pred_rbf)\n",
    "print(f'SVM with RBF kernel accuracy: {accuracy_rbf:0.4f}')\n",
    "\n",
    "# SVM with Linear kernel\n",
    "svm_linear = SVC(kernel='linear', C=100.0)\n",
    "svm_linear.fit(X_train_scaled_df, y_train)\n",
    "y_pred_linear = svm_linear.predict(X_test_scaled_df)\n",
    "accuracy_linear = accuracy_score(y_test, y_pred_linear)\n",
    "print(f'SVM with Linear kernel accuracy: {accuracy_linear:0.4f}')"
   ]
  },
  {
   "cell_type": "markdown",
   "metadata": {
    "id": "l9S5sIewsqv1"
   },
   "source": [
    "We get maximum accuracy with rbf and linear kernel with C=100.0. and the accuracy is 0.9832. Based on analysis we can conclude that our classification model accuracy is very good. Our model is doing a very good job in terms of predicting the class labels."
   ]
  },
  {
   "cell_type": "code",
   "execution_count": 24,
   "metadata": {
    "id": "0hZr2dF0s57d"
   },
   "outputs": [
    {
     "data": {
      "image/png": "[encoded data removed]",
      "text/plain": [
       "<Figure size 400x200 with 2 Axes>"
      ]
     },
     "metadata": {},
     "output_type": "display_data"
    }
   ],
   "source": [
    "# confusion matrix\n",
    "\n",
    "from sklearn.metrics import confusion_matrix\n",
    "cm = confusion_matrix(y_test, y_pred_rbf)\n",
    "\n",
    "# Display the confusion matrix using seaborn\n",
    "plt.figure(figsize=(4, 2))\n",
    "sns.heatmap(cm, annot=True, fmt='d', cmap='Blues', cbar=True,\n",
    "            xticklabels=['Class 0', 'Class 1'],\n",
    "            yticklabels=['Class 0', 'Class 1'])\n",
    "plt.title('Confusion Matrix')\n",
    "plt.xlabel('Predicted')\n",
    "plt.ylabel('Actual')\n",
    "plt.show()"
   ]
  },
  {
   "cell_type": "code",
   "execution_count": 25,
   "metadata": {
    "id": "xIxHnhH1tFUV"
   },
   "outputs": [
    {
     "name": "stdout",
     "output_type": "stream",
     "text": [
      "Classification Accuracy: 0.9821\n",
      "Classification Error: 0.0179\n",
      "Precision: 0.9509\n",
      "Recall or Sensitivity: 0.8442\n"
     ]
    }
   ],
   "source": [
    "# print classification accuracy\n",
    "\n",
    "accuracy = accuracy_score(y_test, y_pred_rbf)\n",
    "print('Classification Accuracy: {0:0.4f}'.format(accuracy))\n",
    "\n",
    "# print classification error\n",
    "\n",
    "classification_error = 1 - accuracy\n",
    "print('Classification Error: {0:0.4f}'.format(classification_error))\n",
    "\n",
    "# print precision and Recall score\n",
    "\n",
    "from sklearn.metrics import precision_score, recall_score\n",
    "precision = precision_score(y_test, y_pred_rbf)\n",
    "recall = recall_score(y_test, y_pred_rbf)\n",
    "\n",
    "# Print precision and recall scores\n",
    "print('Precision: {0:0.4f}'.format(precision))\n",
    "print('Recall or Sensitivity: {0:0.4f}'.format(recall))"
   ]
  },
  {
   "cell_type": "code",
   "execution_count": 31,
   "metadata": {
    "id": "R5WhTe9rtdfi"
   },
   "outputs": [
    {
     "data": {
      "image/png": "[encoded data removed]",
      "text/plain": [
       "<Figure size 600x400 with 1 Axes>"
      ]
     },
     "metadata": {},
     "output_type": "display_data"
    },
    {
     "name": "stdout",
     "output_type": "stream",
     "text": [
      "ROC AUC: 0.9591\n"
     ]
    }
   ],
   "source": [
    "# plot ROC Curve\n",
    "\n",
    "from sklearn.metrics import roc_curve\n",
    "# Get decision function scores\n",
    "decision_scores = svm_rbf.decision_function(X_test_scaled_df)\n",
    "\n",
    "# Calculate the ROC curve\n",
    "fpr, tpr, thresholds = roc_curve(y_test, decision_scores)\n",
    "\n",
    "# Plot the ROC curve\n",
    "plt.figure(figsize=(6, 4))\n",
    "plt.plot(fpr, tpr, linewidth=2, label='ROC Curve')\n",
    "plt.plot([0, 1], [0, 1], 'k--', label='Random')\n",
    "plt.title('ROC curve for Predicting a Pulsar Star classifier')\n",
    "plt.xlabel('False Positive Rate (1 - Specificity)')\n",
    "plt.ylabel('True Positive Rate (Sensitivity)')\n",
    "plt.legend()\n",
    "plt.show()\n",
    "\n",
    "# Calculate ROC AUC\n",
    "ROC_AUC = roc_auc_score(y_test, decision_scores)\n",
    "print('ROC AUC: {:.4f}'.format(ROC_AUC))"
   ]
  },
  {
   "cell_type": "code",
   "execution_count": 33,
   "metadata": {
    "id": "FaZ8PRFUt6QI"
   },
   "outputs": [
    {
     "name": "stdout",
     "output_type": "stream",
     "text": [
      "Cross validated ROC AUC : 0.9635\n"
     ]
    }
   ],
   "source": [
    "# calculate cross-validated ROC AUC\n",
    "\n",
    "from sklearn.model_selection import cross_val_score\n",
    "\n",
    "Cross_validated_ROC_AUC = cross_val_score(svm_rbf, X_train, y_train, cv=10, scoring='roc_auc').mean()\n",
    "\n",
    "print('Cross validated ROC AUC : {:.4f}'.format(Cross_validated_ROC_AUC))"
   ]
  },
  {
   "cell_type": "code",
   "execution_count": null,
   "metadata": {},
   "outputs": [],
   "source": []
  }
 ],
 "metadata": {
  "colab": {
   "provenance": []
  },
  "kernelspec": {
   "display_name": "Python 3 (ipykernel)",
   "language": "python",
   "name": "python3"
  },
  "language_info": {
   "codemirror_mode": {
    "name": "ipython",
    "version": 3
   },
   "file_extension": ".py",
   "mimetype": "text/x-python",
   "name": "python",
   "nbconvert_exporter": "python",
   "pygments_lexer": "ipython3",
   "version": "3.10.9"
  }
 },
 "nbformat": 4,
 "nbformat_minor": 1
}
