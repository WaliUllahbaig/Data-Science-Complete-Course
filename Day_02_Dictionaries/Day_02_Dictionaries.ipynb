{
  "nbformat": 4,
  "nbformat_minor": 0,
  "metadata": {
    "colab": {
      "provenance": []
    },
    "kernelspec": {
      "name": "python3",
      "display_name": "Python 3"
    },
    "language_info": {
      "name": "python"
    }
  },
  "cells": [
    {
      "cell_type": "markdown",
      "source": [
        "# **Shah Wali Ullah Baig**\n",
        "Email: Shahwalibaig39@gmail.com"
      ],
      "metadata": {
        "id": "ONXN8RBiRNay"
      }
    },
    {
      "cell_type": "code",
      "execution_count": 6,
      "metadata": {
        "colab": {
          "base_uri": "https://localhost:8080/"
        },
        "id": "RgeXQZPF5eFl",
        "outputId": "32cf6f1a-e72c-4a72-eed9-0c8b93a6205a"
      },
      "outputs": [
        {
          "output_type": "stream",
          "name": "stdout",
          "text": [
            "{0, 1, 2.1, 'a'}\n"
          ]
        }
      ],
      "source": [
        "set = {0,1,2.1,'a'}\n",
        "print(set)"
      ]
    },
    {
      "cell_type": "code",
      "source": [
        "#- Create a dictionary representing a book with keys \"title,\" \"author,\" and \"year.\"\n",
        "\n",
        "book = {'123':['Shah',2001],'124':['Wali',2002],'125':['Ullah',2003]}"
      ],
      "metadata": {
        "id": "fAVlEIsH-OJq"
      },
      "execution_count": 13,
      "outputs": []
    },
    {
      "cell_type": "code",
      "source": [
        "#- Access the \"author\" of the book dictionary you created.\n",
        "\n",
        "print(book['124'][0])"
      ],
      "metadata": {
        "colab": {
          "base_uri": "https://localhost:8080/"
        },
        "id": "3DglM99_CCap",
        "outputId": "f49ba6af-562c-4640-a1f7-f3105ccf71fc"
      },
      "execution_count": 14,
      "outputs": [
        {
          "output_type": "stream",
          "name": "stdout",
          "text": [
            "Wali\n"
          ]
        }
      ]
    },
    {
      "cell_type": "code",
      "source": [
        "#- Modify the book dictionary to change the \"year\" to 2022.\n",
        "\n",
        "book['125'][1] = 2022\n",
        "print(book)\n",
        "print(book['125'][1])"
      ],
      "metadata": {
        "colab": {
          "base_uri": "https://localhost:8080/"
        },
        "id": "M7dz7EV0Cp9n",
        "outputId": "ba303509-1cef-47a1-93d4-575fc6433947"
      },
      "execution_count": 16,
      "outputs": [
        {
          "output_type": "stream",
          "name": "stdout",
          "text": [
            "{'123': ['Shah', 2001], '124': ['Wali', 2002], '125': ['Ullah', 2022]}\n",
            "2022\n"
          ]
        }
      ]
    },
    {
      "cell_type": "code",
      "source": [
        "#- Create an empty dictionary called \"fruits\" and add three key-value pairs for your favorite fruits.\n",
        "\n",
        "fruits = {}\n",
        "fruits['Apple'] = []\n",
        "fruits['Mango'] = []\n",
        "fruits['Banana'] = []\n",
        "\n",
        "print(fruits)"
      ],
      "metadata": {
        "colab": {
          "base_uri": "https://localhost:8080/"
        },
        "id": "6lX_bHYVDJ_U",
        "outputId": "c67d2b61-c044-4099-ae53-74e25defab49"
      },
      "execution_count": 34,
      "outputs": [
        {
          "output_type": "stream",
          "name": "stdout",
          "text": [
            "{'Apple': [], 'Mango': [], 'Banana': []}\n"
          ]
        }
      ]
    },
    {
      "cell_type": "code",
      "source": [
        "#- Remove one of the key-value pairs from the \"fruits\" dictionary.\n",
        "\n",
        "del fruits['Mango']\n",
        "print(fruits)"
      ],
      "metadata": {
        "colab": {
          "base_uri": "https://localhost:8080/"
        },
        "id": "PUVOCBNCDs3h",
        "outputId": "03872015-3f50-43b6-d8b1-d63d065aea51"
      },
      "execution_count": 35,
      "outputs": [
        {
          "output_type": "stream",
          "name": "stdout",
          "text": [
            "{'Apple': [], 'Banana': []}\n"
          ]
        }
      ]
    },
    {
      "cell_type": "code",
      "source": [
        "#- Create a dictionary representing a person with keys \"name,\" \"age,\" and \"city.\" Use the get() method\n",
        "#  to retrieve the person's age, providing a default value of 30 if the \"age\" key doesn't exist.\n",
        "\n",
        "person = {'name':'Wali', 'age':22, 'city':'Lahore'}\n",
        "\n",
        "def get(a):\n",
        "  result = 30\n",
        "  if('age' in a):\n",
        "    result = a['age']\n",
        "    return result\n",
        "  else:\n",
        "    return result\n",
        "\n",
        "get(person)"
      ],
      "metadata": {
        "colab": {
          "base_uri": "https://localhost:8080/"
        },
        "id": "HWT5JqAkEFYs",
        "outputId": "d4c0a0b6-09b7-4e48-ee3f-5d099e0f317c"
      },
      "execution_count": 29,
      "outputs": [
        {
          "output_type": "execute_result",
          "data": {
            "text/plain": [
              "22"
            ]
          },
          "metadata": {},
          "execution_count": 29
        }
      ]
    },
    {
      "cell_type": "code",
      "source": [],
      "metadata": {
        "id": "ZGyNaSRiJtZk"
      },
      "execution_count": null,
      "outputs": []
    }
  ]
}