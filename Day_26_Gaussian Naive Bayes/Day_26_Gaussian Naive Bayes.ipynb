{
 "cells": [
  {
   "cell_type": "markdown",
   "metadata": {
    "colab": {
     "base_uri": "https://localhost:8080/"
    },
    "id": "olbB4qbshx7Z",
    "outputId": "3458ebf6-a2a0-46b8-a505-c8a37e65ae9c"
   },
   "source": [
    "Shah Wali Ullah Baig"
   ]
  },
  {
   "cell_type": "code",
   "execution_count": 113,
   "metadata": {
    "colab": {
     "base_uri": "https://localhost:8080/"
    },
    "id": "HKVxYaQZzdUJ",
    "outputId": "a4c7669a-540d-4991-c4df-9f58fe27deec"
   },
   "outputs": [
    {
     "name": "stdout",
     "output_type": "stream",
     "text": [
      "Target labels: 0    0\n",
      "1    0\n",
      "2    0\n",
      "3    0\n",
      "4    0\n",
      "Name: target, dtype: int32\n",
      "\n",
      "Features labels:\n"
     ]
    },
    {
     "data": {
      "text/html": [
       "<div>\n",
       "<style scoped>\n",
       "    .dataframe tbody tr th:only-of-type {\n",
       "        vertical-align: middle;\n",
       "    }\n",
       "\n",
       "    .dataframe tbody tr th {\n",
       "        vertical-align: top;\n",
       "    }\n",
       "\n",
       "    .dataframe thead th {\n",
       "        text-align: right;\n",
       "    }\n",
       "</style>\n",
       "<table border=\"1\" class=\"dataframe\">\n",
       "  <thead>\n",
       "    <tr style=\"text-align: right;\">\n",
       "      <th></th>\n",
       "      <th>mean radius</th>\n",
       "      <th>mean texture</th>\n",
       "      <th>mean perimeter</th>\n",
       "      <th>mean area</th>\n",
       "      <th>mean smoothness</th>\n",
       "      <th>mean compactness</th>\n",
       "      <th>mean concavity</th>\n",
       "      <th>mean concave points</th>\n",
       "      <th>mean symmetry</th>\n",
       "      <th>mean fractal dimension</th>\n",
       "      <th>...</th>\n",
       "      <th>worst radius</th>\n",
       "      <th>worst texture</th>\n",
       "      <th>worst perimeter</th>\n",
       "      <th>worst area</th>\n",
       "      <th>worst smoothness</th>\n",
       "      <th>worst compactness</th>\n",
       "      <th>worst concavity</th>\n",
       "      <th>worst concave points</th>\n",
       "      <th>worst symmetry</th>\n",
       "      <th>worst fractal dimension</th>\n",
       "    </tr>\n",
       "  </thead>\n",
       "  <tbody>\n",
       "    <tr>\n",
       "      <th>0</th>\n",
       "      <td>17.99</td>\n",
       "      <td>10.38</td>\n",
       "      <td>122.80</td>\n",
       "      <td>1001.0</td>\n",
       "      <td>0.11840</td>\n",
       "      <td>0.27760</td>\n",
       "      <td>0.3001</td>\n",
       "      <td>0.14710</td>\n",
       "      <td>0.2419</td>\n",
       "      <td>0.07871</td>\n",
       "      <td>...</td>\n",
       "      <td>25.38</td>\n",
       "      <td>17.33</td>\n",
       "      <td>184.60</td>\n",
       "      <td>2019.0</td>\n",
       "      <td>0.1622</td>\n",
       "      <td>0.6656</td>\n",
       "      <td>0.7119</td>\n",
       "      <td>0.2654</td>\n",
       "      <td>0.4601</td>\n",
       "      <td>0.11890</td>\n",
       "    </tr>\n",
       "    <tr>\n",
       "      <th>1</th>\n",
       "      <td>20.57</td>\n",
       "      <td>17.77</td>\n",
       "      <td>132.90</td>\n",
       "      <td>1326.0</td>\n",
       "      <td>0.08474</td>\n",
       "      <td>0.07864</td>\n",
       "      <td>0.0869</td>\n",
       "      <td>0.07017</td>\n",
       "      <td>0.1812</td>\n",
       "      <td>0.05667</td>\n",
       "      <td>...</td>\n",
       "      <td>24.99</td>\n",
       "      <td>23.41</td>\n",
       "      <td>158.80</td>\n",
       "      <td>1956.0</td>\n",
       "      <td>0.1238</td>\n",
       "      <td>0.1866</td>\n",
       "      <td>0.2416</td>\n",
       "      <td>0.1860</td>\n",
       "      <td>0.2750</td>\n",
       "      <td>0.08902</td>\n",
       "    </tr>\n",
       "    <tr>\n",
       "      <th>2</th>\n",
       "      <td>19.69</td>\n",
       "      <td>21.25</td>\n",
       "      <td>130.00</td>\n",
       "      <td>1203.0</td>\n",
       "      <td>0.10960</td>\n",
       "      <td>0.15990</td>\n",
       "      <td>0.1974</td>\n",
       "      <td>0.12790</td>\n",
       "      <td>0.2069</td>\n",
       "      <td>0.05999</td>\n",
       "      <td>...</td>\n",
       "      <td>23.57</td>\n",
       "      <td>25.53</td>\n",
       "      <td>152.50</td>\n",
       "      <td>1709.0</td>\n",
       "      <td>0.1444</td>\n",
       "      <td>0.4245</td>\n",
       "      <td>0.4504</td>\n",
       "      <td>0.2430</td>\n",
       "      <td>0.3613</td>\n",
       "      <td>0.08758</td>\n",
       "    </tr>\n",
       "    <tr>\n",
       "      <th>3</th>\n",
       "      <td>11.42</td>\n",
       "      <td>20.38</td>\n",
       "      <td>77.58</td>\n",
       "      <td>386.1</td>\n",
       "      <td>0.14250</td>\n",
       "      <td>0.28390</td>\n",
       "      <td>0.2414</td>\n",
       "      <td>0.10520</td>\n",
       "      <td>0.2597</td>\n",
       "      <td>0.09744</td>\n",
       "      <td>...</td>\n",
       "      <td>14.91</td>\n",
       "      <td>26.50</td>\n",
       "      <td>98.87</td>\n",
       "      <td>567.7</td>\n",
       "      <td>0.2098</td>\n",
       "      <td>0.8663</td>\n",
       "      <td>0.6869</td>\n",
       "      <td>0.2575</td>\n",
       "      <td>0.6638</td>\n",
       "      <td>0.17300</td>\n",
       "    </tr>\n",
       "    <tr>\n",
       "      <th>4</th>\n",
       "      <td>20.29</td>\n",
       "      <td>14.34</td>\n",
       "      <td>135.10</td>\n",
       "      <td>1297.0</td>\n",
       "      <td>0.10030</td>\n",
       "      <td>0.13280</td>\n",
       "      <td>0.1980</td>\n",
       "      <td>0.10430</td>\n",
       "      <td>0.1809</td>\n",
       "      <td>0.05883</td>\n",
       "      <td>...</td>\n",
       "      <td>22.54</td>\n",
       "      <td>16.67</td>\n",
       "      <td>152.20</td>\n",
       "      <td>1575.0</td>\n",
       "      <td>0.1374</td>\n",
       "      <td>0.2050</td>\n",
       "      <td>0.4000</td>\n",
       "      <td>0.1625</td>\n",
       "      <td>0.2364</td>\n",
       "      <td>0.07678</td>\n",
       "    </tr>\n",
       "  </tbody>\n",
       "</table>\n",
       "<p>5 rows × 30 columns</p>\n",
       "</div>"
      ],
      "text/plain": [
       "   mean radius  mean texture  mean perimeter  mean area  mean smoothness  \\\n",
       "0        17.99         10.38          122.80     1001.0          0.11840   \n",
       "1        20.57         17.77          132.90     1326.0          0.08474   \n",
       "2        19.69         21.25          130.00     1203.0          0.10960   \n",
       "3        11.42         20.38           77.58      386.1          0.14250   \n",
       "4        20.29         14.34          135.10     1297.0          0.10030   \n",
       "\n",
       "   mean compactness  mean concavity  mean concave points  mean symmetry  \\\n",
       "0           0.27760          0.3001              0.14710         0.2419   \n",
       "1           0.07864          0.0869              0.07017         0.1812   \n",
       "2           0.15990          0.1974              0.12790         0.2069   \n",
       "3           0.28390          0.2414              0.10520         0.2597   \n",
       "4           0.13280          0.1980              0.10430         0.1809   \n",
       "\n",
       "   mean fractal dimension  ...  worst radius  worst texture  worst perimeter  \\\n",
       "0                 0.07871  ...         25.38          17.33           184.60   \n",
       "1                 0.05667  ...         24.99          23.41           158.80   \n",
       "2                 0.05999  ...         23.57          25.53           152.50   \n",
       "3                 0.09744  ...         14.91          26.50            98.87   \n",
       "4                 0.05883  ...         22.54          16.67           152.20   \n",
       "\n",
       "   worst area  worst smoothness  worst compactness  worst concavity  \\\n",
       "0      2019.0            0.1622             0.6656           0.7119   \n",
       "1      1956.0            0.1238             0.1866           0.2416   \n",
       "2      1709.0            0.1444             0.4245           0.4504   \n",
       "3       567.7            0.2098             0.8663           0.6869   \n",
       "4      1575.0            0.1374             0.2050           0.4000   \n",
       "\n",
       "   worst concave points  worst symmetry  worst fractal dimension  \n",
       "0                0.2654          0.4601                  0.11890  \n",
       "1                0.1860          0.2750                  0.08902  \n",
       "2                0.2430          0.3613                  0.08758  \n",
       "3                0.2575          0.6638                  0.17300  \n",
       "4                0.1625          0.2364                  0.07678  \n",
       "\n",
       "[5 rows x 30 columns]"
      ]
     },
     "execution_count": 113,
     "metadata": {},
     "output_type": "execute_result"
    }
   ],
   "source": [
    "#import libraries\n",
    "\n",
    "import pandas as pd\n",
    "from sklearn.datasets import load_breast_cancer\n",
    "from sklearn.model_selection import train_test_split\n",
    "from sklearn.naive_bayes import GaussianNB\n",
    "from sklearn.metrics import accuracy_score, classification_report\n",
    "\n",
    "# Load data\n",
    "df = load_breast_cancer()\n",
    "\n",
    "# Create a DataFrame\n",
    "data = pd.DataFrame(df.data, columns=df.feature_names)\n",
    "\n",
    "# Add the target variable to the DataFrame\n",
    "data['target'] = df.target\n",
    "target = data['target']\n",
    "\n",
    "# Print target label and features label\n",
    "print(\"Target labels:\", data['target'].head())\n",
    "print(\"\\nFeatures labels:\")\n",
    "features = data.iloc[:,:-1]\n",
    "features.head()"
   ]
  },
  {
   "cell_type": "code",
   "execution_count": 114,
   "metadata": {},
   "outputs": [],
   "source": [
    "# Split the data into train and test sets\n",
    "X_train, X_test, y_train, y_test = train_test_split(features, target, test_size=0.2, random_state=42)\n",
    "\n",
    "# Perform Naive Bayes classification\n",
    "naive_bayes_model = GaussianNB()\n",
    "\n",
    "# Fit your model\n",
    "naive_bayes_model.fit(X_train, y_train)\n",
    "\n",
    "# Perform prediction\n",
    "y_pred = naive_bayes_model.predict(X_test)"
   ]
  },
  {
   "cell_type": "code",
   "execution_count": 115,
   "metadata": {
    "colab": {
     "base_uri": "https://localhost:8080/"
    },
    "id": "UV45oxO27fdq",
    "outputId": "b0bc0419-972b-41d5-a561-86c496147e0f"
   },
   "outputs": [
    {
     "name": "stdout",
     "output_type": "stream",
     "text": [
      "43\n"
     ]
    }
   ],
   "source": [
    "print((y_test==0).sum())"
   ]
  },
  {
   "cell_type": "code",
   "execution_count": 116,
   "metadata": {
    "id": "xOlOxu8C6qNe"
   },
   "outputs": [
    {
     "name": "stdout",
     "output_type": "stream",
     "text": [
      "Confusion Matrix:\n",
      "[[40  3]\n",
      " [ 0 71]]\n"
     ]
    }
   ],
   "source": [
    "# confusion matrix\n",
    "\n",
    "from sklearn.metrics import confusion_matrix\n",
    "conf_matrix = confusion_matrix(y_test, y_pred)\n",
    "print('Confusion Matrix:')\n",
    "print(conf_matrix)"
   ]
  },
  {
   "cell_type": "code",
   "execution_count": 117,
   "metadata": {},
   "outputs": [
    {
     "name": "stdout",
     "output_type": "stream",
     "text": [
      "\n",
      "Classification Report:\n",
      "               precision    recall  f1-score   support\n",
      "\n",
      "           0       1.00      0.93      0.96        43\n",
      "           1       0.96      1.00      0.98        71\n",
      "\n",
      "    accuracy                           0.97       114\n",
      "   macro avg       0.98      0.97      0.97       114\n",
      "weighted avg       0.97      0.97      0.97       114\n",
      "\n"
     ]
    }
   ],
   "source": [
    "# Print classification report\n",
    "\n",
    "print(\"\\nClassification Report:\\n\", classification_report(y_test, y_pred))"
   ]
  },
  {
   "cell_type": "code",
   "execution_count": 118,
   "metadata": {
    "colab": {
     "base_uri": "https://localhost:8080/"
    },
    "id": "xdv1XS0e7NFB",
    "outputId": "192c5f2f-001b-4ddd-b434-39f187cf4e1f"
   },
   "outputs": [
    {
     "name": "stdout",
     "output_type": "stream",
     "text": [
      "Classification accuracy : 0.9737\n",
      "Classification error : 0.0263\n",
      "Precision : 0.9595\n",
      "Recall or Sensitivity : 1.0000\n"
     ]
    }
   ],
   "source": [
    "from sklearn.metrics import accuracy_score, precision_score, recall_score, confusion_matrix\n",
    "\n",
    "# print classification accuracy\n",
    "\n",
    "classification_accuracy = accuracy_score(y_test, y_pred)\n",
    "print('Classification accuracy : {0:0.4f}'.format(classification_accuracy))\n",
    "\n",
    "\n",
    "# print classification error\n",
    "\n",
    "classification_error = 1 - classification_accuracy\n",
    "print('Classification error : {0:0.4f}'.format(classification_error))\n",
    "\n",
    "# print precision and Recall score\n",
    "\n",
    "precision = precision_score(y_test, y_pred)\n",
    "recall = recall_score(y_test, y_pred)\n",
    "\n",
    "print('Precision : {0:0.4f}'.format(precision))\n",
    "print('Recall or Sensitivity : {0:0.4f}'.format(recall))"
   ]
  },
  {
   "cell_type": "code",
   "execution_count": 119,
   "metadata": {
    "colab": {
     "base_uri": "https://localhost:8080/"
    },
    "id": "xKMHVCfl8KwB",
    "outputId": "5eb0973e-c61c-4062-fe07-29a7a8956e66"
   },
   "outputs": [
    {
     "data": {
      "image/png": "[encoded data removed]",
      "text/plain": [
       "<Figure size 600x400 with 1 Axes>"
      ]
     },
     "metadata": {},
     "output_type": "display_data"
    },
    {
     "name": "stdout",
     "output_type": "stream",
     "text": [
      "ROC AUC: 0.9651\n"
     ]
    }
   ],
   "source": [
    "from sklearn.metrics import roc_curve, roc_auc_score\n",
    "import matplotlib.pyplot as plt\n",
    "\n",
    "# Compute ROC curve\n",
    "fpr, tpr, thresholds = roc_curve(y_test, y_pred)\n",
    "\n",
    "# Plot ROC curve\n",
    "plt.figure(figsize=(6, 4))\n",
    "plt.plot(fpr, tpr, linewidth=2)\n",
    "plt.plot([0, 1], [0, 1], 'k--')\n",
    "plt.title('ROC curve')\n",
    "plt.xlabel('False Positive Rate (1 - Specificity)')\n",
    "plt.ylabel('True Positive Rate (Sensitivity)')\n",
    "plt.show()\n",
    "\n",
    "# compute ROC AUC\n",
    "roc_auc = roc_auc_score(y_test, y_pred)\n",
    "print('ROC AUC: {:.4f}'.format(roc_auc))\n"
   ]
  },
  {
   "cell_type": "code",
   "execution_count": 120,
   "metadata": {
    "colab": {
     "base_uri": "https://localhost:8080/"
    },
    "id": "rGWOiSJU82fJ",
    "outputId": "0a8ccca2-f003-4662-a093-7ceac37b78ff"
   },
   "outputs": [
    {
     "name": "stdout",
     "output_type": "stream",
     "text": [
      "Cross-validated ROC AUC: 0.9868\n"
     ]
    }
   ],
   "source": [
    "# calculate cross-validated ROC AUC\n",
    "\n",
    "from sklearn.model_selection import cross_val_score\n",
    "from sklearn.metrics import roc_auc_score\n",
    "from sklearn.model_selection import StratifiedKFold\n",
    "\n",
    "# Create a StratifiedKFold for cross-validation\n",
    "cv = StratifiedKFold(n_splits=5, shuffle=True, random_state=42)\n",
    "\n",
    "# Calculate cross-validated ROC AUC\n",
    "cross_val_roc_auc = cross_val_score(naive_bayes_model,X_train, y_train, cv=cv, scoring='roc_auc').mean()\n",
    "\n",
    "# Print cross-validated ROC AUC\n",
    "print('Cross-validated ROC AUC: {:.4f}'.format(cross_val_roc_auc))"
   ]
  },
  {
   "cell_type": "code",
   "execution_count": 121,
   "metadata": {
    "id": "KuthmMzLD_1n"
   },
   "outputs": [],
   "source": [
    "import numpy as np # linear algebra\n",
    "import pandas as pd # data processing, CSV file I/O (e.g. pd.read_csv)\n",
    "import matplotlib.pyplot as plt # for data visualization purposes\n",
    "import seaborn as sns # for statistical data visualization\n",
    "%matplotlib inline\n",
    "\n",
    "# Input data files are available in the \"../input/\" directory.\n",
    "# For example, running this (by clicking run or pressing Shift+Enter) will list all files under the input directory\n",
    "\n",
    "# import os\n",
    "# for dirname, _, filenames in os.walk('/kaggle/input'):\n",
    "#     for filename in filenames:\n",
    "#         print(os.path.join(dirname, filename))\n"
   ]
  },
  {
   "cell_type": "code",
   "execution_count": 122,
   "metadata": {
    "id": "rYai-YSsEGHj"
   },
   "outputs": [],
   "source": [
    "data = 'notebook_19_adult.csv'\n",
    "\n",
    "df = pd.read_csv(data)"
   ]
  },
  {
   "cell_type": "code",
   "execution_count": 123,
   "metadata": {
    "colab": {
     "base_uri": "https://localhost:8080/"
    },
    "id": "0a-8jlGVGYFH",
    "outputId": "ae826d5f-9564-4dcb-cd4e-1d7c0bc9eb7d"
   },
   "outputs": [
    {
     "name": "stdout",
     "output_type": "stream",
     "text": [
      "Dataset Dimensions: (48842, 15)\n"
     ]
    },
    {
     "data": {
      "text/html": [
       "<div>\n",
       "<style scoped>\n",
       "    .dataframe tbody tr th:only-of-type {\n",
       "        vertical-align: middle;\n",
       "    }\n",
       "\n",
       "    .dataframe tbody tr th {\n",
       "        vertical-align: top;\n",
       "    }\n",
       "\n",
       "    .dataframe thead th {\n",
       "        text-align: right;\n",
       "    }\n",
       "</style>\n",
       "<table border=\"1\" class=\"dataframe\">\n",
       "  <thead>\n",
       "    <tr style=\"text-align: right;\">\n",
       "      <th></th>\n",
       "      <th>age</th>\n",
       "      <th>workclass</th>\n",
       "      <th>fnlwgt</th>\n",
       "      <th>education</th>\n",
       "      <th>educational-num</th>\n",
       "      <th>marital-status</th>\n",
       "      <th>occupation</th>\n",
       "      <th>relationship</th>\n",
       "      <th>race</th>\n",
       "      <th>gender</th>\n",
       "      <th>capital-gain</th>\n",
       "      <th>capital-loss</th>\n",
       "      <th>hours-per-week</th>\n",
       "      <th>native-country</th>\n",
       "      <th>income</th>\n",
       "    </tr>\n",
       "  </thead>\n",
       "  <tbody>\n",
       "    <tr>\n",
       "      <th>0</th>\n",
       "      <td>25</td>\n",
       "      <td>Private</td>\n",
       "      <td>226802</td>\n",
       "      <td>11th</td>\n",
       "      <td>7</td>\n",
       "      <td>Never-married</td>\n",
       "      <td>Machine-op-inspct</td>\n",
       "      <td>Own-child</td>\n",
       "      <td>Black</td>\n",
       "      <td>Male</td>\n",
       "      <td>0</td>\n",
       "      <td>0</td>\n",
       "      <td>40</td>\n",
       "      <td>United-States</td>\n",
       "      <td>&lt;=50K</td>\n",
       "    </tr>\n",
       "    <tr>\n",
       "      <th>1</th>\n",
       "      <td>38</td>\n",
       "      <td>Private</td>\n",
       "      <td>89814</td>\n",
       "      <td>HS-grad</td>\n",
       "      <td>9</td>\n",
       "      <td>Married-civ-spouse</td>\n",
       "      <td>Farming-fishing</td>\n",
       "      <td>Husband</td>\n",
       "      <td>White</td>\n",
       "      <td>Male</td>\n",
       "      <td>0</td>\n",
       "      <td>0</td>\n",
       "      <td>50</td>\n",
       "      <td>United-States</td>\n",
       "      <td>&lt;=50K</td>\n",
       "    </tr>\n",
       "    <tr>\n",
       "      <th>2</th>\n",
       "      <td>28</td>\n",
       "      <td>Local-gov</td>\n",
       "      <td>336951</td>\n",
       "      <td>Assoc-acdm</td>\n",
       "      <td>12</td>\n",
       "      <td>Married-civ-spouse</td>\n",
       "      <td>Protective-serv</td>\n",
       "      <td>Husband</td>\n",
       "      <td>White</td>\n",
       "      <td>Male</td>\n",
       "      <td>0</td>\n",
       "      <td>0</td>\n",
       "      <td>40</td>\n",
       "      <td>United-States</td>\n",
       "      <td>&gt;50K</td>\n",
       "    </tr>\n",
       "    <tr>\n",
       "      <th>3</th>\n",
       "      <td>44</td>\n",
       "      <td>Private</td>\n",
       "      <td>160323</td>\n",
       "      <td>Some-college</td>\n",
       "      <td>10</td>\n",
       "      <td>Married-civ-spouse</td>\n",
       "      <td>Machine-op-inspct</td>\n",
       "      <td>Husband</td>\n",
       "      <td>Black</td>\n",
       "      <td>Male</td>\n",
       "      <td>7688</td>\n",
       "      <td>0</td>\n",
       "      <td>40</td>\n",
       "      <td>United-States</td>\n",
       "      <td>&gt;50K</td>\n",
       "    </tr>\n",
       "    <tr>\n",
       "      <th>4</th>\n",
       "      <td>18</td>\n",
       "      <td>?</td>\n",
       "      <td>103497</td>\n",
       "      <td>Some-college</td>\n",
       "      <td>10</td>\n",
       "      <td>Never-married</td>\n",
       "      <td>?</td>\n",
       "      <td>Own-child</td>\n",
       "      <td>White</td>\n",
       "      <td>Female</td>\n",
       "      <td>0</td>\n",
       "      <td>0</td>\n",
       "      <td>30</td>\n",
       "      <td>United-States</td>\n",
       "      <td>&lt;=50K</td>\n",
       "    </tr>\n",
       "  </tbody>\n",
       "</table>\n",
       "</div>"
      ],
      "text/plain": [
       "   age  workclass  fnlwgt     education  educational-num      marital-status  \\\n",
       "0   25    Private  226802          11th                7       Never-married   \n",
       "1   38    Private   89814       HS-grad                9  Married-civ-spouse   \n",
       "2   28  Local-gov  336951    Assoc-acdm               12  Married-civ-spouse   \n",
       "3   44    Private  160323  Some-college               10  Married-civ-spouse   \n",
       "4   18          ?  103497  Some-college               10       Never-married   \n",
       "\n",
       "          occupation relationship   race  gender  capital-gain  capital-loss  \\\n",
       "0  Machine-op-inspct    Own-child  Black    Male             0             0   \n",
       "1    Farming-fishing      Husband  White    Male             0             0   \n",
       "2    Protective-serv      Husband  White    Male             0             0   \n",
       "3  Machine-op-inspct      Husband  Black    Male          7688             0   \n",
       "4                  ?    Own-child  White  Female             0             0   \n",
       "\n",
       "   hours-per-week native-country income  \n",
       "0              40  United-States  <=50K  \n",
       "1              50  United-States  <=50K  \n",
       "2              40  United-States   >50K  \n",
       "3              40  United-States   >50K  \n",
       "4              30  United-States  <=50K  "
      ]
     },
     "execution_count": 123,
     "metadata": {},
     "output_type": "execute_result"
    }
   ],
   "source": [
    "# View dimensions of the dataset\n",
    "dimensions = df.shape\n",
    "print('Dataset Dimensions:', dimensions)\n",
    "\n",
    "# Preview the dataset\n",
    "df.head()"
   ]
  },
  {
   "cell_type": "code",
   "execution_count": 124,
   "metadata": {
    "colab": {
     "base_uri": "https://localhost:8080/"
    },
    "id": "iUv6_MZkGhUQ",
    "outputId": "48c48a18-0bc7-45c7-c7b1-e8bd82074c85"
   },
   "outputs": [
    {
     "name": "stdout",
     "output_type": "stream",
     "text": [
      "Updated Column Names:\n",
      " Index(['age', 'workclass', 'fnlwgt', 'education', 'education_num',\n",
      "       'marital_status', 'occupation', 'relationship', 'race', 'gender',\n",
      "       'capital_gain', 'capital_loss', 'hours_per_week', 'native_country',\n",
      "       'income'],\n",
      "      dtype='object')\n"
     ]
    }
   ],
   "source": [
    "#rename columns\n",
    "# Rename columns\n",
    "df = df.rename(columns={\n",
    "    'educational-num': 'education_num',\n",
    "    'marital-status': 'marital_status',\n",
    "    'capital-gain': 'capital_gain',\n",
    "    'capital-loss': 'capital_loss',\n",
    "    'hours-per-week': 'hours_per_week',\n",
    "    'native-country': 'native_country'\n",
    "})\n",
    "\n",
    "# Display the updated column names\n",
    "print('Updated Column Names:\\n', df.columns)"
   ]
  },
  {
   "cell_type": "code",
   "execution_count": 125,
   "metadata": {},
   "outputs": [
    {
     "name": "stdout",
     "output_type": "stream",
     "text": [
      "Categorical Variables:\n",
      " Index(['workclass', 'education', 'marital_status', 'occupation',\n",
      "       'relationship', 'race', 'gender', 'native_country', 'income'],\n",
      "      dtype='object')\n"
     ]
    }
   ],
   "source": [
    "# Find categorical variables\n",
    "categorical_variables = df.select_dtypes(include=['object']).columns\n",
    "\n",
    "# Display the categorical variables\n",
    "print('Categorical Variables:\\n', categorical_variables)"
   ]
  },
  {
   "cell_type": "code",
   "execution_count": 126,
   "metadata": {
    "colab": {
     "base_uri": "https://localhost:8080/"
    },
    "id": "HJY3joAJGxw_",
    "outputId": "14d76526-d112-4d1f-842f-1b0e5fca18ea"
   },
   "outputs": [
    {
     "name": "stdout",
     "output_type": "stream",
     "text": [
      "Missing Values in Categorical Variables:\n",
      " workclass         0\n",
      "education         0\n",
      "marital_status    0\n",
      "occupation        0\n",
      "relationship      0\n",
      "race              0\n",
      "gender            0\n",
      "native_country    0\n",
      "income            0\n",
      "dtype: int64\n",
      "\n",
      "Value Counts for workclass:\n",
      " Private             33906\n",
      "Self-emp-not-inc     3862\n",
      "Local-gov            3136\n",
      "?                    2799\n",
      "State-gov            1981\n",
      "Self-emp-inc         1695\n",
      "Federal-gov          1432\n",
      "Without-pay            21\n",
      "Never-worked           10\n",
      "Name: workclass, dtype: int64\n",
      "\n",
      "Value Counts for education:\n",
      " HS-grad         15784\n",
      "Some-college    10878\n",
      "Bachelors        8025\n",
      "Masters          2657\n",
      "Assoc-voc        2061\n",
      "11th             1812\n",
      "Assoc-acdm       1601\n",
      "10th             1389\n",
      "7th-8th           955\n",
      "Prof-school       834\n",
      "9th               756\n",
      "12th              657\n",
      "Doctorate         594\n",
      "5th-6th           509\n",
      "1st-4th           247\n",
      "Preschool          83\n",
      "Name: education, dtype: int64\n",
      "\n",
      "Value Counts for marital_status:\n",
      " Married-civ-spouse       22379\n",
      "Never-married            16117\n",
      "Divorced                  6633\n",
      "Separated                 1530\n",
      "Widowed                   1518\n",
      "Married-spouse-absent      628\n",
      "Married-AF-spouse           37\n",
      "Name: marital_status, dtype: int64\n",
      "\n",
      "Value Counts for occupation:\n",
      " Prof-specialty       6172\n",
      "Craft-repair         6112\n",
      "Exec-managerial      6086\n",
      "Adm-clerical         5611\n",
      "Sales                5504\n",
      "Other-service        4923\n",
      "Machine-op-inspct    3022\n",
      "?                    2809\n",
      "Transport-moving     2355\n",
      "Handlers-cleaners    2072\n",
      "Farming-fishing      1490\n",
      "Tech-support         1446\n",
      "Protective-serv       983\n",
      "Priv-house-serv       242\n",
      "Armed-Forces           15\n",
      "Name: occupation, dtype: int64\n",
      "\n",
      "Value Counts for relationship:\n",
      " Husband           19716\n",
      "Not-in-family     12583\n",
      "Own-child          7581\n",
      "Unmarried          5125\n",
      "Wife               2331\n",
      "Other-relative     1506\n",
      "Name: relationship, dtype: int64\n",
      "\n",
      "Value Counts for race:\n",
      " White                 41762\n",
      "Black                  4685\n",
      "Asian-Pac-Islander     1519\n",
      "Amer-Indian-Eskimo      470\n",
      "Other                   406\n",
      "Name: race, dtype: int64\n",
      "\n",
      "Value Counts for gender:\n",
      " Male      32650\n",
      "Female    16192\n",
      "Name: gender, dtype: int64\n",
      "\n",
      "Value Counts for native_country:\n",
      " United-States                 43832\n",
      "Mexico                          951\n",
      "?                               857\n",
      "Philippines                     295\n",
      "Germany                         206\n",
      "Puerto-Rico                     184\n",
      "Canada                          182\n",
      "El-Salvador                     155\n",
      "India                           151\n",
      "Cuba                            138\n",
      "England                         127\n",
      "China                           122\n",
      "South                           115\n",
      "Jamaica                         106\n",
      "Italy                           105\n",
      "Dominican-Republic              103\n",
      "Japan                            92\n",
      "Guatemala                        88\n",
      "Poland                           87\n",
      "Vietnam                          86\n",
      "Columbia                         85\n",
      "Haiti                            75\n",
      "Portugal                         67\n",
      "Taiwan                           65\n",
      "Iran                             59\n",
      "Greece                           49\n",
      "Nicaragua                        49\n",
      "Peru                             46\n",
      "Ecuador                          45\n",
      "France                           38\n",
      "Ireland                          37\n",
      "Hong                             30\n",
      "Thailand                         30\n",
      "Cambodia                         28\n",
      "Trinadad&Tobago                  27\n",
      "Laos                             23\n",
      "Yugoslavia                       23\n",
      "Outlying-US(Guam-USVI-etc)       23\n",
      "Scotland                         21\n",
      "Honduras                         20\n",
      "Hungary                          19\n",
      "Holand-Netherlands                1\n",
      "Name: native_country, dtype: int64\n",
      "\n",
      "Value Counts for income:\n",
      " <=50K    37155\n",
      ">50K     11687\n",
      "Name: income, dtype: int64\n"
     ]
    }
   ],
   "source": [
    "# Check missing values in categorical variables\n",
    "missing_categorical = df.select_dtypes(include=['object']).isnull().sum()\n",
    "print('Missing Values in Categorical Variables:\\n', missing_categorical)\n",
    "\n",
    "# View frequency counts of values in categorical variables\n",
    "for column in df.select_dtypes(include=['object']).columns:\n",
    "    print(f'\\nValue Counts for {column}:\\n', df[column].value_counts())\n"
   ]
  },
  {
   "cell_type": "code",
   "execution_count": 127,
   "metadata": {
    "colab": {
     "base_uri": "https://localhost:8080/"
    },
    "id": "feIjg-3oG8vc",
    "outputId": "98107bfc-5310-472f-8f40-beb001eab923"
   },
   "outputs": [
    {
     "name": "stdout",
     "output_type": "stream",
     "text": [
      "\n",
      "Frequency Distribution for workclass:\n",
      " Private             0.694198\n",
      "Self-emp-not-inc    0.079071\n",
      "Local-gov           0.064207\n",
      "?                   0.057307\n",
      "State-gov           0.040559\n",
      "Self-emp-inc        0.034704\n",
      "Federal-gov         0.029319\n",
      "Without-pay         0.000430\n",
      "Never-worked        0.000205\n",
      "Name: workclass, dtype: float64\n",
      "\n",
      "Frequency Distribution for education:\n",
      " HS-grad         0.323164\n",
      "Some-college    0.222718\n",
      "Bachelors       0.164305\n",
      "Masters         0.054400\n",
      "Assoc-voc       0.042197\n",
      "11th            0.037099\n",
      "Assoc-acdm      0.032779\n",
      "10th            0.028439\n",
      "7th-8th         0.019553\n",
      "Prof-school     0.017075\n",
      "9th             0.015478\n",
      "12th            0.013452\n",
      "Doctorate       0.012162\n",
      "5th-6th         0.010421\n",
      "1st-4th         0.005057\n",
      "Preschool       0.001699\n",
      "Name: education, dtype: float64\n",
      "\n",
      "Frequency Distribution for marital_status:\n",
      " Married-civ-spouse       0.458192\n",
      "Never-married            0.329982\n",
      "Divorced                 0.135805\n",
      "Separated                0.031325\n",
      "Widowed                  0.031080\n",
      "Married-spouse-absent    0.012858\n",
      "Married-AF-spouse        0.000758\n",
      "Name: marital_status, dtype: float64\n",
      "\n",
      "Frequency Distribution for occupation:\n",
      " Prof-specialty       0.126367\n",
      "Craft-repair         0.125138\n",
      "Exec-managerial      0.124606\n",
      "Adm-clerical         0.114881\n",
      "Sales                0.112690\n",
      "Other-service        0.100794\n",
      "Machine-op-inspct    0.061873\n",
      "?                    0.057512\n",
      "Transport-moving     0.048217\n",
      "Handlers-cleaners    0.042423\n",
      "Farming-fishing      0.030507\n",
      "Tech-support         0.029606\n",
      "Protective-serv      0.020126\n",
      "Priv-house-serv      0.004955\n",
      "Armed-Forces         0.000307\n",
      "Name: occupation, dtype: float64\n",
      "\n",
      "Frequency Distribution for relationship:\n",
      " Husband           0.403669\n",
      "Not-in-family     0.257627\n",
      "Own-child         0.155215\n",
      "Unmarried         0.104930\n",
      "Wife              0.047725\n",
      "Other-relative    0.030834\n",
      "Name: relationship, dtype: float64\n",
      "\n",
      "Frequency Distribution for race:\n",
      " White                 0.855043\n",
      "Black                 0.095922\n",
      "Asian-Pac-Islander    0.031100\n",
      "Amer-Indian-Eskimo    0.009623\n",
      "Other                 0.008313\n",
      "Name: race, dtype: float64\n",
      "\n",
      "Frequency Distribution for gender:\n",
      " Male      0.668482\n",
      "Female    0.331518\n",
      "Name: gender, dtype: float64\n",
      "\n",
      "Frequency Distribution for native_country:\n",
      " United-States                 0.897424\n",
      "Mexico                        0.019471\n",
      "?                             0.017546\n",
      "Philippines                   0.006040\n",
      "Germany                       0.004218\n",
      "Puerto-Rico                   0.003767\n",
      "Canada                        0.003726\n",
      "El-Salvador                   0.003173\n",
      "India                         0.003092\n",
      "Cuba                          0.002825\n",
      "England                       0.002600\n",
      "China                         0.002498\n",
      "South                         0.002355\n",
      "Jamaica                       0.002170\n",
      "Italy                         0.002150\n",
      "Dominican-Republic            0.002109\n",
      "Japan                         0.001884\n",
      "Guatemala                     0.001802\n",
      "Poland                        0.001781\n",
      "Vietnam                       0.001761\n",
      "Columbia                      0.001740\n",
      "Haiti                         0.001536\n",
      "Portugal                      0.001372\n",
      "Taiwan                        0.001331\n",
      "Iran                          0.001208\n",
      "Greece                        0.001003\n",
      "Nicaragua                     0.001003\n",
      "Peru                          0.000942\n",
      "Ecuador                       0.000921\n",
      "France                        0.000778\n",
      "Ireland                       0.000758\n",
      "Hong                          0.000614\n",
      "Thailand                      0.000614\n",
      "Cambodia                      0.000573\n",
      "Trinadad&Tobago               0.000553\n",
      "Laos                          0.000471\n",
      "Yugoslavia                    0.000471\n",
      "Outlying-US(Guam-USVI-etc)    0.000471\n",
      "Scotland                      0.000430\n",
      "Honduras                      0.000409\n",
      "Hungary                       0.000389\n",
      "Holand-Netherlands            0.000020\n",
      "Name: native_country, dtype: float64\n",
      "\n",
      "Frequency Distribution for income:\n",
      " <=50K    0.760718\n",
      ">50K     0.239282\n",
      "Name: income, dtype: float64\n"
     ]
    }
   ],
   "source": [
    "# View frequency distribution of categorical variables\n",
    "for column in df.select_dtypes(include=['object']).columns:\n",
    "    print(f'\\nFrequency Distribution for {column}:\\n', df[column].value_counts(normalize=True))\n"
   ]
  },
  {
   "cell_type": "code",
   "execution_count": 128,
   "metadata": {
    "colab": {
     "base_uri": "https://localhost:8080/"
    },
    "id": "uX1pcMfTHEir",
    "outputId": "14157a29-0c3a-4ea9-c2bf-9c8fb65361da"
   },
   "outputs": [
    {
     "name": "stdout",
     "output_type": "stream",
     "text": [
      "Labels in Workclass Variable:\n",
      " ['Private' 'Local-gov' '?' 'Self-emp-not-inc' 'Federal-gov' 'State-gov'\n",
      " 'Self-emp-inc' 'Without-pay' 'Never-worked']\n",
      "\n",
      "Frequency Distribution of Values in Workclass Variable:\n",
      " Private             0.736399\n",
      "Self-emp-not-inc    0.083878\n",
      "Local-gov           0.068110\n",
      "State-gov           0.043025\n",
      "Self-emp-inc        0.036813\n",
      "Federal-gov         0.031101\n",
      "Without-pay         0.000456\n",
      "Never-worked        0.000217\n",
      "Name: workclass, dtype: float64\n"
     ]
    }
   ],
   "source": [
    "# Check labels in 'workclass' variable\n",
    "print('Labels in Workclass Variable:\\n', df['workclass'].unique())\n",
    "\n",
    "# Replace '?' values in 'workclass' variable with NaN\n",
    "df['workclass'].replace('?', np.nan, inplace=True)\n",
    "\n",
    "# Check frequency distribution of values in 'workclass' variable after replacing '?'\n",
    "print('\\nFrequency Distribution of Values in Workclass Variable:\\n', df['workclass'].value_counts(normalize=True))"
   ]
  },
  {
   "cell_type": "code",
   "execution_count": 129,
   "metadata": {
    "colab": {
     "base_uri": "https://localhost:8080/"
    },
    "id": "sXBoavFPHN6L",
    "outputId": "35d29fd9-cb6a-492f-e473-432fe20d7c8f"
   },
   "outputs": [
    {
     "name": "stdout",
     "output_type": "stream",
     "text": [
      "Labels in Occupation Variable:\n",
      " ['Machine-op-inspct' 'Farming-fishing' 'Protective-serv' '?'\n",
      " 'Other-service' 'Prof-specialty' 'Craft-repair' 'Adm-clerical'\n",
      " 'Exec-managerial' 'Tech-support' 'Sales' 'Priv-house-serv'\n",
      " 'Transport-moving' 'Handlers-cleaners' 'Armed-Forces']\n",
      "\n",
      "Frequency Distribution of Values in Occupation Variable:\n",
      " Prof-specialty       6172\n",
      "Craft-repair         6112\n",
      "Exec-managerial      6086\n",
      "Adm-clerical         5611\n",
      "Sales                5504\n",
      "Other-service        4923\n",
      "Machine-op-inspct    3022\n",
      "Transport-moving     2355\n",
      "Handlers-cleaners    2072\n",
      "Farming-fishing      1490\n",
      "Tech-support         1446\n",
      "Protective-serv       983\n",
      "Priv-house-serv       242\n",
      "Armed-Forces           15\n",
      "Name: occupation, dtype: int64\n"
     ]
    }
   ],
   "source": [
    "# Check labels in 'occupation' variable\n",
    "print('Labels in Occupation Variable:\\n', df['occupation'].unique())\n",
    "\n",
    "# Replace '?' values in 'occupation' variable with NaN\n",
    "df['occupation'].replace('?', np.nan, inplace=True)\n",
    "\n",
    "# Check frequency distribution of values in 'occupation' variable after replacing '?'\n",
    "print('\\nFrequency Distribution of Values in Occupation Variable:\\n', df['occupation'].value_counts())\n"
   ]
  },
  {
   "cell_type": "code",
   "execution_count": 130,
   "metadata": {
    "colab": {
     "base_uri": "https://localhost:8080/"
    },
    "id": "tv5BM_QJHatv",
    "outputId": "10345a12-c6a2-4146-bbb4-8abe1e9b3c70"
   },
   "outputs": [
    {
     "name": "stdout",
     "output_type": "stream",
     "text": [
      "Labels in Native Country Variable:\n",
      " ['United-States' '?' 'Peru' 'Guatemala' 'Mexico' 'Dominican-Republic'\n",
      " 'Ireland' 'Germany' 'Philippines' 'Thailand' 'Haiti' 'El-Salvador'\n",
      " 'Puerto-Rico' 'Vietnam' 'South' 'Columbia' 'Japan' 'India' 'Cambodia'\n",
      " 'Poland' 'Laos' 'England' 'Cuba' 'Taiwan' 'Italy' 'Canada' 'Portugal'\n",
      " 'China' 'Nicaragua' 'Honduras' 'Iran' 'Scotland' 'Jamaica' 'Ecuador'\n",
      " 'Yugoslavia' 'Hungary' 'Hong' 'Greece' 'Trinadad&Tobago'\n",
      " 'Outlying-US(Guam-USVI-etc)' 'France' 'Holand-Netherlands']\n",
      "\n",
      "Frequency Distribution of Values in Native Country Variable:\n",
      " United-States                 43832\n",
      "Mexico                          951\n",
      "?                               857\n",
      "Philippines                     295\n",
      "Germany                         206\n",
      "Puerto-Rico                     184\n",
      "Canada                          182\n",
      "El-Salvador                     155\n",
      "India                           151\n",
      "Cuba                            138\n",
      "England                         127\n",
      "China                           122\n",
      "South                           115\n",
      "Jamaica                         106\n",
      "Italy                           105\n",
      "Dominican-Republic              103\n",
      "Japan                            92\n",
      "Guatemala                        88\n",
      "Poland                           87\n",
      "Vietnam                          86\n",
      "Columbia                         85\n",
      "Haiti                            75\n",
      "Portugal                         67\n",
      "Taiwan                           65\n",
      "Iran                             59\n",
      "Greece                           49\n",
      "Nicaragua                        49\n",
      "Peru                             46\n",
      "Ecuador                          45\n",
      "France                           38\n",
      "Ireland                          37\n",
      "Hong                             30\n",
      "Thailand                         30\n",
      "Cambodia                         28\n",
      "Trinadad&Tobago                  27\n",
      "Laos                             23\n",
      "Yugoslavia                       23\n",
      "Outlying-US(Guam-USVI-etc)       23\n",
      "Scotland                         21\n",
      "Honduras                         20\n",
      "Hungary                          19\n",
      "Holand-Netherlands                1\n",
      "Name: native_country, dtype: int64\n",
      "\n",
      "Frequency Distribution of Values in Native Country Variable After Replacement:\n",
      " United-States                 43832\n",
      "Mexico                          951\n",
      "Philippines                     295\n",
      "Germany                         206\n",
      "Puerto-Rico                     184\n",
      "Canada                          182\n",
      "El-Salvador                     155\n",
      "India                           151\n",
      "Cuba                            138\n",
      "England                         127\n",
      "China                           122\n",
      "South                           115\n",
      "Jamaica                         106\n",
      "Italy                           105\n",
      "Dominican-Republic              103\n",
      "Japan                            92\n",
      "Guatemala                        88\n",
      "Poland                           87\n",
      "Vietnam                          86\n",
      "Columbia                         85\n",
      "Haiti                            75\n",
      "Portugal                         67\n",
      "Taiwan                           65\n",
      "Iran                             59\n",
      "Greece                           49\n",
      "Nicaragua                        49\n",
      "Peru                             46\n",
      "Ecuador                          45\n",
      "France                           38\n",
      "Ireland                          37\n",
      "Hong                             30\n",
      "Thailand                         30\n",
      "Cambodia                         28\n",
      "Trinadad&Tobago                  27\n",
      "Yugoslavia                       23\n",
      "Outlying-US(Guam-USVI-etc)       23\n",
      "Laos                             23\n",
      "Scotland                         21\n",
      "Honduras                         20\n",
      "Hungary                          19\n",
      "Holand-Netherlands                1\n",
      "Name: native_country, dtype: int64\n",
      "\n",
      "Cardinality in Categorical Variables:\n",
      " workclass          8\n",
      "education         16\n",
      "marital_status     7\n",
      "occupation        14\n",
      "relationship       6\n",
      "race               5\n",
      "gender             2\n",
      "native_country    41\n",
      "income             2\n",
      "dtype: int64\n"
     ]
    }
   ],
   "source": [
    "# Check labels in 'native_country' variable\n",
    "print('Labels in Native Country Variable:\\n', df['native_country'].unique())\n",
    "\n",
    "# Check frequency distribution of values in 'native_country' variable\n",
    "print('\\nFrequency Distribution of Values in Native Country Variable:\\n', df['native_country'].value_counts())\n",
    "\n",
    "# Replace '?' values in 'native-country' variable with NaN\n",
    "df['native_country'].replace('?', np.nan, inplace=True)\n",
    "\n",
    "# Again check the frequency distribution of values in 'native_country' variable after replacing '?'\n",
    "print('\\nFrequency Distribution of Values in Native Country Variable After Replacement:\\n', df['native_country'].value_counts())\n",
    "\n",
    "# Check for cardinality in categorical variables\n",
    "cardinality = df.select_dtypes(include=['object']).nunique()\n",
    "print('\\nCardinality in Categorical Variables:\\n', cardinality)\n"
   ]
  },
  {
   "cell_type": "code",
   "execution_count": 131,
   "metadata": {
    "colab": {
     "base_uri": "https://localhost:8080/",
     "height": 260
    },
    "id": "blFMwVW8H2G5",
    "outputId": "fc0ad768-80ca-4ec8-ac0c-107a824e6bb1"
   },
   "outputs": [
    {
     "name": "stdout",
     "output_type": "stream",
     "text": [
      "Numerical Variables:\n",
      " Index(['age', 'fnlwgt', 'education_num', 'capital_gain', 'capital_loss',\n",
      "       'hours_per_week'],\n",
      "      dtype='object')\n",
      "\n",
      "Numerical Variables Data:\n",
      "        age  fnlwgt  education_num  capital_gain  capital_loss  hours_per_week\n",
      "0       25  226802              7             0             0              40\n",
      "1       38   89814              9             0             0              50\n",
      "2       28  336951             12             0             0              40\n",
      "3       44  160323             10          7688             0              40\n",
      "4       18  103497             10             0             0              30\n",
      "...    ...     ...            ...           ...           ...             ...\n",
      "48837   27  257302             12             0             0              38\n",
      "48838   40  154374              9             0             0              40\n",
      "48839   58  151910              9             0             0              40\n",
      "48840   22  201490              9             0             0              20\n",
      "48841   52  287927              9         15024             0              40\n",
      "\n",
      "[48842 rows x 6 columns]\n"
     ]
    }
   ],
   "source": [
    "# Find numerical variables\n",
    "numerical_variables = df.select_dtypes(include=['int64', 'float64']).columns\n",
    "\n",
    "# View the numerical variables\n",
    "print('Numerical Variables:\\n', numerical_variables)\n",
    "\n",
    "# Display the numerical variables\n",
    "numerical_data = df[numerical_variables]\n",
    "print('\\nNumerical Variables Data:\\n', numerical_data)\n"
   ]
  },
  {
   "cell_type": "code",
   "execution_count": 132,
   "metadata": {
    "colab": {
     "base_uri": "https://localhost:8080/"
    },
    "id": "7Ws8MMtfma32",
    "outputId": "28c3097c-01b8-47e1-b78c-849f6274b71c"
   },
   "outputs": [
    {
     "data": {
      "text/plain": [
       "(48842, 6)"
      ]
     },
     "execution_count": 132,
     "metadata": {},
     "output_type": "execute_result"
    }
   ],
   "source": [
    "numerical_data.shape"
   ]
  },
  {
   "cell_type": "code",
   "execution_count": 133,
   "metadata": {
    "colab": {
     "base_uri": "https://localhost:8080/"
    },
    "id": "FrMzYiT_IB9b",
    "outputId": "7f44bf89-9334-4fb3-a080-4d2800697a56"
   },
   "outputs": [
    {
     "name": "stdout",
     "output_type": "stream",
     "text": [
      "Shape of X_train: (39073, 14)\n",
      "Shape of X_test: (9769, 14)\n"
     ]
    }
   ],
   "source": [
    "X = df.drop(['income'], axis=1)\n",
    "\n",
    "y = df['income']\n",
    "\n",
    "from sklearn.model_selection import train_test_split\n",
    "\n",
    "# Split X and y into training and testing sets\n",
    "X_train, X_test, y_train, y_test = train_test_split(X, y, test_size=0.2, random_state=42)\n",
    "\n",
    "# Check the shape of X_train and X_test\n",
    "print('Shape of X_train:', X_train.shape)\n",
    "print('Shape of X_test:', X_test.shape)"
   ]
  },
  {
   "cell_type": "code",
   "execution_count": 134,
   "metadata": {
    "colab": {
     "base_uri": "https://localhost:8080/"
    },
    "id": "md4jN8OymqR-",
    "outputId": "0f346f3a-ef98-4092-8575-23328a51dea9"
   },
   "outputs": [
    {
     "name": "stdout",
     "output_type": "stream",
     "text": [
      "       age         workclass  fnlwgt     education  education_num  \\\n",
      "37193   42           Private  145175  Some-college             10   \n",
      "31093   52  Self-emp-not-inc  175029          10th              6   \n",
      "33814   34         Local-gov  172664       HS-grad              9   \n",
      "14500   28           Private  125791       HS-grad              9   \n",
      "23399   46           Private   28419     Assoc-voc             11   \n",
      "\n",
      "           marital_status         occupation   relationship   race  gender  \\\n",
      "37193  Married-civ-spouse  Machine-op-inspct        Husband  White    Male   \n",
      "31093  Married-civ-spouse       Craft-repair        Husband  White    Male   \n",
      "33814  Married-civ-spouse       Craft-repair        Husband  White    Male   \n",
      "14500       Never-married       Adm-clerical  Not-in-family  White  Female   \n",
      "23399       Never-married   Transport-moving  Not-in-family  White    Male   \n",
      "\n",
      "       capital_gain  capital_loss  hours_per_week native_country  \n",
      "37193             0             0              40  United-States  \n",
      "31093             0             0              35  United-States  \n",
      "33814             0             0              40  United-States  \n",
      "14500             0             0              40  United-States  \n",
      "23399             0             0              50  United-States  \n"
     ]
    }
   ],
   "source": [
    "print(X_train[0:5])"
   ]
  },
  {
   "cell_type": "code",
   "execution_count": 135,
   "metadata": {
    "colab": {
     "base_uri": "https://localhost:8080/"
    },
    "id": "UiHOIuZGIQEj",
    "outputId": "f408bad0-2aeb-483e-9d84-cdeb00666c68"
   },
   "outputs": [
    {
     "name": "stdout",
     "output_type": "stream",
     "text": [
      "Categorical Variables:\n",
      " Index(['workclass', 'education', 'marital_status', 'occupation',\n",
      "       'relationship', 'race', 'gender', 'native_country', 'income'],\n",
      "      dtype='object')\n",
      "\n",
      "Numerical Variables:\n",
      " Index(['age', 'fnlwgt', 'education_num', 'capital_gain', 'capital_loss',\n",
      "       'hours_per_week'],\n",
      "      dtype='object')\n"
     ]
    }
   ],
   "source": [
    "# Display categorical variables\n",
    "categorical_variables = df.select_dtypes(include=['object']).columns\n",
    "print('Categorical Variables:\\n', categorical_variables)\n",
    "\n",
    "# Display numerical variables\n",
    "numerical_variables = df.select_dtypes(include=['int64', 'float64']).columns\n",
    "print('\\nNumerical Variables:\\n', numerical_variables)\n"
   ]
  },
  {
   "cell_type": "code",
   "execution_count": 136,
   "metadata": {
    "colab": {
     "base_uri": "https://localhost:8080/"
    },
    "id": "y1TcUIrwIZSl",
    "outputId": "fbc328d5-971c-4bc8-caa0-29b9fbe70a00"
   },
   "outputs": [
    {
     "name": "stdout",
     "output_type": "stream",
     "text": [
      "Percentage of Missing Values in Categorical Variables (Training Set):\n",
      " workclass         5.794282\n",
      "education         0.000000\n",
      "marital_status    0.000000\n",
      "occupation        5.817316\n",
      "relationship      0.000000\n",
      "race              0.000000\n",
      "gender            0.000000\n",
      "native_country    1.717298\n",
      "dtype: float64\n",
      "\n",
      "Categorical Variables with Missing Data (Training Set):\n",
      " Index(['workclass', 'occupation', 'native_country'], dtype='object')\n"
     ]
    }
   ],
   "source": [
    "# Print percentage of missing values in categorical variables in the training set\n",
    "missing_categorical_percentage = (X_train.select_dtypes(include=['object']).isnull().sum() / len(X_train)) * 100\n",
    "print('Percentage of Missing Values in Categorical Variables (Training Set):\\n', missing_categorical_percentage)\n",
    "\n",
    "# Print categorical variables with missing data\n",
    "categorical_variables_with_missing = X_train[X_train.select_dtypes(include=['object']).columns].columns[X_train.select_dtypes(include=['object']).isnull().any()]\n",
    "print('\\nCategorical Variables with Missing Data (Training Set):\\n', categorical_variables_with_missing)\n"
   ]
  },
  {
   "cell_type": "code",
   "execution_count": 137,
   "metadata": {
    "id": "eXNqR22IIur4"
   },
   "outputs": [
    {
     "name": "stdout",
     "output_type": "stream",
     "text": [
      "DataFrame with Imputed Values (Most Frequent) in Categorical Variables (Training Set):\n",
      "               workclass     education         marital_status  \\\n",
      "0               Private  Some-college     Married-civ-spouse   \n",
      "1      Self-emp-not-inc          10th     Married-civ-spouse   \n",
      "2             Local-gov       HS-grad     Married-civ-spouse   \n",
      "3               Private       HS-grad          Never-married   \n",
      "4               Private     Assoc-voc          Never-married   \n",
      "...                 ...           ...                    ...   \n",
      "39068           Private       HS-grad  Married-spouse-absent   \n",
      "39069           Private  Some-college     Married-civ-spouse   \n",
      "39070           Private  Some-college               Divorced   \n",
      "39071         State-gov     Assoc-voc              Separated   \n",
      "39072           Private       Masters     Married-civ-spouse   \n",
      "\n",
      "              occupation   relationship   race  gender native_country  \n",
      "0      Machine-op-inspct        Husband  White    Male  United-States  \n",
      "1           Craft-repair        Husband  White    Male  United-States  \n",
      "2           Craft-repair        Husband  White    Male  United-States  \n",
      "3           Adm-clerical  Not-in-family  White  Female  United-States  \n",
      "4       Transport-moving  Not-in-family  White    Male  United-States  \n",
      "...                  ...            ...    ...     ...            ...  \n",
      "39068      Other-service  Not-in-family  Black    Male  United-States  \n",
      "39069       Craft-repair        Husband  White    Male  United-States  \n",
      "39070    Exec-managerial  Not-in-family  White  Female  United-States  \n",
      "39071       Adm-clerical      Unmarried  Black  Female  United-States  \n",
      "39072     Prof-specialty        Husband  White    Male  United-States  \n",
      "\n",
      "[39073 rows x 8 columns]\n"
     ]
    }
   ],
   "source": [
    "from sklearn.impute import SimpleImputer\n",
    "\n",
    "# Create a SimpleImputer object for imputing missing values with the most frequent value\n",
    "imputer_categorical = SimpleImputer(strategy='most_frequent')\n",
    "\n",
    "# Fit and transform the imputer on the training set\n",
    "X_train_imputed = imputer_categorical.fit_transform(X_train.select_dtypes(include=['object']))\n",
    "\n",
    "# Convert the imputed array back to a DataFrame\n",
    "X_train_imputed_df = pd.DataFrame(X_train_imputed, columns=X_train.select_dtypes(include=['object']).columns)\n",
    "\n",
    "# Display the DataFrame with imputed values\n",
    "print('DataFrame with Imputed Values (Most Frequent) in Categorical Variables (Training Set):\\n', X_train_imputed_df)\n"
   ]
  },
  {
   "cell_type": "code",
   "execution_count": 138,
   "metadata": {
    "colab": {
     "base_uri": "https://localhost:8080/"
    },
    "id": "mPDmCa46Izun",
    "outputId": "6cfbf35c-ebad-48da-96d8-58af9858ce78"
   },
   "outputs": [
    {
     "name": "stdout",
     "output_type": "stream",
     "text": [
      "Missing Values in Categorical Variables (Training Set):\n",
      " workclass         2264\n",
      "education            0\n",
      "marital_status       0\n",
      "occupation        2273\n",
      "relationship         0\n",
      "race                 0\n",
      "gender               0\n",
      "native_country     671\n",
      "dtype: int64\n",
      "\n",
      "Missing Values in Categorical Variables (Testing Set):\n",
      " workclass         535\n",
      "education           0\n",
      "marital_status      0\n",
      "occupation        536\n",
      "relationship        0\n",
      "race                0\n",
      "gender              0\n",
      "native_country    186\n",
      "dtype: int64\n",
      "\n",
      "Missing Values in X_train:\n",
      " age                  0\n",
      "workclass         2264\n",
      "fnlwgt               0\n",
      "education            0\n",
      "education_num        0\n",
      "marital_status       0\n",
      "occupation        2273\n",
      "relationship         0\n",
      "race                 0\n",
      "gender               0\n",
      "capital_gain         0\n",
      "capital_loss         0\n",
      "hours_per_week       0\n",
      "native_country     671\n",
      "dtype: int64\n",
      "\n",
      "Missing Values in X_test:\n",
      " age                 0\n",
      "workclass         535\n",
      "fnlwgt              0\n",
      "education           0\n",
      "education_num       0\n",
      "marital_status      0\n",
      "occupation        536\n",
      "relationship        0\n",
      "race                0\n",
      "gender              0\n",
      "capital_gain        0\n",
      "capital_loss        0\n",
      "hours_per_week      0\n",
      "native_country    186\n",
      "dtype: int64\n"
     ]
    }
   ],
   "source": [
    "# Check missing values in categorical variables in X_train\n",
    "missing_categorical_train = X_train.select_dtypes(include=['object']).isnull().sum()\n",
    "print('Missing Values in Categorical Variables (Training Set):\\n', missing_categorical_train)\n",
    "\n",
    "# Check missing values in categorical variables in X_test\n",
    "missing_categorical_test = X_test.select_dtypes(include=['object']).isnull().sum()\n",
    "print('\\nMissing Values in Categorical Variables (Testing Set):\\n', missing_categorical_test)\n",
    "\n",
    "# Check missing values in X_train\n",
    "missing_values_train = X_train.isnull().sum()\n",
    "print('\\nMissing Values in X_train:\\n', missing_values_train)\n",
    "\n",
    "# Check missing values in X_test\n",
    "missing_values_test = X_test.isnull().sum()\n",
    "print('\\nMissing Values in X_test:\\n', missing_values_test)\n"
   ]
  },
  {
   "cell_type": "code",
   "execution_count": 139,
   "metadata": {
    "colab": {
     "base_uri": "https://localhost:8080/"
    },
    "id": "pzaIcAtOwJtG",
    "outputId": "1a239445-4ec3-4579-88c0-8862bb76fde2"
   },
   "outputs": [],
   "source": [
    "# !pip install category_encoders"
   ]
  },
  {
   "cell_type": "code",
   "execution_count": 140,
   "metadata": {
    "id": "9s0Y4hLpJNnH"
   },
   "outputs": [
    {
     "name": "stdout",
     "output_type": "stream",
     "text": [
      "Encoded DataFrame (Training Set):\n",
      "        age  workclass_1  workclass_2  workclass_3  workclass_4  workclass_5  \\\n",
      "37193   42            1            0            0            0            0   \n",
      "31093   52            0            1            0            0            0   \n",
      "33814   34            0            0            1            0            0   \n",
      "14500   28            1            0            0            0            0   \n",
      "23399   46            1            0            0            0            0   \n",
      "...    ...          ...          ...          ...          ...          ...   \n",
      "11284   36            1            0            0            0            0   \n",
      "44732   34            1            0            0            0            0   \n",
      "38158   28            1            0            0            0            0   \n",
      "860     46            0            0            0            0            0   \n",
      "15795   59            1            0            0            0            0   \n",
      "\n",
      "       workclass_6  workclass_7  workclass_8  workclass_9  ...  \\\n",
      "37193            0            0            0            0  ...   \n",
      "31093            0            0            0            0  ...   \n",
      "33814            0            0            0            0  ...   \n",
      "14500            0            0            0            0  ...   \n",
      "23399            0            0            0            0  ...   \n",
      "...            ...          ...          ...          ...  ...   \n",
      "11284            0            0            0            0  ...   \n",
      "44732            0            0            0            0  ...   \n",
      "38158            0            0            0            0  ...   \n",
      "860              1            0            0            0  ...   \n",
      "15795            0            0            0            0  ...   \n",
      "\n",
      "       native_country_33  native_country_34  native_country_35  \\\n",
      "37193                  0                  0                  0   \n",
      "31093                  0                  0                  0   \n",
      "33814                  0                  0                  0   \n",
      "14500                  0                  0                  0   \n",
      "23399                  0                  0                  0   \n",
      "...                  ...                ...                ...   \n",
      "11284                  0                  0                  0   \n",
      "44732                  0                  0                  0   \n",
      "38158                  0                  0                  0   \n",
      "860                    0                  0                  0   \n",
      "15795                  0                  0                  0   \n",
      "\n",
      "       native_country_36  native_country_37  native_country_38  \\\n",
      "37193                  0                  0                  0   \n",
      "31093                  0                  0                  0   \n",
      "33814                  0                  0                  0   \n",
      "14500                  0                  0                  0   \n",
      "23399                  0                  0                  0   \n",
      "...                  ...                ...                ...   \n",
      "11284                  0                  0                  0   \n",
      "44732                  0                  0                  0   \n",
      "38158                  0                  0                  0   \n",
      "860                    0                  0                  0   \n",
      "15795                  0                  0                  0   \n",
      "\n",
      "       native_country_39  native_country_40  native_country_41  \\\n",
      "37193                  0                  0                  0   \n",
      "31093                  0                  0                  0   \n",
      "33814                  0                  0                  0   \n",
      "14500                  0                  0                  0   \n",
      "23399                  0                  0                  0   \n",
      "...                  ...                ...                ...   \n",
      "11284                  0                  0                  0   \n",
      "44732                  0                  0                  0   \n",
      "38158                  0                  0                  0   \n",
      "860                    0                  0                  0   \n",
      "15795                  0                  0                  0   \n",
      "\n",
      "       native_country_42  \n",
      "37193                  0  \n",
      "31093                  0  \n",
      "33814                  0  \n",
      "14500                  0  \n",
      "23399                  0  \n",
      "...                  ...  \n",
      "11284                  0  \n",
      "44732                  0  \n",
      "38158                  0  \n",
      "860                    0  \n",
      "15795                  0  \n",
      "\n",
      "[39073 rows x 108 columns]\n",
      "\n",
      "Encoded DataFrame (Testing Set):\n",
      "        age  workclass_1  workclass_2  workclass_3  workclass_4  workclass_5  \\\n",
      "7762    56            1            0            0            0            0   \n",
      "23881   25            1            0            0            0            0   \n",
      "30507   43            1            0            0            0            0   \n",
      "28911   32            1            0            0            0            0   \n",
      "19484   39            1            0            0            0            0   \n",
      "...    ...          ...          ...          ...          ...          ...   \n",
      "43046   50            0            0            1            0            0   \n",
      "18798   51            1            0            0            0            0   \n",
      "29519   25            0            0            1            0            0   \n",
      "550     18            1            0            0            0            0   \n",
      "14337   52            1            0            0            0            0   \n",
      "\n",
      "       workclass_6  workclass_7  workclass_8  workclass_9  ...  \\\n",
      "7762             0            0            0            0  ...   \n",
      "23881            0            0            0            0  ...   \n",
      "30507            0            0            0            0  ...   \n",
      "28911            0            0            0            0  ...   \n",
      "19484            0            0            0            0  ...   \n",
      "...            ...          ...          ...          ...  ...   \n",
      "43046            0            0            0            0  ...   \n",
      "18798            0            0            0            0  ...   \n",
      "29519            0            0            0            0  ...   \n",
      "550              0            0            0            0  ...   \n",
      "14337            0            0            0            0  ...   \n",
      "\n",
      "       native_country_33  native_country_34  native_country_35  \\\n",
      "7762                   0                  0                  0   \n",
      "23881                  0                  0                  0   \n",
      "30507                  0                  0                  0   \n",
      "28911                  0                  0                  0   \n",
      "19484                  0                  0                  0   \n",
      "...                  ...                ...                ...   \n",
      "43046                  0                  0                  0   \n",
      "18798                  0                  0                  0   \n",
      "29519                  0                  0                  0   \n",
      "550                    0                  0                  0   \n",
      "14337                  0                  0                  0   \n",
      "\n",
      "       native_country_36  native_country_37  native_country_38  \\\n",
      "7762                   0                  0                  0   \n",
      "23881                  0                  0                  0   \n",
      "30507                  0                  0                  0   \n",
      "28911                  0                  0                  0   \n",
      "19484                  0                  0                  0   \n",
      "...                  ...                ...                ...   \n",
      "43046                  0                  0                  0   \n",
      "18798                  0                  0                  0   \n",
      "29519                  0                  0                  0   \n",
      "550                    0                  0                  0   \n",
      "14337                  0                  0                  0   \n",
      "\n",
      "       native_country_39  native_country_40  native_country_41  \\\n",
      "7762                   0                  0                  0   \n",
      "23881                  0                  0                  0   \n",
      "30507                  0                  0                  0   \n",
      "28911                  0                  0                  0   \n",
      "19484                  0                  0                  0   \n",
      "...                  ...                ...                ...   \n",
      "43046                  0                  0                  0   \n",
      "18798                  0                  0                  0   \n",
      "29519                  0                  0                  0   \n",
      "550                    0                  0                  0   \n",
      "14337                  0                  0                  0   \n",
      "\n",
      "       native_country_42  \n",
      "7762                   0  \n",
      "23881                  0  \n",
      "30507                  0  \n",
      "28911                  0  \n",
      "19484                  0  \n",
      "...                  ...  \n",
      "43046                  0  \n",
      "18798                  0  \n",
      "29519                  0  \n",
      "550                    0  \n",
      "14337                  0  \n",
      "\n",
      "[9769 rows x 108 columns]\n"
     ]
    }
   ],
   "source": [
    "import category_encoders as ce\n",
    "\n",
    "# Instantiate the OneHotEncoder from category_encoders\n",
    "encoder = ce.OneHotEncoder(cols=X_train.select_dtypes(include=['object']).columns)\n",
    "\n",
    "# Fit and transform the encoder on the training set\n",
    "X_train_encoded = encoder.fit_transform(X_train)\n",
    "\n",
    "# Transform the encoder on the testing set\n",
    "X_test_encoded = encoder.transform(X_test)\n",
    "\n",
    "# Display the encoded DataFrames\n",
    "print('Encoded DataFrame (Training Set):\\n', X_train_encoded)\n",
    "print('\\nEncoded DataFrame (Testing Set):\\n', X_test_encoded)\n"
   ]
  },
  {
   "cell_type": "code",
   "execution_count": 141,
   "metadata": {
    "colab": {
     "base_uri": "https://localhost:8080/",
     "height": 256
    },
    "id": "BovAD7TOJVo1",
    "outputId": "c741d343-8133-4882-ede6-870688fa7175"
   },
   "outputs": [
    {
     "name": "stdout",
     "output_type": "stream",
     "text": [
      "(39073, 6) (9769, 6)\n",
      "(39073, 14) (9769, 14)\n"
     ]
    }
   ],
   "source": [
    "from sklearn.preprocessing import RobustScaler\n",
    "\n",
    "# Identify numerical and categorical columns\n",
    "numerical_cols = X_train.select_dtypes(include=['number']).columns\n",
    "categorical_cols = X_train.select_dtypes(include=['object']).columns\n",
    "\n",
    "# Scale numerical columns\n",
    "scaler = RobustScaler()\n",
    "X_train_scaled = scaler.fit_transform(X_train[numerical_cols])\n",
    "X_test_scaled = scaler.transform(X_test[numerical_cols])\n",
    "\n",
    "print(X_train_scaled.shape, X_test_scaled.shape)\n",
    "\n",
    "# Create DataFrames with scaled numerical columns and original categorical columns\n",
    "X_train_scaled_df = pd.DataFrame(X_train_scaled, columns=numerical_cols)\n",
    "X_train_scaled_df[categorical_cols] = X_train[categorical_cols]\n",
    "\n",
    "X_test_scaled_df = pd.DataFrame(X_test_scaled, columns=numerical_cols)\n",
    "X_test_scaled_df[categorical_cols] = X_test[categorical_cols]\n",
    "\n",
    "X_train_scaled_df.head()\n",
    "\n",
    "print(X_train_scaled_df.shape, X_test_scaled_df.shape)"
   ]
  },
  {
   "cell_type": "code",
   "execution_count": 142,
   "metadata": {},
   "outputs": [
    {
     "name": "stdout",
     "output_type": "stream",
     "text": [
      "Defaulting to user installation because normal site-packages is not writeable\n",
      "Requirement already satisfied: scikit-learn in c:\\users\\shah wali\\appdata\\roaming\\python\\python310\\site-packages (1.3.2)\n",
      "Requirement already satisfied: joblib>=1.1.1 in d:\\anaconda3\\lib\\site-packages (from scikit-learn) (1.1.1)\n",
      "Requirement already satisfied: numpy<2.0,>=1.17.3 in d:\\anaconda3\\lib\\site-packages (from scikit-learn) (1.23.5)\n",
      "Requirement already satisfied: threadpoolctl>=2.0.0 in d:\\anaconda3\\lib\\site-packages (from scikit-learn) (2.2.0)\n",
      "Requirement already satisfied: scipy>=1.5.0 in d:\\anaconda3\\lib\\site-packages (from scikit-learn) (1.10.0)\n"
     ]
    }
   ],
   "source": [
    "!pip install -U scikit-learn"
   ]
  },
  {
   "cell_type": "code",
   "execution_count": 143,
   "metadata": {
    "colab": {
     "base_uri": "https://localhost:8080/"
    },
    "id": "Qs4TPUmYJZYR",
    "outputId": "7264d6e0-12d1-477b-856b-08c084a14aa6"
   },
   "outputs": [],
   "source": [
    "from sklearn.naive_bayes import CategoricalNB\n",
    "\n",
    "# Replace GaussianNB with CategoricalNB\n",
    "naive_bayes_model = CategoricalNB()\n",
    "\n",
    "# Create a pipeline with the preprocessor and the classifier\n",
    "pipeline = Pipeline(steps=[('preprocessor', preprocessor),\n",
    "                             ('classifier', naive_bayes_model)])\n"
   ]
  },
  {
   "cell_type": "code",
   "execution_count": 144,
   "metadata": {},
   "outputs": [
    {
     "data": {
      "text/plain": [
       "(9769, 14)"
      ]
     },
     "execution_count": 144,
     "metadata": {},
     "output_type": "execute_result"
    }
   ],
   "source": [
    "X_test_scaled_df.shape"
   ]
  },
  {
   "cell_type": "code",
   "execution_count": 145,
   "metadata": {
    "colab": {
     "base_uri": "https://localhost:8080/"
    },
    "id": "ZAh2xfqbJofz",
    "outputId": "af832e9a-674b-4fd7-ccef-3a0160b4c387"
   },
   "outputs": [
    {
     "name": "stdout",
     "output_type": "stream",
     "text": [
      "Confusion matrix\n",
      "\n",
      " [[7080  399]\n",
      " [1469  821]]\n",
      "\n",
      "True Positives(TP) =  7080\n",
      "\n",
      "True Negatives(TN) =  821\n",
      "\n",
      "False Positives(FP) =  399\n",
      "\n",
      "False Negatives(FN) =  1469\n"
     ]
    }
   ],
   "source": [
    "from sklearn.compose import ColumnTransformer\n",
    "from sklearn.pipeline import Pipeline\n",
    "from sklearn.preprocessing import StandardScaler, OneHotEncoder\n",
    "from sklearn.impute import SimpleImputer\n",
    "from sklearn.naive_bayes import BernoulliNB\n",
    "from sklearn.metrics import confusion_matrix\n",
    "\n",
    "# Ensure the column names match the actual column names in your data\n",
    "numeric_columns = ['age', 'fnlwgt', 'education_num', 'capital_gain', 'capital_loss', 'hours_per_week']\n",
    "categorical_columns = ['workclass', 'education', 'marital_status', 'occupation', 'relationship', 'race', 'gender', 'native_country']\n",
    "\n",
    "# Define transformers for numeric and categorical features\n",
    "numeric_transformer = Pipeline(steps=[\n",
    "    ('imputer', SimpleImputer(strategy='median')),\n",
    "    ('scaler', StandardScaler())\n",
    "])\n",
    "\n",
    "categorical_transformer = Pipeline(steps=[\n",
    "    ('imputer', SimpleImputer(strategy='constant', fill_value='missing')),\n",
    "    ('onehot', OneHotEncoder(handle_unknown='ignore'))\n",
    "])\n",
    "\n",
    "# Combine transformers using ColumnTransformer\n",
    "preprocessor = ColumnTransformer(\n",
    "    transformers=[\n",
    "        ('num', numeric_transformer, numeric_columns),\n",
    "        ('cat', categorical_transformer, categorical_columns)\n",
    "    ])\n",
    "\n",
    "# Create a pipeline with the preprocessor and the classifier\n",
    "naive_bayes_model = BernoulliNB()\n",
    "pipeline = Pipeline(steps=[('preprocessor', preprocessor),\n",
    "                             ('classifier', naive_bayes_model)])\n",
    "\n",
    "# Fit the pipeline on the training data\n",
    "pipeline.fit(X_train_scaled_df, y_train)\n",
    "\n",
    "# Assuming X_test_scaled_df and y_test are defined\n",
    "# Predict on the test set\n",
    "X_test_transformed = preprocessor.transform(X_test_scaled_df)\n",
    "y_pred = pipeline.predict(X_test_scaled_df)\n",
    "\n",
    "# Create the confusion matrix\n",
    "cm = confusion_matrix(y_test, y_pred)\n",
    "\n",
    "# Print the confusion matrix\n",
    "print('Confusion matrix\\n\\n', cm)\n",
    "\n",
    "# Extract individual values from the confusion matrix\n",
    "tp = cm[0, 0]  # True Positives\n",
    "tn = cm[1, 1]  # True Negatives\n",
    "fp = cm[0, 1]  # False Positives\n",
    "fn = cm[1, 0]  # False Negatives\n",
    "\n",
    "# Print individual values\n",
    "print('\\nTrue Positives(TP) = ', tp)\n",
    "print('\\nTrue Negatives(TN) = ', tn)\n",
    "print('\\nFalse Positives(FP) = ', fp)\n",
    "print('\\nFalse Negatives(FN) = ', fn)"
   ]
  }
 ],
 "metadata": {
  "colab": {
   "provenance": []
  },
  "kernelspec": {
   "display_name": "Python 3 (ipykernel)",
   "language": "python",
   "name": "python3"
  },
  "language_info": {
   "codemirror_mode": {
    "name": "ipython",
    "version": 3
   },
   "file_extension": ".py",
   "mimetype": "text/x-python",
   "name": "python",
   "nbconvert_exporter": "python",
   "pygments_lexer": "ipython3",
   "version": "3.10.9"
  }
 },
 "nbformat": 4,
 "nbformat_minor": 1
}
