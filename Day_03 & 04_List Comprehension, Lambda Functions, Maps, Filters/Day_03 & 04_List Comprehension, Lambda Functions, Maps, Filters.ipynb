{
 "cells": [
  {
   "cell_type": "markdown",
   "id": "4e233b7f",
   "metadata": {},
   "source": [
    "## List Comprehension\n",
    "\n",
    "\n",
    "https://www.geeksforgeeks.org/python-list-comprehension/\n",
    "\n",
    " \n",
    "newlist = [expression for elements in iterable if condition == True]\n",
    "\n",
    "\n",
    "- expression: Represents the operation you want to execute on every item within the iterable.\n",
    "- element: The term “variable” refers to each value taken from the iterable.\n",
    "- iterable: specify the sequence of elements you want to iterate through.(e.g., a list, tuple, or string).\n",
    "- condition: (Optional) A filter helps decide whether or not an element should be added to the new list.\n",
    "- Return:The return value of a list comprehension is a new list containing the modified elements that satisfy the given criteria."
   ]
  },
  {
   "cell_type": "code",
   "execution_count": 18,
   "id": "460c8e9f",
   "metadata": {},
   "outputs": [
    {
     "data": {
      "text/plain": [
       "[1, 2, 3]"
      ]
     },
     "execution_count": 18,
     "metadata": {},
     "output_type": "execute_result"
    }
   ],
   "source": [
    "my_list = [digit for digit in [1, 2, 3]]\n",
    "my_list"
   ]
  },
  {
   "cell_type": "code",
   "execution_count": 19,
   "id": "9cf5050f",
   "metadata": {
    "scrolled": true
   },
   "outputs": [
    {
     "name": "stdout",
     "output_type": "stream",
     "text": [
      "[1, 4, 9, 16, 25]\n"
     ]
    }
   ],
   "source": [
    "numbers = [1, 2, 3, 4, 5]\n",
    "squared = [x ** 2 for x in numbers]\n",
    "print(squared)"
   ]
  },
  {
   "cell_type": "code",
   "execution_count": 10,
   "id": "f70504a1",
   "metadata": {},
   "outputs": [
    {
     "data": {
      "text/plain": [
       "[1, 2, 3, 4, 5, 6, 7, 8, 9]"
      ]
     },
     "execution_count": 10,
     "metadata": {},
     "output_type": "execute_result"
    }
   ],
   "source": [
    "numbers = [x for x in range(1,10)]\n",
    "numbers"
   ]
  },
  {
   "cell_type": "code",
   "execution_count": 20,
   "id": "5d6202d8",
   "metadata": {},
   "outputs": [
    {
     "data": {
      "text/plain": [
       "[0, 2, 4, 6, 8, 10]"
      ]
     },
     "execution_count": 20,
     "metadata": {},
     "output_type": "execute_result"
    }
   ],
   "source": [
    "List = [i for i in range(11) if i % 2 == 0]\n",
    "List"
   ]
  },
  {
   "cell_type": "code",
   "execution_count": 3,
   "id": "93016a7c",
   "metadata": {},
   "outputs": [
    {
     "data": {
      "text/plain": [
       "[1, 4, 9, 16, 25, 36, 49, 64, 81]"
      ]
     },
     "execution_count": 3,
     "metadata": {},
     "output_type": "execute_result"
    }
   ],
   "source": [
    "# Square numbers range from 1 ot 10\n",
    "square_numbers = [x*x for x in range(1,10)]\n",
    "square_numbers\n",
    "\n"
   ]
  },
  {
   "cell_type": "code",
   "execution_count": 12,
   "id": "e33e2962",
   "metadata": {},
   "outputs": [
    {
     "data": {
      "text/plain": [
       "[1, 4, 9, 16, 25, 36, 49, 64, 81, 100]"
      ]
     },
     "execution_count": 12,
     "metadata": {},
     "output_type": "execute_result"
    }
   ],
   "source": [
    "num = [1,2,3,4,5,6,7,8,9,10]\n",
    "squared_numbers = [x*x for x in num]\n",
    "\n",
    "squared_numbers"
   ]
  },
  {
   "cell_type": "code",
   "execution_count": 13,
   "id": "1c91fe61",
   "metadata": {},
   "outputs": [
    {
     "data": {
      "text/plain": [
       "[4, 16, 36, 64, 100]"
      ]
     },
     "execution_count": 13,
     "metadata": {},
     "output_type": "execute_result"
    }
   ],
   "source": [
    "# Square of Even Number from range from 1 to 10\n",
    "num = [1,2,3,4,5,6,7,8,9,10]\n",
    "squared_numbers = [x*x for x in num if x%2 == 0]\n",
    "\n",
    "squared_numbers"
   ]
  },
  {
   "cell_type": "code",
   "execution_count": 14,
   "id": "9e43eea9",
   "metadata": {},
   "outputs": [
    {
     "data": {
      "text/plain": [
       "[2, 4, 6, 8, 10]"
      ]
     },
     "execution_count": 14,
     "metadata": {},
     "output_type": "execute_result"
    }
   ],
   "source": [
    "# Even Numbers\n",
    "num = [1,2,3,4,5,6,7,8,9,10]\n",
    "even_numbers = [x for x in num if x%2 == 0]\n",
    "even_numbers"
   ]
  },
  {
   "cell_type": "code",
   "execution_count": 15,
   "id": "eb4057c5",
   "metadata": {},
   "outputs": [
    {
     "data": {
      "text/plain": [
       "[1, 3, 5, 7, 9]"
      ]
     },
     "execution_count": 15,
     "metadata": {},
     "output_type": "execute_result"
    }
   ],
   "source": [
    "# Even Numbers\n",
    "num = [1,2,3,4,5,6,7,8,9,10]\n",
    "odd_numbers = [x for x in num if x%2 != 0]\n",
    "odd_numbers"
   ]
  },
  {
   "cell_type": "code",
   "execution_count": 4,
   "id": "1adb19ed",
   "metadata": {},
   "outputs": [
    {
     "data": {
      "text/plain": [
       "[1, 4, 9, 16, 25, 36, 49, 64, 81, 100]"
      ]
     },
     "execution_count": 4,
     "metadata": {},
     "output_type": "execute_result"
    }
   ],
   "source": [
    "num=[1,2,3,4,5,6,7,8,9,10]\n",
    "square_list = [x**2 for x in num]\n",
    "square_list"
   ]
  },
  {
   "cell_type": "code",
   "execution_count": 7,
   "id": "f5205727",
   "metadata": {},
   "outputs": [
    {
     "data": {
      "text/plain": [
       "['a', 'a', 'i']"
      ]
     },
     "execution_count": 7,
     "metadata": {},
     "output_type": "execute_result"
    }
   ],
   "source": [
    "word = 'ShahWali'\n",
    "vowels = [letter for letter in word if letter in 'aeiou']\n",
    "vowels"
   ]
  },
  {
   "cell_type": "code",
   "execution_count": 8,
   "id": "1000d319",
   "metadata": {},
   "outputs": [
    {
     "data": {
      "text/plain": [
       "[(2, 'a'), (5, 'a'), (7, 'i')]"
      ]
     },
     "execution_count": 8,
     "metadata": {},
     "output_type": "execute_result"
    }
   ],
   "source": [
    "word = 'ShahWali'\n",
    "new_tuple = [(c,x) for c,x in enumerate(word) if x in 'aeiou']\n",
    "new_tuple"
   ]
  },
  {
   "cell_type": "markdown",
   "id": "d634e9b2",
   "metadata": {},
   "source": [
    "### Enumerate\n",
    "\n",
    "\n",
    "https://www.geeksforgeeks.org/enumerate-in-python/\n",
    "\n",
    "Syntax: enumerate(iterable, start=0)\n",
    "\n",
    "- Iterable: any object that supports iteration\n",
    "- Start: the index value from which the counter is to be started, by default it is 0\n",
    "- Return: Returns an iterator with index and element pairs from the original iterable"
   ]
  },
  {
   "cell_type": "code",
   "execution_count": 43,
   "id": "62899d72",
   "metadata": {},
   "outputs": [
    {
     "name": "stdout",
     "output_type": "stream",
     "text": [
      "[(0, 'Chrome'), (1, 'Firefox'), (2, 'Opera'), (3, 'Vivaldi')]\n"
     ]
    }
   ],
   "source": [
    "browsers = ['Chrome','Firefox','Opera','Vivaldi']\n",
    "\n",
    "# create an enumeratable and convert to list\n",
    "x = list(enumerate(browsers))\n",
    "print(x)"
   ]
  },
  {
   "cell_type": "code",
   "execution_count": 44,
   "id": "1e767323",
   "metadata": {},
   "outputs": [
    {
     "name": "stdout",
     "output_type": "stream",
     "text": [
      "[(1, 'Chrome'), (2, 'Firefox'), (3, 'Opera'), (4, 'Vivaldi')]\n"
     ]
    }
   ],
   "source": [
    "browsers = ['Chrome','Firefox','Opera','Vivaldi']\n",
    "\n",
    "# create an enumeratable and convert to list\n",
    "x = list(enumerate(browsers, 1))\n",
    "print(x)"
   ]
  },
  {
   "cell_type": "code",
   "execution_count": 30,
   "id": "07193994",
   "metadata": {},
   "outputs": [
    {
     "data": {
      "text/plain": [
       "[(0, 1)]"
      ]
     },
     "execution_count": 30,
     "metadata": {},
     "output_type": "execute_result"
    }
   ],
   "source": [
    "word = ['Hello']\n",
    "pairs = [(c,1) for c,i in enumerate(word)]\n",
    "pairs"
   ]
  },
  {
   "cell_type": "markdown",
   "id": "d3b3d76d",
   "metadata": {},
   "source": [
    "## Lambda Functions\n",
    "\n",
    "https://www.geeksforgeeks.org/python-lambda/"
   ]
  },
  {
   "cell_type": "markdown",
   "id": "2f6ee8ff",
   "metadata": {},
   "source": [
    "#### Problem 1 (Without Lambda Function)"
   ]
  },
  {
   "cell_type": "code",
   "execution_count": 12,
   "id": "5e85f944",
   "metadata": {},
   "outputs": [],
   "source": [
    "# Finding Cube of a Number\n",
    "def cube_val(x):\n",
    "    return x**3"
   ]
  },
  {
   "cell_type": "code",
   "execution_count": 13,
   "id": "e8e56f32",
   "metadata": {},
   "outputs": [
    {
     "data": {
      "text/plain": [
       "27"
      ]
     },
     "execution_count": 13,
     "metadata": {},
     "output_type": "execute_result"
    }
   ],
   "source": [
    "cube_val(3)"
   ]
  },
  {
   "cell_type": "markdown",
   "id": "95363f9b",
   "metadata": {},
   "source": [
    "####  (With Lambda Function)"
   ]
  },
  {
   "cell_type": "code",
   "execution_count": 14,
   "id": "7b8bc355",
   "metadata": {},
   "outputs": [
    {
     "data": {
      "text/plain": [
       "27"
      ]
     },
     "execution_count": 14,
     "metadata": {},
     "output_type": "execute_result"
    }
   ],
   "source": [
    "# Lambda Cube\n",
    "\n",
    "lambda_cube = lambda x:x**3\n",
    "\n",
    "lambda_cube(3)"
   ]
  },
  {
   "cell_type": "code",
   "execution_count": 15,
   "id": "75599140",
   "metadata": {},
   "outputs": [
    {
     "data": {
      "text/plain": [
       "125"
      ]
     },
     "execution_count": 15,
     "metadata": {},
     "output_type": "execute_result"
    }
   ],
   "source": [
    "lambda_function=lambda a: a**3\n",
    "lambda_function(5)"
   ]
  },
  {
   "cell_type": "code",
   "execution_count": 16,
   "id": "3c33fa3a",
   "metadata": {},
   "outputs": [
    {
     "data": {
      "text/plain": [
       "[1, 3]"
      ]
     },
     "execution_count": 16,
     "metadata": {},
     "output_type": "execute_result"
    }
   ],
   "source": [
    "number=[1,2,3,4]\n",
    "\n",
    "odnm = lambda x: x%2 != 0\n",
    "\n",
    "odd_nums = list(filter(odnm, number))\n",
    "odd_nums\n"
   ]
  },
  {
   "cell_type": "markdown",
   "id": "13d7c245",
   "metadata": {},
   "source": [
    "## Maps"
   ]
  },
  {
   "cell_type": "code",
   "execution_count": 19,
   "id": "11c34a93",
   "metadata": {},
   "outputs": [
    {
     "data": {
      "text/plain": [
       "[1, 8, 27, 64, 125]"
      ]
     },
     "execution_count": 19,
     "metadata": {},
     "output_type": "execute_result"
    }
   ],
   "source": [
    "numbers = [1,2,3,4,5]\n",
    "cubed_numbers = list(map(cube_val, numbers))\n",
    "cubed_numbers"
   ]
  },
  {
   "cell_type": "markdown",
   "id": "c8be2eaa",
   "metadata": {},
   "source": [
    "## Filters"
   ]
  },
  {
   "cell_type": "code",
   "execution_count": 20,
   "id": "fdfea354",
   "metadata": {},
   "outputs": [
    {
     "data": {
      "text/plain": [
       "[4, 5]"
      ]
     },
     "execution_count": 20,
     "metadata": {},
     "output_type": "execute_result"
    }
   ],
   "source": [
    "\n",
    "def gt3(x):\n",
    "    return x>3\n",
    "\n",
    "greaterthansum = list(filter(gt3,numbers))\n",
    "greaterthansum\n",
    "\n"
   ]
  },
  {
   "cell_type": "code",
   "execution_count": 21,
   "id": "3b918d46",
   "metadata": {},
   "outputs": [
    {
     "data": {
      "text/plain": [
       "[1, 3, 5]"
      ]
     },
     "execution_count": 21,
     "metadata": {},
     "output_type": "execute_result"
    }
   ],
   "source": [
    "def odd(x):\n",
    "    return x%2 != 0\n",
    "\n",
    "odd = list(filter(odd,numbers))\n",
    "odd\n"
   ]
  },
  {
   "cell_type": "code",
   "execution_count": 22,
   "id": "146dc6fd",
   "metadata": {},
   "outputs": [
    {
     "data": {
      "text/plain": [
       "[1, 3, 5]"
      ]
     },
     "execution_count": 22,
     "metadata": {},
     "output_type": "execute_result"
    }
   ],
   "source": [
    "odd = lambda x:x%2 != 0\n",
    "\n",
    "odd = list(filter(odd,numbers))\n",
    "odd"
   ]
  },
  {
   "cell_type": "code",
   "execution_count": 25,
   "id": "4e30dedb",
   "metadata": {},
   "outputs": [
    {
     "data": {
      "text/plain": [
       "4"
      ]
     },
     "execution_count": 25,
     "metadata": {},
     "output_type": "execute_result"
    }
   ],
   "source": [
    "def find_dup(arr):\n",
    "    newList = [x for x in arr if arr.count(x)>1]\n",
    "    return newList[0]\n",
    "arr = [1,3,4,4,7,9]\n",
    "find_dup(arr)"
   ]
  },
  {
   "cell_type": "code",
   "execution_count": 27,
   "id": "2959a8f4",
   "metadata": {},
   "outputs": [
    {
     "data": {
      "text/plain": [
       "[1, 3, 4, 4, 7]"
      ]
     },
     "execution_count": 27,
     "metadata": {},
     "output_type": "execute_result"
    }
   ],
   "source": [
    "def filter_list(x):\n",
    "    return [i for i in x if isinstance(i,int)]\n",
    "\n",
    "arr = [1,3,4,4,7,9.9]\n",
    "a = filter_list(arr)\n",
    "a"
   ]
  }
 ],
 "metadata": {
  "kernelspec": {
   "display_name": "Python 3 (ipykernel)",
   "language": "python",
   "name": "python3"
  },
  "language_info": {
   "codemirror_mode": {
    "name": "ipython",
    "version": 3
   },
   "file_extension": ".py",
   "mimetype": "text/x-python",
   "name": "python",
   "nbconvert_exporter": "python",
   "pygments_lexer": "ipython3",
   "version": "3.10.9"
  }
 },
 "nbformat": 4,
 "nbformat_minor": 5
}
