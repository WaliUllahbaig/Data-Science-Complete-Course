{
 "cells": [
  {
   "cell_type": "code",
   "execution_count": 1,
   "id": "c1fef962-d85a-432e-b41a-c48c62adbee2",
   "metadata": {},
   "outputs": [],
   "source": [
    "import numpy as np\n",
    "from functools import reduce"
   ]
  },
  {
   "cell_type": "markdown",
   "id": "01f17006-9cbe-460d-a52b-f745e0c1ba02",
   "metadata": {},
   "source": [
    "# Numpy\n",
    "The NumPy library contains multidimensional array and matrix data structures (you’ll find more information about this in later sections). It provides ndarray, a homogeneous n-dimensional array object, with methods to efficiently operate on it. NumPy can be used to perform a wide variety of mathematical operations on arrays. It adds powerful data structures to Python that guarantee efficient calculations with arrays and matrices and it supplies an enormous library of high-level mathematical functions that operate on these arrays and matrices. \n",
    "\n",
    "Why use NumPy?\n",
    "\n",
    "NumPy arrays are faster and more compact than Python lists. An array consumes less memory and is convenient to use. NumPy uses much less memory to store data and it provides a mechanism of specifying the data types. This allows the code to be optimized even further.\n",
    "\n",
    "(https://numpy.org/doc/stable/user/absolute_beginners.html)"
   ]
  },
  {
   "cell_type": "markdown",
   "id": "e504843c-1b39-42aa-a061-06f134cfde7b",
   "metadata": {},
   "source": [
    "# Basic Usage"
   ]
  },
  {
   "cell_type": "markdown",
   "id": "36109b2c-facd-4897-8113-d0f68f56d4f7",
   "metadata": {},
   "source": [
    "## Defining arrays and basic operations\n",
    "Create a 1-dimensional NumPy array with elements [1, 2, 3, 4, 5]."
   ]
  },
  {
   "cell_type": "code",
   "execution_count": 22,
   "id": "2da6273e-232c-4d85-af48-d3f3b649e5e8",
   "metadata": {},
   "outputs": [
    {
     "data": {
      "text/plain": [
       "array([1, 2, 3, 4, 5])"
      ]
     },
     "execution_count": 22,
     "metadata": {},
     "output_type": "execute_result"
    }
   ],
   "source": [
    "np.array([1,2,3,4,5])"
   ]
  },
  {
   "cell_type": "markdown",
   "id": "1c214263-4dca-4087-9b25-b4ca5a5dc77c",
   "metadata": {},
   "source": [
    " Create a 2-dimensional NumPy array with shape (3, 3) containing all zeros."
   ]
  },
  {
   "cell_type": "code",
   "execution_count": 23,
   "id": "b8038cb4-e4f2-4560-9881-d86b9ea2cb8c",
   "metadata": {},
   "outputs": [
    {
     "name": "stdout",
     "output_type": "stream",
     "text": [
      "[[1. 1. 1.]\n",
      " [1. 1. 1.]\n",
      " [1. 1. 1.]]\n"
     ]
    }
   ],
   "source": [
    "z=np.ones((3,3))\n",
    "print(z)"
   ]
  },
  {
   "cell_type": "markdown",
   "id": "d92ffe8f-67b2-4a45-8add-9703a255f7b5",
   "metadata": {},
   "source": [
    "Add 5 to every element of the array created"
   ]
  },
  {
   "cell_type": "code",
   "execution_count": 24,
   "id": "37f62adf-a072-47b9-9897-6488ef475ba5",
   "metadata": {},
   "outputs": [
    {
     "data": {
      "text/plain": [
       "array([[6., 6., 6.],\n",
       "       [6., 6., 6.],\n",
       "       [6., 6., 6.]])"
      ]
     },
     "execution_count": 24,
     "metadata": {},
     "output_type": "execute_result"
    }
   ],
   "source": [
    "ar=z+5\n",
    "ar"
   ]
  },
  {
   "cell_type": "code",
   "execution_count": 4,
   "id": "7c1193cb-d9c4-4391-963f-d0c0081c7af5",
   "metadata": {},
   "outputs": [
    {
     "data": {
      "text/plain": [
       "array([[0, 1, 2],\n",
       "       [3, 4, 5],\n",
       "       [6, 7, 8]])"
      ]
     },
     "execution_count": 4,
     "metadata": {},
     "output_type": "execute_result"
    }
   ],
   "source": [
    "ar=np.array(list(range(0,9))).reshape(3,3)\n",
    "ar"
   ]
  },
  {
   "cell_type": "code",
   "execution_count": 8,
   "id": "f9150ebc-c25d-492f-a181-6190b68634fd",
   "metadata": {},
   "outputs": [
    {
     "data": {
      "text/plain": [
       "[6, 7, 8, 9, 10]"
      ]
     },
     "execution_count": 8,
     "metadata": {},
     "output_type": "execute_result"
    }
   ],
   "source": [
    "ar_list=[1,2,3,4,5]\n",
    "[x+5 for x in ar_list]"
   ]
  },
  {
   "cell_type": "markdown",
   "id": "49faa633-3e00-49da-8f64-51239ab0b7c7",
   "metadata": {},
   "source": [
    "Extract the second and third elements from the array."
   ]
  },
  {
   "cell_type": "code",
   "execution_count": 11,
   "id": "a63ea755-64d0-4e7c-8385-0d77491bc013",
   "metadata": {},
   "outputs": [
    {
     "name": "stdout",
     "output_type": "stream",
     "text": [
      "2 3\n"
     ]
    }
   ],
   "source": [
    "# indexing\n",
    "#ar[-1,-1]\n",
    "#ar[0][2]\n",
    "print(ar_list[1], ar_list[2])"
   ]
  },
  {
   "cell_type": "markdown",
   "id": "6a6a46ce-7651-47ca-aec5-9024af5a88bc",
   "metadata": {},
   "source": [
    "Extract the last two rows of the array created in Exercise 1b."
   ]
  },
  {
   "cell_type": "code",
   "execution_count": 19,
   "id": "a765081f-f472-4ad0-bf88-3fa48ee5d5a2",
   "metadata": {},
   "outputs": [
    {
     "data": {
      "text/plain": [
       "array([[3, 4, 5],\n",
       "       [6, 7, 8]])"
      ]
     },
     "execution_count": 19,
     "metadata": {},
     "output_type": "execute_result"
    }
   ],
   "source": [
    "ar=np.array(list(range(0,9))).reshape(3,3)\n",
    "\n",
    "ar[1:,]"
   ]
  },
  {
   "cell_type": "markdown",
   "id": "79bdb3fc-0697-4205-965d-9f1a768f3990",
   "metadata": {},
   "source": [
    "Calculate the sum of all elements in the array created "
   ]
  },
  {
   "cell_type": "code",
   "execution_count": 20,
   "id": "4d8b4b16-22b2-4a58-a669-bc0e168baec3",
   "metadata": {},
   "outputs": [
    {
     "data": {
      "text/plain": [
       "36"
      ]
     },
     "execution_count": 20,
     "metadata": {},
     "output_type": "execute_result"
    }
   ],
   "source": [
    "np.sum(ar)"
   ]
  },
  {
   "cell_type": "code",
   "execution_count": 21,
   "id": "53b46e88-2d5c-4068-9482-5ee3072e0538",
   "metadata": {},
   "outputs": [
    {
     "data": {
      "text/plain": [
       "(3, 3)"
      ]
     },
     "execution_count": 21,
     "metadata": {},
     "output_type": "execute_result"
    }
   ],
   "source": [
    "ar.shape"
   ]
  },
  {
   "cell_type": "markdown",
   "id": "4b6d929b-0867-4573-ba93-dbe3a08b5829",
   "metadata": {},
   "source": [
    "Writing code to sum a 2d array"
   ]
  },
  {
   "cell_type": "code",
   "execution_count": 32,
   "id": "418dda37-0940-404d-b7ba-3513e07cae5a",
   "metadata": {},
   "outputs": [
    {
     "data": {
      "text/plain": [
       "36"
      ]
     },
     "execution_count": 32,
     "metadata": {},
     "output_type": "execute_result"
    }
   ],
   "source": [
    "summ=0\n",
    "for row in range(0, ar.shape[0]):\n",
    "    for col in range(0, ar.shape[0]):\n",
    "        summ += ar[row][col]\n",
    "summ"
   ]
  },
  {
   "cell_type": "markdown",
   "id": "3a0888f1-ae8d-469b-92b3-a0753ada75a5",
   "metadata": {},
   "source": [
    "Using numpy functions to sum arary"
   ]
  },
  {
   "cell_type": "code",
   "execution_count": 36,
   "id": "1e20dac5",
   "metadata": {},
   "outputs": [
    {
     "data": {
      "text/plain": [
       "36"
      ]
     },
     "execution_count": 36,
     "metadata": {},
     "output_type": "execute_result"
    }
   ],
   "source": [
    "np.sum(ar)"
   ]
  },
  {
   "cell_type": "raw",
   "id": "5727fe51",
   "metadata": {},
   "source": [
    "Calculate Mean"
   ]
  },
  {
   "cell_type": "code",
   "execution_count": 37,
   "id": "a5a26f17-a5e6-4925-b29d-068055bc7171",
   "metadata": {},
   "outputs": [
    {
     "data": {
      "text/plain": [
       "4.0"
      ]
     },
     "execution_count": 37,
     "metadata": {},
     "output_type": "execute_result"
    }
   ],
   "source": [
    "summ=0\n",
    "count=0\n",
    "for row in range(0, ar.shape[0]):\n",
    "    for col in range(0, ar.shape[0]):\n",
    "        summ += ar[row][col]\n",
    "        count+=1\n",
    "summ\n",
    "summ/count"
   ]
  },
  {
   "cell_type": "code",
   "execution_count": 38,
   "id": "96e4e7c5-d596-40c7-941c-6d6b21e64d75",
   "metadata": {},
   "outputs": [
    {
     "data": {
      "text/plain": [
       "4.0"
      ]
     },
     "execution_count": 38,
     "metadata": {},
     "output_type": "execute_result"
    }
   ],
   "source": [
    "np.mean(ar)"
   ]
  },
  {
   "cell_type": "markdown",
   "id": "4da9f2c2-0efe-4cc9-a470-459e7c959573",
   "metadata": {},
   "source": [
    "## Reshape\n",
    "Reshape the array created in Exercise 1a to have shape (9, 1)."
   ]
  },
  {
   "cell_type": "code",
   "execution_count": 41,
   "id": "95e8960a-c19b-4a15-b001-219ae035f532",
   "metadata": {},
   "outputs": [
    {
     "name": "stdout",
     "output_type": "stream",
     "text": [
      "(9,)\n"
     ]
    },
    {
     "data": {
      "text/plain": [
       "array([0, 1, 2, 3, 4, 5, 6, 7, 8])"
      ]
     },
     "execution_count": 41,
     "metadata": {},
     "output_type": "execute_result"
    }
   ],
   "source": [
    "ar=np.array(\n",
    "[0,1,2,3,4,5,6,7,8]\n",
    ")\n",
    "print(ar.shape)\n",
    "ar"
   ]
  },
  {
   "cell_type": "code",
   "execution_count": 61,
   "id": "4618babb-5eb1-4e13-90ee-d4d867b31d92",
   "metadata": {},
   "outputs": [
    {
     "data": {
      "text/plain": [
       "array([[0, 1, 2],\n",
       "       [3, 4, 5],\n",
       "       [6, 7, 8]])"
      ]
     },
     "execution_count": 61,
     "metadata": {},
     "output_type": "execute_result"
    }
   ],
   "source": [
    "# arr_2d=ar.reshape(3,3)\n",
    "arr_2d=ar.reshape(-1,3)\n",
    "#arr_2d = arr_2d.reshape(1,9)\n",
    "arr_2d\n",
    "\n",
    "# print(1*3*3*1)"
   ]
  },
  {
   "cell_type": "code",
   "execution_count": 62,
   "id": "c7da3f4c-9bf2-4533-a4be-9614c89c3873",
   "metadata": {},
   "outputs": [
    {
     "data": {
      "text/plain": [
       "array([0, 1, 2, 3, 4, 5, 6, 7, 8])"
      ]
     },
     "execution_count": 62,
     "metadata": {},
     "output_type": "execute_result"
    }
   ],
   "source": [
    "ar"
   ]
  },
  {
   "cell_type": "code",
   "execution_count": 63,
   "id": "01a17cfc-def7-4ffc-8239-411d5a41ba5d",
   "metadata": {},
   "outputs": [
    {
     "data": {
      "text/plain": [
       "array([[0, 1, 2],\n",
       "       [3, 4, 5],\n",
       "       [6, 7, 8]])"
      ]
     },
     "execution_count": 63,
     "metadata": {},
     "output_type": "execute_result"
    }
   ],
   "source": [
    "ar.reshape(1,9).reshape(3,3)"
   ]
  },
  {
   "cell_type": "code",
   "execution_count": 65,
   "id": "ccd95cae-6cae-43f0-9460-770b0fd91d52",
   "metadata": {},
   "outputs": [
    {
     "data": {
      "text/plain": [
       "array([[1, 2, 3],\n",
       "       [4, 5, 6],\n",
       "       [7, 8, 9]])"
      ]
     },
     "execution_count": 65,
     "metadata": {},
     "output_type": "execute_result"
    }
   ],
   "source": [
    "ar= list(range(1,10))\n",
    "ar=np.array(ar).reshape(3,3)\n",
    "ar"
   ]
  },
  {
   "cell_type": "markdown",
   "id": "93a64437-99b9-4cb6-9eb6-efaa6d2dfa6c",
   "metadata": {},
   "source": [
    "Transpose the array created in Exercise 1b."
   ]
  },
  {
   "cell_type": "code",
   "execution_count": 66,
   "id": "745b0c4a-23af-40e5-8859-858cb1970a6a",
   "metadata": {},
   "outputs": [],
   "source": [
    "ar=ar.reshape(-1,3)"
   ]
  },
  {
   "cell_type": "code",
   "execution_count": 60,
   "id": "2da2cbe9-eaad-4b8c-b2c2-53e192e24573",
   "metadata": {},
   "outputs": [
    {
     "data": {
      "text/plain": [
       "array([[1, 2, 3],\n",
       "       [4, 5, 6]])"
      ]
     },
     "execution_count": 60,
     "metadata": {},
     "output_type": "execute_result"
    }
   ],
   "source": [
    "ar=np.array([1,2,3,4,5,6]).reshape(2,3)\n",
    "ar"
   ]
  },
  {
   "cell_type": "code",
   "execution_count": 61,
   "id": "22c9b426-43a2-43f3-8cc6-7e655a6d9673",
   "metadata": {},
   "outputs": [
    {
     "data": {
      "text/plain": [
       "array([[1, 4],\n",
       "       [2, 5],\n",
       "       [3, 6]])"
      ]
     },
     "execution_count": 61,
     "metadata": {},
     "output_type": "execute_result"
    }
   ],
   "source": [
    "np.transpose(ar)"
   ]
  },
  {
   "cell_type": "code",
   "execution_count": 3,
   "id": "9336d366",
   "metadata": {},
   "outputs": [
    {
     "data": {
      "text/plain": [
       "array([[['1', '2', '3'],\n",
       "        ['4', '5', '6'],\n",
       "        ['7', '8', '9']],\n",
       "\n",
       "       [['10', '11', '12'],\n",
       "        ['13', '14', '15'],\n",
       "        ['16', '17', '18']],\n",
       "\n",
       "       [['19', '20', '21'],\n",
       "        ['22', '23', '24'],\n",
       "        ['25', '26', '27']]], dtype='<U2')"
      ]
     },
     "execution_count": 3,
     "metadata": {},
     "output_type": "execute_result"
    }
   ],
   "source": [
    "arr1 = np.array([[['1', '2', '3'], ['4', '5', '6'], ['7', '8', '9']],\n",
    "                 [['10', '11', '12'], ['13', '14', '15'], ['16', '17', '18']],\n",
    "                 [['19', '20', '21'], ['22', '23', '24'], ['25', '26', '27']]])\n",
    "arr1"
   ]
  },
  {
   "cell_type": "code",
   "execution_count": 11,
   "id": "02e42fb6",
   "metadata": {},
   "outputs": [
    {
     "data": {
      "text/plain": [
       "(3, 3, 3)"
      ]
     },
     "execution_count": 11,
     "metadata": {},
     "output_type": "execute_result"
    }
   ],
   "source": [
    "arr1.shape"
   ]
  },
  {
   "cell_type": "code",
   "execution_count": 6,
   "id": "24e983cb",
   "metadata": {},
   "outputs": [
    {
     "data": {
      "text/plain": [
       "array([[['13', '14', '15'],\n",
       "        ['16', '17', '18']],\n",
       "\n",
       "       [['22', '23', '24'],\n",
       "        ['25', '26', '27']]], dtype='<U2')"
      ]
     },
     "execution_count": 6,
     "metadata": {},
     "output_type": "execute_result"
    }
   ],
   "source": [
    "arr1[1:3,1:3]"
   ]
  },
  {
   "cell_type": "code",
   "execution_count": 14,
   "id": "3ef26e70",
   "metadata": {},
   "outputs": [
    {
     "data": {
      "text/plain": [
       "array([[['#', '#', '#', '#', '#'],\n",
       "        ['0', '0', '0', '0', '0'],\n",
       "        ['#', '#', '#', '#', '#']],\n",
       "\n",
       "       [['#', '#', '#', '#', '#'],\n",
       "        ['#', '#', '#', '#', '#'],\n",
       "        ['#', '#', '#', '#', '#']]], dtype='<U1')"
      ]
     },
     "execution_count": 14,
     "metadata": {},
     "output_type": "execute_result"
    }
   ],
   "source": [
    "#Shape: 5*3*2\n",
    "\n",
    "arr2 = np.array([[['#', '#', '#', '#', '#'],\n",
    "  ['0', '0', '0', '0', '0'],\n",
    "  ['#', '#', '#', '#', '#']],\n",
    " [['#', '#', '#', '#', '#'],\n",
    "  ['#', '#', '#', '#', '#'],\n",
    "  ['#', '#', '#', '#', '#']]])\n",
    "arr2"
   ]
  },
  {
   "cell_type": "code",
   "execution_count": 15,
   "id": "3fb5d5ca",
   "metadata": {},
   "outputs": [
    {
     "data": {
      "text/plain": [
       "(2, 3, 5)"
      ]
     },
     "execution_count": 15,
     "metadata": {},
     "output_type": "execute_result"
    }
   ],
   "source": [
    "arr2.shape"
   ]
  },
  {
   "cell_type": "code",
   "execution_count": 16,
   "id": "7e026f72",
   "metadata": {},
   "outputs": [
    {
     "data": {
      "text/plain": [
       "array([[['0', '0', '0', '0', '0']]], dtype='<U1')"
      ]
     },
     "execution_count": 16,
     "metadata": {},
     "output_type": "execute_result"
    }
   ],
   "source": [
    "arr2[:1,1:2]"
   ]
  },
  {
   "cell_type": "code",
   "execution_count": 19,
   "id": "f44aadb2",
   "metadata": {},
   "outputs": [
    {
     "data": {
      "text/plain": [
       "array([[[ 0,  1,  2,  3,  4],\n",
       "        [ 5,  6,  7,  8,  9],\n",
       "        [10, 11, 12, 13, 14]],\n",
       "\n",
       "       [[15, 16, 17, 18, 19],\n",
       "        [20, 21, 22, 23, 24],\n",
       "        [25, 26, 27, 28, 29]]])"
      ]
     },
     "execution_count": 19,
     "metadata": {},
     "output_type": "execute_result"
    }
   ],
   "source": [
    "arr3 = np.array(range(0,30))\n",
    "arr3 = arr3.reshape(2, 3, 5)\n",
    "arr3"
   ]
  },
  {
   "cell_type": "code",
   "execution_count": 21,
   "id": "e7f2c464",
   "metadata": {},
   "outputs": [
    {
     "data": {
      "text/plain": [
       "array([[[ 0,  1,  2]],\n",
       "\n",
       "       [[ 3,  4,  5]],\n",
       "\n",
       "       [[ 6,  7,  8]],\n",
       "\n",
       "       [[ 9, 10, 11]],\n",
       "\n",
       "       [[12, 13, 14]],\n",
       "\n",
       "       [[15, 16, 17]],\n",
       "\n",
       "       [[18, 19, 20]],\n",
       "\n",
       "       [[21, 22, 23]],\n",
       "\n",
       "       [[24, 25, 26]],\n",
       "\n",
       "       [[27, 28, 29]]])"
      ]
     },
     "execution_count": 21,
     "metadata": {},
     "output_type": "execute_result"
    }
   ],
   "source": [
    "arr3 = arr3.reshape(10, 1, 3)\n",
    "arr3"
   ]
  },
  {
   "cell_type": "markdown",
   "id": "f26b520c-5aee-4b9f-80d3-1bd27cc7443f",
   "metadata": {},
   "source": [
    "## Timing"
   ]
  },
  {
   "cell_type": "code",
   "execution_count": 3,
   "id": "3ec2eef7-2e9c-4f35-b667-b0687af15faf",
   "metadata": {},
   "outputs": [],
   "source": [
    "my_list=list(range(100000))\n",
    "np_arr=np.array(my_list)"
   ]
  },
  {
   "cell_type": "code",
   "execution_count": 4,
   "id": "59d34b5a-7402-468f-9a17-d296c9cb5830",
   "metadata": {},
   "outputs": [
    {
     "name": "stdout",
     "output_type": "stream",
     "text": [
      "30.3 ms ± 9.86 ms per loop (mean ± std. dev. of 7 runs, 100 loops each)\n"
     ]
    }
   ],
   "source": [
    "%%timeit -n 100\n",
    "[x+5 for x in my_list]"
   ]
  },
  {
   "cell_type": "code",
   "execution_count": 5,
   "id": "be1efb58-bf6f-4e70-98f6-de93872e2460",
   "metadata": {},
   "outputs": [
    {
     "name": "stdout",
     "output_type": "stream",
     "text": [
      "194 µs ± 42.8 µs per loop (mean ± std. dev. of 7 runs, 100 loops each)\n"
     ]
    }
   ],
   "source": [
    "%%timeit -n 100\n",
    "np_arr+5"
   ]
  },
  {
   "cell_type": "code",
   "execution_count": 6,
   "id": "2377a7e5-c427-4bdb-81f4-1f7f79dc3ebc",
   "metadata": {},
   "outputs": [
    {
     "name": "stdout",
     "output_type": "stream",
     "text": [
      "31.5 ms ± 1.32 ms per loop (mean ± std. dev. of 7 runs, 100 loops each)\n"
     ]
    }
   ],
   "source": [
    "%%timeit -n 100\n",
    "list_sum=0\n",
    "for i in my_list:\n",
    "    list_sum+=i"
   ]
  },
  {
   "cell_type": "code",
   "execution_count": 7,
   "id": "7621e88f-660c-4a47-ace4-df262f40e13e",
   "metadata": {},
   "outputs": [
    {
     "name": "stdout",
     "output_type": "stream",
     "text": [
      "63.8 µs ± 6.37 µs per loop (mean ± std. dev. of 7 runs, 100 loops each)\n"
     ]
    }
   ],
   "source": [
    "%%timeit -n 100\n",
    "np.sum(np_arr)"
   ]
  },
  {
   "cell_type": "markdown",
   "id": "a38f3a9a-254a-4d86-a0c3-2dc996cbb06a",
   "metadata": {},
   "source": [
    "# Basic Usage Extended"
   ]
  },
  {
   "cell_type": "markdown",
   "id": "bb55a596-0b3f-4529-be20-fc2b8bf1e18e",
   "metadata": {},
   "source": [
    "## Example 1: Creating random arrays\n",
    "a) Create a 2-dimensional NumPy array with shape (4, 5) containing random integers between 1 and 10.\n",
    "\n",
    "b) Flatten the array created in Exercise 1a to a 1-dimensional array."
   ]
  },
  {
   "cell_type": "code",
   "execution_count": 26,
   "id": "24fda7f7-2724-4287-a947-5bde5999a67c",
   "metadata": {},
   "outputs": [
    {
     "data": {
      "text/plain": [
       "array([[4, 9, 4, 3, 7],\n",
       "       [4, 8, 9, 1, 9],\n",
       "       [1, 6, 7, 7, 3],\n",
       "       [8, 1, 4, 8, 9]])"
      ]
     },
     "execution_count": 26,
     "metadata": {},
     "output_type": "execute_result"
    }
   ],
   "source": [
    "ar = np.random.randint(1,10, (4,5))\n",
    "ar"
   ]
  },
  {
   "cell_type": "code",
   "execution_count": 27,
   "id": "77c9a141-909b-43f4-9f99-e0cad2db38da",
   "metadata": {},
   "outputs": [
    {
     "data": {
      "text/plain": [
       "array([4, 9, 4, 3, 7, 4, 8, 9, 1, 9, 1, 6, 7, 7, 3, 8, 1, 4, 8, 9])"
      ]
     },
     "execution_count": 27,
     "metadata": {},
     "output_type": "execute_result"
    }
   ],
   "source": [
    "#ar.reshape(1,20)\n",
    "ar.reshape(-1) #right method"
   ]
  },
  {
   "cell_type": "code",
   "execution_count": 37,
   "id": "99ccea89",
   "metadata": {},
   "outputs": [
    {
     "data": {
      "text/plain": [
       "(array([0, 0, 1, 1, 1, 2, 2, 2, 3, 3, 3], dtype=int64),\n",
       " array([1, 4, 1, 2, 4, 1, 2, 3, 0, 3, 4], dtype=int64))"
      ]
     },
     "execution_count": 37,
     "metadata": {},
     "output_type": "execute_result"
    }
   ],
   "source": [
    "np.where(ar>5)"
   ]
  },
  {
   "cell_type": "markdown",
   "id": "21c307c0-1994-472f-9628-7d8ca555cee1",
   "metadata": {},
   "source": [
    "## Example 2: Filtering\n",
    "a) Find the indices of all elements in the array created in Exercise 1a that are greater than 5.\n",
    "\n",
    "b) Filter the array created in Exercise 1a to only keep the elements that are divisible by 2"
   ]
  },
  {
   "cell_type": "code",
   "execution_count": 32,
   "id": "c32b9e91-f00a-421d-98f1-e5b0d8f1100a",
   "metadata": {},
   "outputs": [
    {
     "name": "stdout",
     "output_type": "stream",
     "text": [
      "0 1\n",
      "0 4\n",
      "1 1\n",
      "1 2\n",
      "1 4\n",
      "2 1\n",
      "2 2\n",
      "2 3\n",
      "3 0\n",
      "3 3\n",
      "3 4\n"
     ]
    }
   ],
   "source": [
    "ar_g5 = ar > 5\n",
    "\n",
    "lis=[]\n",
    "for row in range(ar.shape[0]):\n",
    "    for col in range(ar.shape[1]):\n",
    "        if ar_g5[row][col] == True:\n",
    "            print(row, col)"
   ]
  },
  {
   "cell_type": "code",
   "execution_count": 35,
   "id": "a3759dfa",
   "metadata": {},
   "outputs": [
    {
     "data": {
      "text/plain": [
       "(array([0, 0, 1, 1, 1, 2, 2, 2, 3, 3, 3], dtype=int64),\n",
       " array([1, 4, 1, 2, 4, 1, 2, 3, 0, 3, 4], dtype=int64))"
      ]
     },
     "execution_count": 35,
     "metadata": {},
     "output_type": "execute_result"
    }
   ],
   "source": [
    "np.where(ar>5)"
   ]
  },
  {
   "cell_type": "code",
   "execution_count": 38,
   "id": "c20b9a27",
   "metadata": {},
   "outputs": [
    {
     "name": "stdout",
     "output_type": "stream",
     "text": [
      "[[4 9 4 3 7]\n",
      " [4 8 9 1 9]\n",
      " [1 6 7 7 3]\n",
      " [8 1 4 8 9]]\n"
     ]
    }
   ],
   "source": [
    "print(ar)"
   ]
  },
  {
   "cell_type": "code",
   "execution_count": 39,
   "id": "e60499be-5aff-4a17-8983-c787b81e6329",
   "metadata": {
    "tags": []
   },
   "outputs": [
    {
     "data": {
      "text/plain": [
       "array([4, 9, 4, 3, 7, 4, 8, 9, 1, 9, 1, 6, 7, 7, 3, 8, 1, 4, 8, 9])"
      ]
     },
     "execution_count": 39,
     "metadata": {},
     "output_type": "execute_result"
    }
   ],
   "source": [
    "#ar[ar > 5]\n",
    "\n",
    "ar[ar > 0]#.reshape(4,5)"
   ]
  },
  {
   "cell_type": "code",
   "execution_count": 40,
   "id": "c47488b1-3349-4277-baca-b911de760961",
   "metadata": {},
   "outputs": [
    {
     "data": {
      "text/plain": [
       "array([9, 3, 7, 9, 1, 9, 1, 7, 7, 3, 1, 9])"
      ]
     },
     "execution_count": 40,
     "metadata": {},
     "output_type": "execute_result"
    }
   ],
   "source": [
    "ar[ar % 2 != 0]"
   ]
  },
  {
   "cell_type": "markdown",
   "id": "2dc3f382-6087-4479-af84-c215e311588b",
   "metadata": {},
   "source": [
    "# dims"
   ]
  },
  {
   "cell_type": "markdown",
   "id": "e1876921-1441-4611-b442-e7786bc28654",
   "metadata": {},
   "source": [
    "In NumPy, the axis parameter is used to specify the axis along which an operation should be performed. It is an important concept in array operations and plays a significant role in determining the dimensions over which functions like sum, mean, maximum, and minimum are applied.\n",
    "\n",
    "The axis parameter accepts an integer or tuple of integers that represent the axes of the array. Here are some key points to understand how axis works:"
   ]
  },
  {
   "cell_type": "markdown",
   "id": "d15cab1f-5b4b-464c-aee9-217a6004a35c",
   "metadata": {},
   "source": [
    "1.    1-D Arrays:\n",
    "        For a 1-dimensional array, the axis parameter has no effect since there is only one dimension.\n",
    "\n",
    "2.    Multi-Dimensional Arrays:\n",
    "        NumPy arrays can have multiple dimensions. For example, a 2-dimensional array has two axes: axis=0 represents the rows, and axis=1 represents the columns.\n",
    "        When performing operations along an axis, the specified axis is \"collapsed\" or \"reduced\" while applying the operation, resulting in a reduced dimensionality.\n",
    "        The axis parameter can take negative values, where -1 represents the last axis, -2 represents the second last axis, and so on.\n",
    "\n",
    "3.    Functions that Utilize the axis Parameter:\n",
    "        Functions like np.sum(), np.mean(), np.max(), np.min(), etc., accept the axis parameter to specify the axis along which the operation is performed.\n",
    "        When axis is not provided, the operation is performed on the entire array, resulting in a scalar value.\n",
    "        When axis is specified, the operation is performed along that axis, resulting in an array with reduced dimensions."
   ]
  },
  {
   "cell_type": "code",
   "execution_count": 9,
   "id": "caf9e72d-9bb9-4869-834c-489342d54ac2",
   "metadata": {},
   "outputs": [
    {
     "name": "stdout",
     "output_type": "stream",
     "text": [
      "[[1 2 3]\n",
      " [4 5 6]] (2, 3)\n"
     ]
    }
   ],
   "source": [
    "arr = np.array([[1, 2, 3],\n",
    "                [4, 5, 6]])\n",
    "\n",
    "print(arr, arr.shape)"
   ]
  },
  {
   "cell_type": "code",
   "execution_count": 4,
   "id": "76d5942b-a00b-4548-b585-c4f28fc19d82",
   "metadata": {},
   "outputs": [
    {
     "name": "stdout",
     "output_type": "stream",
     "text": [
      "[5 7 9] (3,)\n"
     ]
    }
   ],
   "source": [
    "# Sum along axis=0 (rows are collapsed)\n",
    "row_sum = np.sum(arr, axis=0)\n",
    "print(row_sum, row_sum.shape)\n"
   ]
  },
  {
   "cell_type": "code",
   "execution_count": 5,
   "id": "2f0701d7-cc63-4ee7-ad81-bf9b1b2a4b11",
   "metadata": {},
   "outputs": [
    {
     "name": "stdout",
     "output_type": "stream",
     "text": [
      "[ 6 15] (2,)\n"
     ]
    }
   ],
   "source": [
    "# Mean along axis=1 (columns are collapsed)\n",
    "column_sum = np.sum(arr, axis=1)\n",
    "print(column_sum, column_sum.shape)"
   ]
  },
  {
   "cell_type": "code",
   "execution_count": 10,
   "id": "78e84e8b-8a20-4970-921a-d1e2d6e799b5",
   "metadata": {},
   "outputs": [
    {
     "name": "stdout",
     "output_type": "stream",
     "text": [
      "[3 6]\n",
      "(2,)\n"
     ]
    }
   ],
   "source": [
    "# Maximum along columns\n",
    "max_columns = np.max(arr, axis=1)\n",
    "print(max_columns)\n",
    "print(max_columns.shape)"
   ]
  },
  {
   "cell_type": "markdown",
   "id": "ea539113-8d6f-4c82-af11-fee38d9e8f69",
   "metadata": {
    "tags": []
   },
   "source": [
    "## Exercises "
   ]
  },
  {
   "cell_type": "markdown",
   "id": "875d11be-2b10-4da2-baf0-2647a8b122af",
   "metadata": {},
   "source": [
    "### Ex 1\n",
    "Consider the following 2-dimensional NumPy array:\n",
    "\n",
    "a) Calculate the sum of each row of the array using the axis parameter.\n",
    "    \n",
    "b) Calculate the product of each column of the array using the axis parameter.\n",
    "\n",
    "For the following arrays:\n",
    "1. Array 1\n",
    "```python\n",
    "arr = np.array([[[1, 2, 3],\n",
    "                 [4, 5, 6]],\n",
    "                [[7, 8, 9],\n",
    "                 [10, 11, 12]]])\n",
    "```\n",
    "2. Array 2\n",
    "```python\n",
    "ar= list(range(1,28))\n",
    "ar=np.array(ar).reshape(3,3,3)\n",
    "ar.shape\n",
    "```\n"
   ]
  },
  {
   "cell_type": "markdown",
   "id": "6da14ac6-ffaa-495e-86b9-7c7be2add85f",
   "metadata": {},
   "source": [
    "a) Calculate the sum of each 2x3 sub-array along axis=0.\n",
    "\n",
    "b) Calculate the maximum value in each row of the sub-arrays along axis=1.\n",
    "\n",
    "c) Calculate the mean value across all elements of the array."
   ]
  },
  {
   "cell_type": "code",
   "execution_count": 14,
   "id": "193b456b-b5f9-49a1-81b1-bf33ba38d350",
   "metadata": {},
   "outputs": [],
   "source": [
    "arr1 = np.array([[1, 2],\n",
    "                 [3, 4]])\n",
    "arr2 = np.array([[5, 6],\n",
    "                 [7, 8]])\n"
   ]
  },
  {
   "cell_type": "markdown",
   "id": "be074947-af94-4b28-bc6f-3f7a43c02359",
   "metadata": {
    "tags": []
   },
   "source": [
    "# Broadcasting"
   ]
  },
  {
   "cell_type": "markdown",
   "id": "fc2b5aa2-eee6-4577-ab3b-2cbb66612a46",
   "metadata": {},
   "source": [
    "In NumPy, broadcasting refers to the automatic alignment and operation on arrays with different shapes and sizes. It allows you to perform element-wise operations between arrays of different dimensions without explicitly writing loops. Broadcasting follows a set of rules to determine how the shapes of arrays can be matched and the operation can be applied efficiently.\n",
    "\n",
    "The broadcasting rules in NumPy are as follows:\n",
    "\n",
    "    Rule 1: If the arrays have different numbers of dimensions, the shape of the one with fewer dimensions is padded with ones on the left until the dimensions match.\n",
    "\n",
    "    Rule 2: If the shapes of the arrays do not match in any dimension, the array with shape equal to 1 in that dimension is stretched or \"broadcast\" to match the other array's shape.\n",
    "\n",
    "    Rule 3: If in any dimension the sizes disagree and neither is equal to 1, an error is raised, indicating an incompatible shape.\n",
    "\n",
    "By applying these rules, NumPy can perform element-wise operations between arrays of different shapes, making code concise and efficient.\n",
    "\n",
    "Here are a few examples to illustrate broadcasting:"
   ]
  },
  {
   "cell_type": "code",
   "execution_count": 129,
   "id": "6a594cf5-a509-4abc-8328-5b581ed8d8ca",
   "metadata": {},
   "outputs": [
    {
     "name": "stdout",
     "output_type": "stream",
     "text": [
      "[2 4 6]\n"
     ]
    }
   ],
   "source": [
    "arr = np.array([1, 2, 3])\n",
    "scalar = 2\n",
    "result = arr * scalar\n",
    "print(result)\n",
    "# Output: [2 4 6]"
   ]
  },
  {
   "cell_type": "markdown",
   "id": "2bf2fe1c-24b7-4109-ae5a-ca32010a25c7",
   "metadata": {},
   "source": [
    "In this example, the scalar value 2 is broadcasted to match the shape of the 1-D array arr, and element-wise multiplication is performed."
   ]
  },
  {
   "cell_type": "code",
   "execution_count": 133,
   "id": "1c86f392-79d6-401d-83b7-97ca562cbf00",
   "metadata": {},
   "outputs": [
    {
     "name": "stdout",
     "output_type": "stream",
     "text": [
      "(2, 3)\n",
      "(3,)\n",
      "[[2 4 6]\n",
      " [5 7 9]]\n"
     ]
    }
   ],
   "source": [
    "arr1 = np.array([[1, 2, 3],\n",
    "                 [4, 5, 6]])\n",
    "arr2 = np.array([1, 2, 3])\n",
    "result = arr1 + arr2\n",
    "\n",
    "print(arr1.shape)\n",
    "print(arr2.shape)\n",
    "# [[1, 2, 3]\n",
    "# [1, 2, 3]], (2,3)\n",
    "print(result)\n"
   ]
  },
  {
   "cell_type": "markdown",
   "id": "465ccd13-2fdd-4587-ab16-15bbb407e84c",
   "metadata": {},
   "source": [
    "In this example, the 1-D array arr2 is broadcasted to match the shape of the 2-D array arr1, and element-wise addition is performed."
   ]
  },
  {
   "cell_type": "markdown",
   "id": "8340fbfa-0552-4d05-9e6a-d6d32583fc61",
   "metadata": {
    "tags": []
   },
   "source": [
    "## Exercises "
   ]
  },
  {
   "cell_type": "markdown",
   "id": "1bcf8c64-8a2b-4454-b929-7def1aa2240a",
   "metadata": {},
   "source": [
    "a) Add arr1 and arr2 using broadcasting.\n",
    "\n",
    "b) Multiply arr1 and arr2 using broadcasting."
   ]
  },
  {
   "cell_type": "code",
   "execution_count": 142,
   "id": "419d7ca1-fdc0-4a80-bc84-442af14157ec",
   "metadata": {},
   "outputs": [
    {
     "name": "stdout",
     "output_type": "stream",
     "text": [
      "[[5 6 7]\n",
      " [6 7 8]\n",
      " [7 8 9]]\n"
     ]
    }
   ],
   "source": [
    "arr1 = np.array([1, 2, 3]) #(1,3)\n",
    "arr2 = np.array([[4], #(3,1)\n",
    "                 [5],\n",
    "                 [6]])\n",
    "\n"
   ]
  },
  {
   "cell_type": "markdown",
   "id": "9829af40-eb96-4014-8cbd-5da0d84c410c",
   "metadata": {},
   "source": [
    "# Expand dims"
   ]
  },
  {
   "cell_type": "markdown",
   "id": "bb35ba31-9a89-44cb-b020-cb4b9799fa0c",
   "metadata": {},
   "source": [
    "NumPy's expand_dims function is used to increase the dimensions of an array by inserting a new axis at a specified position. It is particularly useful when you want to reshape or manipulate arrays to match the desired shape or broadcasting requirements. The expanded axis will have a size of 1, and it allows for easier compatibility with other arrays during mathematical operations.\n",
    "\n",
    "The expand_dims function takes two parameters: a (the input array) and axis (the position where the new axis should be inserted). Here's the syntax:\n",
    "\n",
    "`numpy.expand_dims(a, axis)`\n",
    "\n",
    "The a parameter represents the input array that you want to expand, and the axis parameter specifies the position along which the new axis should be inserted. The axis value can be a positive integer or a negative integer to index from the end of the array.\n",
    "\n",
    "Here are a few examples to illustrate the usage of expand_dims:"
   ]
  },
  {
   "cell_type": "code",
   "execution_count": 2,
   "id": "f1bd6809",
   "metadata": {},
   "outputs": [
    {
     "name": "stdout",
     "output_type": "stream",
     "text": [
      "[1 2 3] (3,)\n"
     ]
    }
   ],
   "source": [
    "ar=np.array([1,2,3])\n",
    "print(ar, ar.shape)"
   ]
  },
  {
   "cell_type": "code",
   "execution_count": 3,
   "id": "e3fe46cd",
   "metadata": {},
   "outputs": [
    {
     "data": {
      "text/plain": [
       "array([[1, 2, 3]])"
      ]
     },
     "execution_count": 3,
     "metadata": {},
     "output_type": "execute_result"
    }
   ],
   "source": [
    "np.expand_dims(ar, )"
   ]
  },
  {
   "cell_type": "code",
   "execution_count": 40,
   "id": "b7d3f263-88d1-4e67-a0a1-e58fe984acb4",
   "metadata": {},
   "outputs": [
    {
     "name": "stdout",
     "output_type": "stream",
     "text": [
      "[[1 2 3]] (1, 3)\n"
     ]
    }
   ],
   "source": [
    "ar=np.array([[1,2,3]])\n",
    "print(ar, ar.shape)"
   ]
  },
  {
   "cell_type": "code",
   "execution_count": 42,
   "id": "6b98a68c-922a-4dbd-b470-124f0944a969",
   "metadata": {},
   "outputs": [
    {
     "data": {
      "text/plain": [
       "array([[[1, 2, 3]]])"
      ]
     },
     "execution_count": 42,
     "metadata": {},
     "output_type": "execute_result"
    }
   ],
   "source": [
    "np.expand_dims(ar, 1)"
   ]
  },
  {
   "cell_type": "code",
   "execution_count": 43,
   "id": "d5b10517-1cd9-45d5-a03e-73ccf65d99df",
   "metadata": {},
   "outputs": [
    {
     "name": "stdout",
     "output_type": "stream",
     "text": [
      "(5, 1)\n"
     ]
    }
   ],
   "source": [
    "arr = np.array([1, 2, 3, 4, 5]) # (5)\n",
    "expanded_arr = np.expand_dims(arr, axis=1)\n",
    "print(expanded_arr.shape)  # Output: (5, 1)"
   ]
  },
  {
   "cell_type": "markdown",
   "id": "078d5cf8-7356-4cd6-a39b-9aa8cb7d68b8",
   "metadata": {},
   "source": [
    "In this example, the expand_dims function is used to add a new axis to the 1-D array arr, resulting in a 2-D array with shape (5, 1)."
   ]
  },
  {
   "cell_type": "code",
   "execution_count": 46,
   "id": "e3725198-a11e-4f94-af95-2bed440616df",
   "metadata": {},
   "outputs": [
    {
     "name": "stdout",
     "output_type": "stream",
     "text": [
      "(2, 1, 2)\n"
     ]
    },
    {
     "data": {
      "text/plain": [
       "array([[1, 2],\n",
       "       [3, 4]])"
      ]
     },
     "execution_count": 46,
     "metadata": {},
     "output_type": "execute_result"
    }
   ],
   "source": [
    "arr = np.array([[1, 2], # 2,2\n",
    "                [3, 4]])\n",
    "expanded_arr = np.expand_dims(arr, axis=1)\n",
    "print(expanded_arr.shape)  # ,2,1,2\n",
    "expanded_arr[:,0,:]"
   ]
  },
  {
   "cell_type": "markdown",
   "id": "553946be-6991-4416-873e-1f110f256f0b",
   "metadata": {
    "tags": []
   },
   "source": [
    "## Exercises "
   ]
  },
  {
   "cell_type": "markdown",
   "id": "f3eb0ed3-a781-4f20-885d-3e2550cd8300",
   "metadata": {},
   "source": [
    "### Ex 1\n",
    "a) Use expand_dims to convert arr into a 2-D array with shape (4, 1).\n",
    "\n",
    "b) Use expand_dims to convert arr into a 2-D array with shape (4, 1, 1)."
   ]
  },
  {
   "cell_type": "code",
   "execution_count": 27,
   "id": "6ffd8496-43e3-47bc-b513-c06984d75b03",
   "metadata": {},
   "outputs": [
    {
     "data": {
      "text/plain": [
       "array([1, 2, 3, 4])"
      ]
     },
     "execution_count": 27,
     "metadata": {},
     "output_type": "execute_result"
    }
   ],
   "source": [
    "arr = np.array([1, 2, 3, 4])\n",
    "arr"
   ]
  },
  {
   "cell_type": "code",
   "execution_count": 28,
   "id": "24359b46",
   "metadata": {},
   "outputs": [
    {
     "data": {
      "text/plain": [
       "(4, 1)"
      ]
     },
     "execution_count": 28,
     "metadata": {},
     "output_type": "execute_result"
    }
   ],
   "source": [
    "# a) Use expand_dims to convert arr into a 2-D array with shape (4, 1).\n",
    "\n",
    "d2 = np.expand_dims(arr, 1)\n",
    "d2.shape"
   ]
  },
  {
   "cell_type": "code",
   "execution_count": 29,
   "id": "cbe39241",
   "metadata": {},
   "outputs": [
    {
     "data": {
      "text/plain": [
       "(4, 1, 1)"
      ]
     },
     "execution_count": 29,
     "metadata": {},
     "output_type": "execute_result"
    }
   ],
   "source": [
    "# b) Use expand_dims to convert arr into a 2-D array with shape (4, 1, 1).\n",
    "\n",
    "d3 = np.expand_dims(arr, (1,2))\n",
    "d3.shape"
   ]
  },
  {
   "cell_type": "markdown",
   "id": "20f4ab23-a7b7-4803-bb5c-93e66b748356",
   "metadata": {},
   "source": [
    "### Ex 2\n",
    "a) Use expand_dims to convert arr into a 3-D array with shape (2, 3, 1).\n",
    "\n",
    "b) Use expand_dims to convert arr into a 4-D array with shape (2, 1, 3, 1)."
   ]
  },
  {
   "cell_type": "code",
   "execution_count": 58,
   "id": "6a9ba78a",
   "metadata": {},
   "outputs": [
    {
     "data": {
      "text/plain": [
       "(2, 3, 1)"
      ]
     },
     "execution_count": 58,
     "metadata": {},
     "output_type": "execute_result"
    }
   ],
   "source": [
    "# a) Use expand_dims to convert arr into a 3-D array with shape (2, 3, 1).\n",
    "\n",
    "ar = np.array([[2, 3, 8],\n",
    "               [4, 5, 9]])\n",
    "\n",
    "exp = np.expand_dims(ar, 2)\n",
    "#print(exp)\n",
    "exp.shape"
   ]
  },
  {
   "cell_type": "code",
   "execution_count": 63,
   "id": "cb5ff064",
   "metadata": {},
   "outputs": [
    {
     "data": {
      "text/plain": [
       "(2, 1, 3, 1)"
      ]
     },
     "execution_count": 63,
     "metadata": {},
     "output_type": "execute_result"
    }
   ],
   "source": [
    "# b) Use expand_dims to convert arr into a 4-D array with shape (2, 1, 3, 1).\n",
    "\n",
    "ar1 = np.array(range(1,7)).reshape(2,3)\n",
    "exp1 = np.expand_dims(ar, (1,3))\n",
    "#print(exp1)\n",
    "exp1.shape"
   ]
  },
  {
   "cell_type": "markdown",
   "id": "e17c9d68-5281-434c-8cc7-15eb3b5027d8",
   "metadata": {},
   "source": [
    "# hstack, vstack and concat"
   ]
  },
  {
   "cell_type": "markdown",
   "id": "e04ebfed-1585-4755-ac8b-00594fa0774e",
   "metadata": {},
   "source": [
    "In NumPy, vstack, hstack, and concatenate are functions used for combining or concatenating arrays along different axes. They provide flexibility when it comes to joining arrays of different shapes or sizes. Here's an explanation of each function:"
   ]
  },
  {
   "cell_type": "markdown",
   "id": "fb9f027f-bac9-4327-9f3d-b8ef87b51983",
   "metadata": {},
   "source": [
    "## vstack\n",
    "np.vstack: The vstack function is used to vertically stack or concatenate arrays. It takes a sequence of arrays as input and returns a single array with an increased number of rows. The arrays must have the same number of columns (dimension along the horizontal axis). For example:"
   ]
  },
  {
   "cell_type": "code",
   "execution_count": 69,
   "id": "a04b963d-1f03-41b8-a30d-2d01d096ae97",
   "metadata": {},
   "outputs": [
    {
     "name": "stdout",
     "output_type": "stream",
     "text": [
      "[[1 2 3]\n",
      " [4 5 6]]\n"
     ]
    },
    {
     "data": {
      "text/plain": [
       "array([1, 2, 3, 4, 5, 6])"
      ]
     },
     "execution_count": 69,
     "metadata": {},
     "output_type": "execute_result"
    }
   ],
   "source": [
    "arr1 = np.array([1, 2, 3])\n",
    "arr2 = np.array([4, 5, 6])\n",
    "\n",
    "result = np.vstack((arr1, arr2))\n",
    "print(result) #(2,3)\n",
    "np.concatenate((arr1, arr2), axis=0) #(1,6)"
   ]
  },
  {
   "cell_type": "code",
   "execution_count": null,
   "id": "542ed695-6f77-44ae-b883-1a5f8aef5fa9",
   "metadata": {},
   "outputs": [],
   "source": [
    "# Output:\n",
    "# [[1 2 3]\n",
    "#  [4 5 6]]"
   ]
  },
  {
   "cell_type": "markdown",
   "id": "6609d03f-df80-4a9c-b5ed-53bb621b24a9",
   "metadata": {},
   "source": [
    "## hstack\n",
    "np.hstack: The hstack function is used to horizontally stack or concatenate arrays. It takes a sequence of arrays as input and returns a single array with an increased number of columns. The arrays must have the same number of rows (dimension along the vertical axis). For example:"
   ]
  },
  {
   "cell_type": "code",
   "execution_count": 70,
   "id": "4a59691b-a767-471c-b7ed-a838c930cd71",
   "metadata": {},
   "outputs": [
    {
     "name": "stdout",
     "output_type": "stream",
     "text": [
      "[1 2 3 4 5 6]\n"
     ]
    },
    {
     "data": {
      "text/plain": [
       "array([1, 2, 3, 4, 5, 6])"
      ]
     },
     "execution_count": 70,
     "metadata": {},
     "output_type": "execute_result"
    }
   ],
   "source": [
    "\n",
    "arr1 = np.array([1, 2, 3])\n",
    "arr2 = np.array([4, 5, 6])\n",
    "\n",
    "result = np.hstack((arr1, arr2))\n",
    "print(result)\n",
    "# Output: [1 2 3 4 5 6]\n",
    "np.concatenate((arr1, arr2), axis=0)"
   ]
  },
  {
   "cell_type": "markdown",
   "id": "d6390d2e-35b3-4eba-a687-13b3ab2a8ba8",
   "metadata": {},
   "source": [
    "## concatenate\n",
    "np.concatenate: The concatenate function is a more general function that can concatenate arrays along any axis. It takes a sequence of arrays as input and allows you to specify the axis along which the concatenation should occur using the axis parameter. If no axis parameter is provided, the arrays are flattened and concatenated into a 1-D array. For example:"
   ]
  },
  {
   "cell_type": "code",
   "execution_count": 73,
   "id": "aa7324b4-3c81-45a0-8ff2-e9bf038e5388",
   "metadata": {},
   "outputs": [
    {
     "data": {
      "text/plain": [
       "array([[1, 2, 3, 4, 5, 6]])"
      ]
     },
     "execution_count": 73,
     "metadata": {},
     "output_type": "execute_result"
    }
   ],
   "source": [
    "arr1 = np.array([[1, 2, 3]])\n",
    "arr2 = np.array([[4, 5, 6]])\n",
    "np.concatenate((arr1, arr2), axis=1)"
   ]
  },
  {
   "cell_type": "code",
   "execution_count": 76,
   "id": "caf5c6f6-037b-4058-b89c-4dfd1c927591",
   "metadata": {},
   "outputs": [
    {
     "name": "stdout",
     "output_type": "stream",
     "text": [
      "[[1 2 5 6]\n",
      " [3 4 7 8]]\n"
     ]
    },
    {
     "data": {
      "text/plain": [
       "(2, 4)"
      ]
     },
     "execution_count": 76,
     "metadata": {},
     "output_type": "execute_result"
    }
   ],
   "source": [
    "arr1 = np.array([[1, 2], #(2,2)\n",
    "                 [3, 4]])\n",
    "arr2 = np.array([[5, 6], # (2,2)\n",
    "                 [7, 8]])\n",
    "\n",
    "result = np.concatenate((arr1, arr2), axis=1) # (2,4)\n",
    "print(result)\n",
    "result.shape\n",
    "\n",
    "# Output: # (4,2) \n",
    "# [[1 2]\n",
    "#  [3 4]\n",
    "#  [5 6]\n",
    "#  [7 8]]"
   ]
  },
  {
   "cell_type": "markdown",
   "id": "11bbe316-cae9-49fa-9539-06cf1cdb32e1",
   "metadata": {},
   "source": [
    "It's worth noting that vstack, hstack, and concatenate can handle arrays of different shapes as long as the non-concatenated axes are compatible. If the shapes of the arrays are not compatible, you may encounter a ValueError indicating an incompatible shape."
   ]
  },
  {
   "cell_type": "markdown",
   "id": "7cd68890-3236-494e-9558-dbe3153b3c39",
   "metadata": {
    "tags": []
   },
   "source": [
    "## Exercises "
   ]
  },
  {
   "cell_type": "code",
   "execution_count": 82,
   "id": "b11565c4-df23-4ff7-88e1-c200432bfdc2",
   "metadata": {},
   "outputs": [],
   "source": [
    "arr1 = np.array([[1, 2, 3],\n",
    "                 [4, 5, 6]]) #(2,3)\n",
    "arr2 = np.array([[7, 8, 9], # (2,3)\n",
    "                 [10, 11, 12]])\n",
    "arr3 = np.array([[13, 14], #(2,2)\n",
    "                 [15, 16]])"
   ]
  },
  {
   "cell_type": "markdown",
   "id": "c4840f92-856a-455b-862a-c0302bd928b1",
   "metadata": {},
   "source": [
    "- Use vstack to vertically stack arr1 and arr2, and assign the result to a new variable vstack_result.\n",
    "\n",
    "- Use hstack to horizontally stack arr1 and arr2, and assign the result to a new variable hstack_result.\n",
    "\n",
    "- Use concatenate to concatenate arr1 and arr3 along the horizontal axis (axis=1), and assign the result to a new variable concat_result.\n",
    "\n",
    "- Print the vstack_result, hstack_result, and concat_result to verify the results."
   ]
  },
  {
   "cell_type": "code",
   "execution_count": 83,
   "id": "4f0cc7ed-1669-4abd-a1c6-a1d77c348b87",
   "metadata": {},
   "outputs": [
    {
     "name": "stdout",
     "output_type": "stream",
     "text": [
      "[[ 1  2  3]\n",
      " [ 4  5  6]\n",
      " [ 7  8  9]\n",
      " [10 11 12]]\n"
     ]
    },
    {
     "data": {
      "text/plain": [
       "(4, 3)"
      ]
     },
     "execution_count": 83,
     "metadata": {},
     "output_type": "execute_result"
    }
   ],
   "source": [
    "# Use vstack to vertically stack arr1 and arr2, and assign the result to a new variable vstack_result.\n",
    "\n",
    "vstack_result = np.vstack((arr1 ,arr2)) # (4,3)\n",
    "\n",
    "print(vstack_result)\n",
    "vstack_result.shape"
   ]
  },
  {
   "cell_type": "code",
   "execution_count": 85,
   "id": "e01a59b5",
   "metadata": {},
   "outputs": [
    {
     "name": "stdout",
     "output_type": "stream",
     "text": [
      "[[ 1  2  3  7  8  9]\n",
      " [ 4  5  6 10 11 12]]\n"
     ]
    },
    {
     "data": {
      "text/plain": [
       "(2, 6)"
      ]
     },
     "execution_count": 85,
     "metadata": {},
     "output_type": "execute_result"
    }
   ],
   "source": [
    "# Use hstack to horizontally stack arr1 and arr2, and assign the result to a new variable hstack_result.\n",
    "\n",
    "hstack_result = np.hstack((arr1 ,arr2)) # (2,6)\n",
    "\n",
    "print(hstack_result)\n",
    "hstack_result.shape"
   ]
  },
  {
   "cell_type": "code",
   "execution_count": 87,
   "id": "1b86b564",
   "metadata": {},
   "outputs": [
    {
     "name": "stdout",
     "output_type": "stream",
     "text": [
      "[[ 1  2  3  7  8  9]\n",
      " [ 4  5  6 10 11 12]]\n"
     ]
    },
    {
     "data": {
      "text/plain": [
       "(2, 6)"
      ]
     },
     "execution_count": 87,
     "metadata": {},
     "output_type": "execute_result"
    }
   ],
   "source": [
    "# Use concatenate to concatenate arr1 and arr3 along the horizontal axis (axis=1), and assign the result to a new variable concat_result.\n",
    "\n",
    "concat_result = np.concatenate((arr1, arr2), axis=1)\n",
    "print(concat_result)\n",
    "concat_result.shape"
   ]
  },
  {
   "cell_type": "code",
   "execution_count": 94,
   "id": "69db76b6",
   "metadata": {},
   "outputs": [
    {
     "name": "stdout",
     "output_type": "stream",
     "text": [
      " Stack: \n",
      " [[ 1  2  3]\n",
      " [ 4  5  6]\n",
      " [ 7  8  9]\n",
      " [10 11 12]] \n",
      " Shape: (4, 3) \n",
      "\n",
      " Stack: \n",
      " [[ 1  2  3  7  8  9]\n",
      " [ 4  5  6 10 11 12]] \n",
      " Shape: (2, 6)\n",
      "\n",
      " Stack: \n",
      " [[ 1  2  3  7  8  9]\n",
      " [ 4  5  6 10 11 12]] \n",
      " Shape: (2, 6)\n"
     ]
    }
   ],
   "source": [
    "# Print the vstack_result, hstack_result, and concat_result to verify the results.\n",
    "\n",
    "print(f' Stack: \\n {vstack_result} \\n Shape: {vstack_result.shape} \\n')\n",
    "print(f' Stack: \\n {hstack_result} \\n Shape: {hstack_result.shape}\\n')\n",
    "print(f' Stack: \\n {concat_result} \\n Shape: {concat_result.shape}')"
   ]
  },
  {
   "cell_type": "code",
   "execution_count": 80,
   "id": "63f9d5b1-5871-4560-b6e4-c0aa899fdae8",
   "metadata": {},
   "outputs": [
    {
     "name": "stdout",
     "output_type": "stream",
     "text": [
      "(2, 2, 3)\n"
     ]
    }
   ],
   "source": [
    "arr1 = np.array([[[1, 2, 3],\n",
    "                  [4, 5, 6]], # (2,2,3)\n",
    "                 \n",
    "                 [[7, 8, 9],\n",
    "                  [10, 11, 12]]])\n",
    "\n",
    "arr2 = np.array([[[13, 14, 15], # (2,2,3)\n",
    "                  [16, 17, 18]],\n",
    "                 \n",
    "                 [[19, 20, 21],\n",
    "                  [22, 23, 24]]])\n",
    "\n",
    "print(arr1.shape)\n"
   ]
  },
  {
   "cell_type": "code",
   "execution_count": 221,
   "id": "70f51f0d-fab6-4a25-af55-29f57cb63a94",
   "metadata": {},
   "outputs": [
    {
     "name": "stdout",
     "output_type": "stream",
     "text": [
      "(2, 2, 2, 2)\n"
     ]
    }
   ],
   "source": [
    "arr1 = np.array([[[[1, 2],\n",
    "                   [3, 4]],\n",
    "                  \n",
    "                  [[5, 6],\n",
    "                   [7, 8]]],\n",
    "\n",
    "                 [[[9, 10],\n",
    "                   [11, 12]],\n",
    "                  \n",
    "                  [[13, 14],\n",
    "                   [15, 16]]]])\n",
    "\n",
    "arr2 = np.array([[[[17, 18],\n",
    "                   [19, 20]],\n",
    "                  \n",
    "                  [[21, 22],\n",
    "                   [23, 24]]],\n",
    "\n",
    "                 [[[25, 26],\n",
    "                   [27, 28]],\n",
    "                  \n",
    "                  [[29, 30],\n",
    "                   [31, 32]]]])\n",
    "\n",
    "print(arr1.shape)"
   ]
  },
  {
   "cell_type": "code",
   "execution_count": 225,
   "id": "2f1417c0-286d-477e-8bb3-c10626414ec3",
   "metadata": {},
   "outputs": [
    {
     "data": {
      "text/plain": [
       "(2, 2, 2, 4)"
      ]
     },
     "execution_count": 225,
     "metadata": {},
     "output_type": "execute_result"
    }
   ],
   "source": []
  },
  {
   "cell_type": "markdown",
   "id": "6a89d9f0-93e3-42de-9255-22fe1d772f23",
   "metadata": {},
   "source": [
    "# reordering dims"
   ]
  },
  {
   "cell_type": "markdown",
   "id": "e97b77fe-bfb1-4289-b3d8-5e874783cd5f",
   "metadata": {},
   "source": [
    "In NumPy, you can use the transpose function to reorder or swap the dimensions of an array. These functions allow you to manipulate the shape of the array according to your requirements. "
   ]
  },
  {
   "cell_type": "markdown",
   "id": "b8aa4df0-4ef4-4093-8081-9148f25cc476",
   "metadata": {},
   "source": [
    "np.transpose: The transpose function is used to permute the dimensions of an array. It takes a tuple of axes as input and returns a view of the array with the axes permuted. The order of the axes in the tuple determines the order of the dimensions in the output array. For example:"
   ]
  },
  {
   "cell_type": "code",
   "execution_count": 228,
   "id": "8cdcb70b-2370-4de3-b7a6-0275356f9b1d",
   "metadata": {},
   "outputs": [
    {
     "name": "stdout",
     "output_type": "stream",
     "text": [
      "(2, 3)\n"
     ]
    },
    {
     "data": {
      "text/plain": [
       "(3, 2)"
      ]
     },
     "execution_count": 228,
     "metadata": {},
     "output_type": "execute_result"
    }
   ],
   "source": [
    "arr = np.zeros((2,3))\n",
    "print(arr.shape)\n",
    "np.transpose(arr).shape"
   ]
  },
  {
   "cell_type": "code",
   "execution_count": null,
   "id": "4995689f-32a5-42f5-ad3d-98768f4073b8",
   "metadata": {},
   "outputs": [],
   "source": []
  },
  {
   "cell_type": "code",
   "execution_count": 229,
   "id": "1aa87839-d720-4d29-bb3f-cdbcf7c7ca00",
   "metadata": {},
   "outputs": [
    {
     "data": {
      "text/plain": [
       "array([[1],\n",
       "       [2],\n",
       "       [3]])"
      ]
     },
     "execution_count": 229,
     "metadata": {},
     "output_type": "execute_result"
    }
   ],
   "source": [
    "arr=np.array([[1,2,3]]) # (1,3) \n",
    "np.transpose(arr, (1,0)) # (3,1)"
   ]
  },
  {
   "cell_type": "code",
   "execution_count": 26,
   "id": "6441d6ad-e80e-49c7-8960-b4ddc5b0fbbd",
   "metadata": {},
   "outputs": [
    {
     "name": "stdout",
     "output_type": "stream",
     "text": [
      "[[1 4]\n",
      " [2 5]\n",
      " [3 6]]\n"
     ]
    }
   ],
   "source": [
    "arr = np.array([[1, 2, 3],\n",
    "                [4, 5, 6]])\n",
    "transposed_arr = np.transpose(arr, (1, 0))\n",
    "print(transposed_arr)\n",
    "# Output:\n",
    "# [[1 4]\n",
    "#  [2 5]\n",
    "#  [3 6]]\n"
   ]
  },
  {
   "cell_type": "markdown",
   "id": "1fb45fba-40da-4f1b-9f78-d4d7d2f8d2b3",
   "metadata": {
    "tags": []
   },
   "source": [
    "## Exercises "
   ]
  },
  {
   "cell_type": "code",
   "execution_count": 231,
   "id": "5eb4e26e-a672-40fd-84a2-c4ffa148616f",
   "metadata": {},
   "outputs": [
    {
     "data": {
      "text/plain": [
       "array([[[1, 2],\n",
       "        [5, 6]],\n",
       "\n",
       "       [[3, 4],\n",
       "        [7, 8]]])"
      ]
     },
     "execution_count": 231,
     "metadata": {},
     "output_type": "execute_result"
    }
   ],
   "source": [
    "arr = np.array([[[1, 2],\n",
    "                 [3, 4]], # (2, 2,2)\n",
    "                [[5, 6],\n",
    "                 [7, 8]]])\n",
    "\n",
    "arr.shape\n"
   ]
  },
  {
   "cell_type": "markdown",
   "id": "6e70313f-24bd-4c28-a306-858b2d016079",
   "metadata": {},
   "source": [
    "## Ex 1\n",
    "Use transpose to reorder the dimensions of arr such that the second dimension becomes the first dimension, and the first dimension becomes the second dimension. Assign the result to a new variable reordered_arr."
   ]
  },
  {
   "cell_type": "code",
   "execution_count": 234,
   "id": "3889448e-44ad-453a-984e-90e39e676f54",
   "metadata": {},
   "outputs": [
    {
     "data": {
      "text/plain": [
       "(5, 2, 4, 3)"
      ]
     },
     "execution_count": 234,
     "metadata": {},
     "output_type": "execute_result"
    }
   ],
   "source": [
    "arr = np.zeros((2,3,4,5))\n",
    "\n",
    "arr.shape\n"
   ]
  },
  {
   "cell_type": "markdown",
   "id": "b8dae878-8731-4027-94d7-96f666d6c8c3",
   "metadata": {},
   "source": [
    "## Ex 2\n",
    "Use transpose  to reorder the dimensions of arr such that the second dimension becomes the first dimension, and the first dimension becomes the second dimension. Assign the result to a new variable reordered_arr."
   ]
  },
  {
   "cell_type": "code",
   "execution_count": null,
   "id": "41d11075-a6c3-417d-a8b4-99fb29f6ed44",
   "metadata": {},
   "outputs": [],
   "source": []
  },
  {
   "cell_type": "markdown",
   "id": "83ae9d76-79fe-4103-b5fd-b66ac9ca72f9",
   "metadata": {},
   "source": [
    "# File Reading"
   ]
  },
  {
   "cell_type": "code",
   "execution_count": 73,
   "id": "8b78f847-8a26-462b-8709-1559ad582da8",
   "metadata": {},
   "outputs": [],
   "source": [
    "with open('test.npy', 'wb') as f:\n",
    "    np.save(f, np.array([1, 2]))\n",
    "    np.save(f, np.array([1, 3]))\n"
   ]
  },
  {
   "cell_type": "code",
   "execution_count": 75,
   "id": "c3529468-c75b-477c-b738-d700f6310787",
   "metadata": {},
   "outputs": [
    {
     "name": "stdout",
     "output_type": "stream",
     "text": [
      "[1 2]\n"
     ]
    }
   ],
   "source": [
    "with open('test.npy', 'rb') as f:\n",
    "    a = np.load(f)\n",
    "    b = np.load(f)\n",
    "    \n",
    "print(a)"
   ]
  },
  {
   "cell_type": "markdown",
   "id": "6cc04fd2-3f49-4792-931e-3efb651b84b8",
   "metadata": {},
   "source": [
    "# Tasks\n",
    "Each task has a `.npy` dataset"
   ]
  },
  {
   "cell_type": "markdown",
   "id": "874b804c-f8ec-4863-9cee-4d5751aaef17",
   "metadata": {},
   "source": [
    "## Task 1\n",
    "Suppose you have a 2D array with different households' incomes and family sizes. Using NumPy, can you calculate the average tax paid per person for each household type.\n",
    "\n",
    "Each dimension corresponds to:\n",
    "- First dimension: Number of members in household\n",
    "- Second dimension: Total tax for the househould\n",
    "\n",
    "Do the following:\n",
    "- View the number of members and total tax for the last household\n",
    "- Identify the household with the most tax\n",
    "- Identify the household with the least tax per person\n",
    "- Calculate the total tax paid by all households"
   ]
  },
  {
   "cell_type": "code",
   "execution_count": 37,
   "id": "9a8f5a2a",
   "metadata": {},
   "outputs": [
    {
     "name": "stdout",
     "output_type": "stream",
     "text": [
      "Shape:  (10, 2)\n",
      "Dim:    2\n"
     ]
    }
   ],
   "source": [
    "with open('taxable_data_2d_task1.npy', 'rb') as f:\n",
    "    a = np.load(f)\n",
    "print(\"Shape: \", a.shape)\n",
    "print(\"Dim:   \", a.ndim)"
   ]
  },
  {
   "cell_type": "code",
   "execution_count": 32,
   "id": "0fa326b6",
   "metadata": {},
   "outputs": [
    {
     "data": {
      "text/plain": [
       "array([    2, 77254], dtype=int64)"
      ]
     },
     "execution_count": 32,
     "metadata": {},
     "output_type": "execute_result"
    }
   ],
   "source": [
    "# a: Number of members and total tax for the last household\n",
    "a[-1]"
   ]
  },
  {
   "cell_type": "code",
   "execution_count": 44,
   "id": "27567a3c",
   "metadata": {},
   "outputs": [
    {
     "data": {
      "text/plain": [
       "array([    1, 98723], dtype=int64)"
      ]
     },
     "execution_count": 44,
     "metadata": {},
     "output_type": "execute_result"
    }
   ],
   "source": [
    "# b: Identify the household with the most tax\n",
    "m = np.argmax(a[:,1])\n",
    "a[m]"
   ]
  },
  {
   "cell_type": "code",
   "execution_count": 50,
   "id": "4c60725b",
   "metadata": {},
   "outputs": [
    {
     "data": {
      "text/plain": [
       "array([    1, 98723], dtype=int64)"
      ]
     },
     "execution_count": 50,
     "metadata": {},
     "output_type": "execute_result"
    }
   ],
   "source": [
    "# another method\n",
    "m = np.argmax(a, axis=0)[1]\n",
    "a[m]"
   ]
  },
  {
   "cell_type": "code",
   "execution_count": 36,
   "id": "cb86dfd5",
   "metadata": {},
   "outputs": [
    {
     "data": {
      "text/plain": [
       "array([    4, 55906], dtype=int64)"
      ]
     },
     "execution_count": 36,
     "metadata": {},
     "output_type": "execute_result"
    }
   ],
   "source": [
    "# c: Identify the household with the least tax per person\n",
    "l = a[:,1]/a[:,0]\n",
    "z = np.argmin(l)\n",
    "a[z]"
   ]
  },
  {
   "cell_type": "code",
   "execution_count": 38,
   "id": "6345ee2b",
   "metadata": {},
   "outputs": [
    {
     "data": {
      "text/plain": [
       "681261"
      ]
     },
     "execution_count": 38,
     "metadata": {},
     "output_type": "execute_result"
    }
   ],
   "source": [
    "# d: Calculate the total tax paid by all households\n",
    "tax = np.sum(a[:,1])\n",
    "tax"
   ]
  },
  {
   "cell_type": "markdown",
   "id": "de99eaf5-43da-4788-a6c0-a4aed092b14b",
   "metadata": {
    "tags": []
   },
   "source": [
    "## Task 2\n",
    "Imagine you have a 3D array with different scenarios for income, deductions, and exemptions for multiple individuals. Can you use NumPy to compare the total tax liability across scenarios and individuals?\n",
    "\n",
    "Each dimension corresponds to specific aspects of the data:\n",
    "- Tax Years\n",
    "- Individuals\n",
    "- Financial data (3 types of data: income, deductions and exemptions)\n",
    "\n",
    "Do the following:\n",
    "- For the first individual, view the income throughout the years\n",
    "- For the last individual, view their average exemptions\n",
    "- For each individual, view their average income, deductions and exemptions"
   ]
  },
  {
   "cell_type": "code",
   "execution_count": 52,
   "id": "f955772e",
   "metadata": {},
   "outputs": [
    {
     "name": "stdout",
     "output_type": "stream",
     "text": [
      "Shape:  (5, 20, 3)\n",
      "Dim:    3\n"
     ]
    }
   ],
   "source": [
    "with open('taxable_data_3d_task2.npy', 'rb') as f:\n",
    "    a = np.load(f)\n",
    "print(\"Shape: \", a.shape)\n",
    "print(\"Dim:   \", a.ndim)"
   ]
  },
  {
   "cell_type": "code",
   "execution_count": 53,
   "id": "4437144c",
   "metadata": {},
   "outputs": [
    {
     "data": {
      "text/plain": [
       "array([39215, 75746, 62578, 30135, 56652], dtype=int64)"
      ]
     },
     "execution_count": 53,
     "metadata": {},
     "output_type": "execute_result"
    }
   ],
   "source": [
    "# a: For the first individual, view the income throughout the years\n",
    "\n",
    "a[:,0,0]"
   ]
  },
  {
   "cell_type": "code",
   "execution_count": 55,
   "id": "a12d91e1",
   "metadata": {},
   "outputs": [
    {
     "data": {
      "text/plain": [
       "2924.8"
      ]
     },
     "execution_count": 55,
     "metadata": {},
     "output_type": "execute_result"
    }
   ],
   "source": [
    "# For the last individual, view their average exemptions\n",
    "\n",
    "z = np.mean(a[:,-1,-1])\n",
    "z"
   ]
  },
  {
   "cell_type": "code",
   "execution_count": 81,
   "id": "f3988c32",
   "metadata": {},
   "outputs": [
    {
     "data": {
      "text/plain": [
       "array([[52865.2,  5293. ,  3185.4],\n",
       "       [53443. ,  5418. ,  2935.6],\n",
       "       [60511.8,  5434.2,  2823.4],\n",
       "       [61456. ,  3775.4,  1560.8],\n",
       "       [62886.4,  4926.8,  2091.8],\n",
       "       [64312.6,  5086. ,  2109.6],\n",
       "       [57545.8,  5056.4,  2083.8],\n",
       "       [52078.2,  5819. ,  3044. ],\n",
       "       [59903. ,  6057.4,  1967.2],\n",
       "       [73085.6,  4967. ,  2462.2],\n",
       "       [55843.8,  5681.8,  2464.2],\n",
       "       [62954.6,  4705.2,  2252.4],\n",
       "       [60556.6,  5211.4,  2649.6],\n",
       "       [70738.2,  4536. ,  2880.2],\n",
       "       [65284.4,  5230. ,  2506.6],\n",
       "       [89338.8,  6224.8,  2246.6],\n",
       "       [55269.4,  4486. ,  1706.8],\n",
       "       [53823.6,  4025.6,  2775.4],\n",
       "       [77010. ,  6116.8,  2644.4],\n",
       "       [62764.8,  3700.2,  2924.8]])"
      ]
     },
     "execution_count": 81,
     "metadata": {},
     "output_type": "execute_result"
    }
   ],
   "source": [
    "# For each individual, view their average income, deductions and exemptions\n",
    "\n",
    "s = np.mean(a, axis=0)\n",
    "s"
   ]
  },
  {
   "cell_type": "markdown",
   "id": "8967762d-0b95-4347-9137-047145d2a9a6",
   "metadata": {},
   "source": [
    "## Task 3\n",
    "\n",
    "Imagine a 5D array where the dimensions represent taxpayers, tax years, income categories, deductions, and exemptions. Can you use NumPy to create a data cube that allows you to analyze tax data from multiple perspectives?\n",
    "\n",
    "In this example, we've used random integer values to populate the array. Each dimension corresponds to specific aspects of the data:\n",
    "\n",
    "- First dimension: Individuals (5 individuals)\n",
    "- Second dimension: Tax years (5 years)\n",
    "- Third dimension: Transaction types (2 types, e.g., stocks and real estate)\n",
    "- Fourth dimension: Income components (2 components, e.g., selling price and purchase price)\n",
    "- Fifth dimension: Deductions (2 deductions, e.g., transaction fees and capital improvement costs)\n",
    "\n",
    "Do the following:\n",
    "- View all stocks selling price from the first individual for the first year\n",
    "- View all real estate selling price from the first individual for the last year\n",
    "- For each individual, calculate total transaction fees for purchase price over the years"
   ]
  },
  {
   "cell_type": "code",
   "execution_count": 3,
   "id": "098c1ed9-a2dc-4eb5-bcb9-2b187db0ebe1",
   "metadata": {},
   "outputs": [
    {
     "name": "stdout",
     "output_type": "stream",
     "text": [
      "Shape:  (5, 5, 2, 2, 2)\n",
      "Dim:    5\n"
     ]
    }
   ],
   "source": [
    "with open('taxable_data_5d_task3.npy', 'rb') as f:\n",
    "    a = np.load(f)\n",
    "print(\"Shape: \", a.shape)\n",
    "print(\"Dim:   \", a.ndim)"
   ]
  },
  {
   "cell_type": "code",
   "execution_count": 6,
   "id": "5d042c00",
   "metadata": {},
   "outputs": [
    {
     "data": {
      "text/plain": [
       "array([2674, 9548], dtype=int64)"
      ]
     },
     "execution_count": 6,
     "metadata": {},
     "output_type": "execute_result"
    }
   ],
   "source": [
    "# a: View all stocks selling price from the first individual for the first year\n",
    "\n",
    "a[0,0,0,0,:]"
   ]
  },
  {
   "cell_type": "code",
   "execution_count": 7,
   "id": "d5987664",
   "metadata": {},
   "outputs": [
    {
     "data": {
      "text/plain": [
       "array([9586, 7813], dtype=int64)"
      ]
     },
     "execution_count": 7,
     "metadata": {},
     "output_type": "execute_result"
    }
   ],
   "source": [
    "# b: View all real estate selling price from the first individual for the last year\n",
    "\n",
    "a[0,-1,1,0,:]"
   ]
  },
  {
   "cell_type": "code",
   "execution_count": 9,
   "id": "1dbcb2e6",
   "metadata": {},
   "outputs": [
    {
     "data": {
      "text/plain": [
       "array([[ 6708,  9648,  8565,  5922, 10107],\n",
       "       [ 9129, 10609, 11273,  7891, 11326],\n",
       "       [10606, 15361, 16218,  8879,  8012],\n",
       "       [16262, 13636, 13018, 10572, 15576],\n",
       "       [12372,  6875, 15648, 15138,  6222]], dtype=int64)"
      ]
     },
     "execution_count": 9,
     "metadata": {},
     "output_type": "execute_result"
    }
   ],
   "source": [
    "# c: For each individual, calculate total transaction fees for purchase price over the years\n",
    "\n",
    "temp = a[:, #Individuals\n",
    "         :, #years\n",
    "         :, #Transaction types (2 types, e.g., stocks and real estate)\n",
    "         1, #Income components (purchase price)\n",
    "         0] #Deductions (transaction fees)\n",
    "\n",
    "np.sum(temp, axis=2)"
   ]
  },
  {
   "cell_type": "code",
   "execution_count": null,
   "id": "04d5bfc0",
   "metadata": {},
   "outputs": [],
   "source": []
  }
 ],
 "metadata": {
  "kernelspec": {
   "display_name": "Python 3 (ipykernel)",
   "language": "python",
   "name": "python3"
  },
  "language_info": {
   "codemirror_mode": {
    "name": "ipython",
    "version": 3
   },
   "file_extension": ".py",
   "mimetype": "text/x-python",
   "name": "python",
   "nbconvert_exporter": "python",
   "pygments_lexer": "ipython3",
   "version": "3.10.9"
  },
  "toc-showtags": false
 },
 "nbformat": 4,
 "nbformat_minor": 5
}
